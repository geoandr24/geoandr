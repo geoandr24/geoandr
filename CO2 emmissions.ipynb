{
 "cells": [
  {
   "cell_type": "code",
   "execution_count": 14,
   "id": "09ca2c81",
   "metadata": {},
   "outputs": [],
   "source": [
    "import pandas as pd\n",
    "df=pd.read_csv('greenhouse_gas_inventory_data.csv')"
   ]
  },
  {
   "cell_type": "code",
   "execution_count": 15,
   "id": "8a74d648",
   "metadata": {},
   "outputs": [
    {
     "data": {
      "text/html": [
       "<div>\n",
       "<style scoped>\n",
       "    .dataframe tbody tr th:only-of-type {\n",
       "        vertical-align: middle;\n",
       "    }\n",
       "\n",
       "    .dataframe tbody tr th {\n",
       "        vertical-align: top;\n",
       "    }\n",
       "\n",
       "    .dataframe thead th {\n",
       "        text-align: right;\n",
       "    }\n",
       "</style>\n",
       "<table border=\"1\" class=\"dataframe\">\n",
       "  <thead>\n",
       "    <tr style=\"text-align: right;\">\n",
       "      <th></th>\n",
       "      <th>country_or_area</th>\n",
       "      <th>year</th>\n",
       "      <th>value</th>\n",
       "      <th>value in Megatons</th>\n",
       "      <th>category</th>\n",
       "    </tr>\n",
       "  </thead>\n",
       "  <tbody>\n",
       "    <tr>\n",
       "      <th>0</th>\n",
       "      <td>Australia</td>\n",
       "      <td>1990</td>\n",
       "      <td>278265.89890</td>\n",
       "      <td>278.265899</td>\n",
       "      <td>carbon_dioxide_co2_emissions_without_land_use_...</td>\n",
       "    </tr>\n",
       "    <tr>\n",
       "      <th>1</th>\n",
       "      <td>Austria</td>\n",
       "      <td>1990</td>\n",
       "      <td>62297.16557</td>\n",
       "      <td>62.297166</td>\n",
       "      <td>carbon_dioxide_co2_emissions_without_land_use_...</td>\n",
       "    </tr>\n",
       "    <tr>\n",
       "      <th>2</th>\n",
       "      <td>Belarus</td>\n",
       "      <td>1990</td>\n",
       "      <td>100438.09510</td>\n",
       "      <td>100.438095</td>\n",
       "      <td>carbon_dioxide_co2_emissions_without_land_use_...</td>\n",
       "    </tr>\n",
       "    <tr>\n",
       "      <th>3</th>\n",
       "      <td>Belgium</td>\n",
       "      <td>1990</td>\n",
       "      <td>119982.50340</td>\n",
       "      <td>119.982503</td>\n",
       "      <td>carbon_dioxide_co2_emissions_without_land_use_...</td>\n",
       "    </tr>\n",
       "    <tr>\n",
       "      <th>4</th>\n",
       "      <td>Bulgaria</td>\n",
       "      <td>1990</td>\n",
       "      <td>78197.88126</td>\n",
       "      <td>78.197881</td>\n",
       "      <td>carbon_dioxide_co2_emissions_without_land_use_...</td>\n",
       "    </tr>\n",
       "    <tr>\n",
       "      <th>...</th>\n",
       "      <td>...</td>\n",
       "      <td>...</td>\n",
       "      <td>...</td>\n",
       "      <td>...</td>\n",
       "      <td>...</td>\n",
       "    </tr>\n",
       "    <tr>\n",
       "      <th>1069</th>\n",
       "      <td>Romania</td>\n",
       "      <td>2014</td>\n",
       "      <td>74046.46763</td>\n",
       "      <td>74.046468</td>\n",
       "      <td>carbon_dioxide_co2_emissions_without_land_use_...</td>\n",
       "    </tr>\n",
       "    <tr>\n",
       "      <th>1070</th>\n",
       "      <td>Slovakia</td>\n",
       "      <td>2014</td>\n",
       "      <td>33387.42872</td>\n",
       "      <td>33.387429</td>\n",
       "      <td>carbon_dioxide_co2_emissions_without_land_use_...</td>\n",
       "    </tr>\n",
       "    <tr>\n",
       "      <th>1071</th>\n",
       "      <td>Slovenia</td>\n",
       "      <td>2014</td>\n",
       "      <td>13489.98004</td>\n",
       "      <td>13.489980</td>\n",
       "      <td>carbon_dioxide_co2_emissions_without_land_use_...</td>\n",
       "    </tr>\n",
       "    <tr>\n",
       "      <th>1072</th>\n",
       "      <td>Spain</td>\n",
       "      <td>2014</td>\n",
       "      <td>253466.91800</td>\n",
       "      <td>253.466918</td>\n",
       "      <td>carbon_dioxide_co2_emissions_without_land_use_...</td>\n",
       "    </tr>\n",
       "    <tr>\n",
       "      <th>1073</th>\n",
       "      <td>Sweden</td>\n",
       "      <td>2014</td>\n",
       "      <td>43404.90317</td>\n",
       "      <td>43.404903</td>\n",
       "      <td>carbon_dioxide_co2_emissions_without_land_use_...</td>\n",
       "    </tr>\n",
       "  </tbody>\n",
       "</table>\n",
       "<p>1074 rows × 5 columns</p>\n",
       "</div>"
      ],
      "text/plain": [
       "     country_or_area  year         value  value in Megatons  \\\n",
       "0          Australia  1990  278265.89890         278.265899   \n",
       "1            Austria  1990   62297.16557          62.297166   \n",
       "2            Belarus  1990  100438.09510         100.438095   \n",
       "3            Belgium  1990  119982.50340         119.982503   \n",
       "4           Bulgaria  1990   78197.88126          78.197881   \n",
       "...              ...   ...           ...                ...   \n",
       "1069         Romania  2014   74046.46763          74.046468   \n",
       "1070        Slovakia  2014   33387.42872          33.387429   \n",
       "1071        Slovenia  2014   13489.98004          13.489980   \n",
       "1072           Spain  2014  253466.91800         253.466918   \n",
       "1073          Sweden  2014   43404.90317          43.404903   \n",
       "\n",
       "                                               category  \n",
       "0     carbon_dioxide_co2_emissions_without_land_use_...  \n",
       "1     carbon_dioxide_co2_emissions_without_land_use_...  \n",
       "2     carbon_dioxide_co2_emissions_without_land_use_...  \n",
       "3     carbon_dioxide_co2_emissions_without_land_use_...  \n",
       "4     carbon_dioxide_co2_emissions_without_land_use_...  \n",
       "...                                                 ...  \n",
       "1069  carbon_dioxide_co2_emissions_without_land_use_...  \n",
       "1070  carbon_dioxide_co2_emissions_without_land_use_...  \n",
       "1071  carbon_dioxide_co2_emissions_without_land_use_...  \n",
       "1072  carbon_dioxide_co2_emissions_without_land_use_...  \n",
       "1073  carbon_dioxide_co2_emissions_without_land_use_...  \n",
       "\n",
       "[1074 rows x 5 columns]"
      ]
     },
     "execution_count": 15,
     "metadata": {},
     "output_type": "execute_result"
    }
   ],
   "source": [
    "df"
   ]
  },
  {
   "cell_type": "code",
   "execution_count": 16,
   "id": "c7748ad3",
   "metadata": {},
   "outputs": [
    {
     "data": {
      "text/plain": [
       "country_or_area      0\n",
       "year                 0\n",
       "value                0\n",
       "value in Megatons    0\n",
       "category             0\n",
       "dtype: int64"
      ]
     },
     "execution_count": 16,
     "metadata": {},
     "output_type": "execute_result"
    }
   ],
   "source": [
    "df.isnull().sum()"
   ]
  },
  {
   "cell_type": "code",
   "execution_count": 17,
   "id": "536d2be6",
   "metadata": {},
   "outputs": [],
   "source": [
    "df=df.drop(\"value\",axis=1)"
   ]
  },
  {
   "cell_type": "code",
   "execution_count": 20,
   "id": "29f79b23",
   "metadata": {},
   "outputs": [],
   "source": [
    "df=df.rename(columns={'country_or_area':'country'})"
   ]
  },
  {
   "cell_type": "code",
   "execution_count": 24,
   "id": "99b1f1dd",
   "metadata": {},
   "outputs": [
    {
     "name": "stdout",
     "output_type": "stream",
     "text": [
      "                       country  year  value in Megatons\n",
      "1073  United States of America  2014        5556.006578\n",
      "1048            United Kingdom  2014         434.794557\n",
      "723                New Zealand  2014          35.616985\n",
      "199                     Cyprus  2014           6.878555\n",
      "898                   Slovenia  2014          13.489980\n",
      "...                        ...   ...                ...\n",
      "50                     Belarus  1990         100.438095\n",
      "749                     Poland  1990         378.782539\n",
      "350                    Germany  1990        1052.238234\n",
      "724                     Norway  1990          35.694824\n",
      "0                    Australia  1990         278.265899\n",
      "\n",
      "[1074 rows x 3 columns]\n"
     ]
    },
    {
     "data": {
      "text/html": [
       "<div>\n",
       "<style scoped>\n",
       "    .dataframe tbody tr th:only-of-type {\n",
       "        vertical-align: middle;\n",
       "    }\n",
       "\n",
       "    .dataframe tbody tr th {\n",
       "        vertical-align: top;\n",
       "    }\n",
       "\n",
       "    .dataframe thead th {\n",
       "        text-align: right;\n",
       "    }\n",
       "</style>\n",
       "<table border=\"1\" class=\"dataframe\">\n",
       "  <thead>\n",
       "    <tr style=\"text-align: right;\">\n",
       "      <th></th>\n",
       "      <th>country</th>\n",
       "      <th>year</th>\n",
       "      <th>value in Megatons</th>\n",
       "    </tr>\n",
       "  </thead>\n",
       "  <tbody>\n",
       "    <tr>\n",
       "      <th>1073</th>\n",
       "      <td>United States of America</td>\n",
       "      <td>2014</td>\n",
       "      <td>5556.006578</td>\n",
       "    </tr>\n",
       "    <tr>\n",
       "      <th>1048</th>\n",
       "      <td>United Kingdom</td>\n",
       "      <td>2014</td>\n",
       "      <td>434.794557</td>\n",
       "    </tr>\n",
       "    <tr>\n",
       "      <th>723</th>\n",
       "      <td>New Zealand</td>\n",
       "      <td>2014</td>\n",
       "      <td>35.616985</td>\n",
       "    </tr>\n",
       "    <tr>\n",
       "      <th>199</th>\n",
       "      <td>Cyprus</td>\n",
       "      <td>2014</td>\n",
       "      <td>6.878555</td>\n",
       "    </tr>\n",
       "    <tr>\n",
       "      <th>898</th>\n",
       "      <td>Slovenia</td>\n",
       "      <td>2014</td>\n",
       "      <td>13.489980</td>\n",
       "    </tr>\n",
       "    <tr>\n",
       "      <th>174</th>\n",
       "      <td>Croatia</td>\n",
       "      <td>2014</td>\n",
       "      <td>17.607322</td>\n",
       "    </tr>\n",
       "    <tr>\n",
       "      <th>574</th>\n",
       "      <td>Liechtenstein</td>\n",
       "      <td>2014</td>\n",
       "      <td>0.161542</td>\n",
       "    </tr>\n",
       "    <tr>\n",
       "      <th>499</th>\n",
       "      <td>Italy</td>\n",
       "      <td>2014</td>\n",
       "      <td>342.826677</td>\n",
       "    </tr>\n",
       "    <tr>\n",
       "      <th>698</th>\n",
       "      <td>Netherlands</td>\n",
       "      <td>2014</td>\n",
       "      <td>157.789582</td>\n",
       "    </tr>\n",
       "    <tr>\n",
       "      <th>923</th>\n",
       "      <td>Spain</td>\n",
       "      <td>2014</td>\n",
       "      <td>253.466918</td>\n",
       "    </tr>\n",
       "  </tbody>\n",
       "</table>\n",
       "</div>"
      ],
      "text/plain": [
       "                       country  year  value in Megatons\n",
       "1073  United States of America  2014        5556.006578\n",
       "1048            United Kingdom  2014         434.794557\n",
       "723                New Zealand  2014          35.616985\n",
       "199                     Cyprus  2014           6.878555\n",
       "898                   Slovenia  2014          13.489980\n",
       "174                    Croatia  2014          17.607322\n",
       "574              Liechtenstein  2014           0.161542\n",
       "499                      Italy  2014         342.826677\n",
       "698                Netherlands  2014         157.789582\n",
       "923                      Spain  2014         253.466918"
      ]
     },
     "execution_count": 24,
     "metadata": {},
     "output_type": "execute_result"
    }
   ],
   "source": [
    "df_countries=df.groupby(['country','year']).sum().reset_index().sort_values('year',ascending=False)\n",
    "print(df_countries)\n",
    "start_year=1990\n",
    "last_year=2014\n",
    "mask=(df_countries['year']>start_year) & (df_countries['year']<=last_year)\n",
    "df_countries=df_countries.loc[mask]\n",
    "df_countries.head(10)"
   ]
  },
  {
   "cell_type": "code",
   "execution_count": 19,
   "id": "51f195fc",
   "metadata": {},
   "outputs": [],
   "source": [
    "import plotly.express as px\n",
    "import plotly.graph_objs as go\n",
    "from plotly.subplots import make_subplots\n",
    "from plotly.offline import download_plotlyjs, init_notebook_mode, plot, iplot"
   ]
  },
  {
   "cell_type": "code",
   "execution_count": 29,
   "id": "a74c5b33",
   "metadata": {},
   "outputs": [
    {
     "data": {
      "application/vnd.plotly.v1+json": {
       "config": {
        "plotlyServerURL": "https://plot.ly"
       },
       "data": [
        {
         "colorscale": [
          [
           0,
           "rgb(247,252,245)"
          ],
          [
           0.125,
           "rgb(229,245,224)"
          ],
          [
           0.25,
           "rgb(199,233,192)"
          ],
          [
           0.375,
           "rgb(161,217,155)"
          ],
          [
           0.5,
           "rgb(116,196,118)"
          ],
          [
           0.625,
           "rgb(65,171,93)"
          ],
          [
           0.75,
           "rgb(35,139,69)"
          ],
          [
           0.875,
           "rgb(0,109,44)"
          ],
          [
           1,
           "rgb(0,68,27)"
          ]
         ],
         "locationmode": "country names",
         "locations": [
          "United States of America",
          "United Kingdom",
          "New Zealand",
          "Cyprus",
          "Slovenia",
          "Croatia",
          "Liechtenstein",
          "Italy",
          "Netherlands",
          "Spain",
          "Canada",
          "Greece",
          "Austria",
          "Ukraine",
          "Sweden",
          "Bulgaria",
          "Hungary",
          "Malta",
          "Switzerland",
          "Belgium",
          "Lithuania",
          "Ireland",
          "Iceland",
          "Luxembourg",
          "Turkey",
          "Slovakia",
          "Germany",
          "Belarus",
          "Czech Republic",
          "Latvia",
          "France",
          "Japan",
          "Romania",
          "Finland",
          "Norway",
          "Poland",
          "Russian Federation",
          "European Union",
          "Estonia",
          "Australia",
          "Portugal",
          "Denmark",
          "Poland",
          "Switzerland",
          "Estonia",
          "Iceland",
          "European Union",
          "Romania",
          "Luxembourg",
          "Turkey",
          "Hungary",
          "Belgium",
          "Bulgaria",
          "Malta",
          "Slovakia",
          "Denmark",
          "Sweden",
          "France",
          "Cyprus",
          "New Zealand",
          "Germany",
          "Slovenia",
          "Czech Republic",
          "Belarus",
          "Croatia",
          "Norway",
          "Russian Federation",
          "Netherlands",
          "Spain",
          "Greece",
          "Canada",
          "Finland",
          "Monaco",
          "Portugal",
          "Lithuania",
          "Latvia",
          "United States of America",
          "Japan",
          "Ukraine",
          "United Kingdom",
          "Ireland",
          "Liechtenstein",
          "Austria",
          "Australia",
          "Italy",
          "Monaco",
          "Czech Republic",
          "Australia",
          "Japan",
          "Portugal",
          "Russian Federation",
          "Austria",
          "Sweden",
          "Ukraine",
          "Finland",
          "Canada",
          "Belarus",
          "Spain",
          "Norway",
          "Greece",
          "Malta",
          "France",
          "Netherlands",
          "Italy",
          "Slovakia",
          "Croatia",
          "Liechtenstein",
          "Slovenia",
          "United Kingdom",
          "Germany",
          "Cyprus",
          "New Zealand",
          "Bulgaria",
          "Hungary",
          "Estonia",
          "Denmark",
          "Switzerland",
          "Romania",
          "Ireland",
          "United States of America",
          "Iceland",
          "Latvia",
          "Poland",
          "European Union",
          "Lithuania",
          "Turkey",
          "Belgium",
          "Luxembourg",
          "Luxembourg",
          "Norway",
          "Greece",
          "France",
          "European Union",
          "Spain",
          "Netherlands",
          "Malta",
          "Slovakia",
          "Croatia",
          "Estonia",
          "Denmark",
          "Liechtenstein",
          "Ireland",
          "United States of America",
          "Slovenia",
          "Portugal",
          "United Kingdom",
          "Turkey",
          "Germany",
          "Cyprus",
          "Belarus",
          "Belgium",
          "Italy",
          "New Zealand",
          "Finland",
          "Japan",
          "Iceland",
          "Hungary",
          "Latvia",
          "Czech Republic",
          "Ukraine",
          "Russian Federation",
          "Bulgaria",
          "Switzerland",
          "Sweden",
          "Monaco",
          "Romania",
          "Australia",
          "Poland",
          "Lithuania",
          "Canada",
          "Austria",
          "Latvia",
          "United Kingdom",
          "Poland",
          "Cyprus",
          "Denmark",
          "Finland",
          "Czech Republic",
          "New Zealand",
          "Estonia",
          "Portugal",
          "European Union",
          "Japan",
          "Australia",
          "Slovakia",
          "France",
          "Norway",
          "Romania",
          "United States of America",
          "Russian Federation",
          "Liechtenstein",
          "Ukraine",
          "Greece",
          "Austria",
          "Canada",
          "Italy",
          "Hungary",
          "Sweden",
          "Bulgaria",
          "Malta",
          "Iceland",
          "Switzerland",
          "Lithuania",
          "Belgium",
          "Luxembourg",
          "Ireland",
          "Turkey",
          "Belarus",
          "Spain",
          "Monaco",
          "Netherlands",
          "Slovenia",
          "Croatia",
          "Germany",
          "Latvia",
          "Italy",
          "Greece",
          "Malta",
          "Iceland",
          "Slovenia",
          "Switzerland",
          "Lithuania",
          "United Kingdom",
          "Romania",
          "Denmark",
          "Finland",
          "United States of America",
          "Belgium",
          "Belarus",
          "Germany",
          "European Union",
          "Portugal",
          "Luxembourg",
          "Estonia",
          "Ireland",
          "Turkey",
          "Cyprus",
          "Poland",
          "New Zealand",
          "Hungary",
          "Croatia",
          "Netherlands",
          "Czech Republic",
          "Austria",
          "Japan",
          "Slovakia",
          "Canada",
          "Monaco",
          "Australia",
          "Norway",
          "Spain",
          "Russian Federation",
          "Sweden",
          "France",
          "Ukraine",
          "Liechtenstein",
          "Bulgaria",
          "Portugal",
          "Ireland",
          "Luxembourg",
          "Norway",
          "Germany",
          "Netherlands",
          "France",
          "Japan",
          "Finland",
          "Latvia",
          "European Union",
          "Poland",
          "Monaco",
          "Hungary",
          "Liechtenstein",
          "Iceland",
          "Malta",
          "New Zealand",
          "Lithuania",
          "Italy",
          "Greece",
          "Estonia",
          "Denmark",
          "Turkey",
          "Russian Federation",
          "Slovakia",
          "Cyprus",
          "Austria",
          "Ukraine",
          "United Kingdom",
          "Australia",
          "Slovenia",
          "Croatia",
          "Romania",
          "Spain",
          "Belarus",
          "Canada",
          "Czech Republic",
          "Belgium",
          "Sweden",
          "United States of America",
          "Switzerland",
          "Bulgaria",
          "Canada",
          "New Zealand",
          "Malta",
          "Belgium",
          "Cyprus",
          "Austria",
          "Slovakia",
          "France",
          "United Kingdom",
          "Liechtenstein",
          "Switzerland",
          "Norway",
          "Bulgaria",
          "Italy",
          "Turkey",
          "Germany",
          "Slovenia",
          "Croatia",
          "Lithuania",
          "Netherlands",
          "Czech Republic",
          "Greece",
          "Sweden",
          "Belarus",
          "Spain",
          "Luxembourg",
          "Hungary",
          "Ireland",
          "Monaco",
          "Ukraine",
          "Iceland",
          "Denmark",
          "United States of America",
          "Finland",
          "Romania",
          "European Union",
          "Latvia",
          "Australia",
          "Russian Federation",
          "Portugal",
          "Estonia",
          "Poland",
          "Japan",
          "Denmark",
          "Ukraine",
          "Netherlands",
          "Canada",
          "Belarus",
          "Greece",
          "Croatia",
          "Spain",
          "Romania",
          "United States of America",
          "Lithuania",
          "Ireland",
          "Turkey",
          "Slovenia",
          "Monaco",
          "Luxembourg",
          "Hungary",
          "European Union",
          "Sweden",
          "Latvia",
          "Bulgaria",
          "Belgium",
          "Malta",
          "Portugal",
          "Estonia",
          "Switzerland",
          "Iceland",
          "Poland",
          "Czech Republic",
          "Austria",
          "United Kingdom",
          "Japan",
          "Cyprus",
          "Slovakia",
          "Finland",
          "New Zealand",
          "Russian Federation",
          "Italy",
          "France",
          "Germany",
          "Liechtenstein",
          "Australia",
          "Norway",
          "Malta",
          "Austria",
          "Ireland",
          "Luxembourg",
          "Iceland",
          "Russian Federation",
          "Hungary",
          "Liechtenstein",
          "Slovakia",
          "European Union",
          "Sweden",
          "United Kingdom",
          "Turkey",
          "Norway",
          "Latvia",
          "Slovenia",
          "Bulgaria",
          "Belgium",
          "France",
          "Portugal",
          "Monaco",
          "Poland",
          "Greece",
          "Netherlands",
          "Italy",
          "Ukraine",
          "Germany",
          "Belarus",
          "Switzerland",
          "Estonia",
          "New Zealand",
          "Australia",
          "Spain",
          "Croatia",
          "Finland",
          "Denmark",
          "Romania",
          "United States of America",
          "Cyprus",
          "Canada",
          "Lithuania",
          "Japan",
          "Czech Republic",
          "Liechtenstein",
          "Italy",
          "Lithuania",
          "Japan",
          "Belarus",
          "Belgium",
          "Turkey",
          "United Kingdom",
          "Austria",
          "Australia",
          "United States of America",
          "Luxembourg",
          "Ireland",
          "Ukraine",
          "Latvia",
          "Iceland",
          "Norway",
          "Greece",
          "Netherlands",
          "Croatia",
          "Slovenia",
          "New Zealand",
          "Cyprus",
          "Slovakia",
          "France",
          "Czech Republic",
          "Canada",
          "Russian Federation",
          "Denmark",
          "Finland",
          "Poland",
          "Romania",
          "Estonia",
          "European Union",
          "Portugal",
          "Spain",
          "Germany",
          "Sweden",
          "Bulgaria",
          "Hungary",
          "Switzerland",
          "Malta",
          "Monaco",
          "United Kingdom",
          "Czech Republic",
          "France",
          "Russian Federation",
          "Norway",
          "Sweden",
          "Turkey",
          "Liechtenstein",
          "Japan",
          "Slovakia",
          "Belgium",
          "Latvia",
          "Denmark",
          "Switzerland",
          "Finland",
          "Poland",
          "Australia",
          "United States of America",
          "Romania",
          "Estonia",
          "Malta",
          "European Union",
          "Portugal",
          "Bulgaria",
          "Austria",
          "Luxembourg",
          "Italy",
          "Spain",
          "Croatia",
          "Netherlands",
          "Greece",
          "Ireland",
          "Monaco",
          "Lithuania",
          "Belarus",
          "Ukraine",
          "Slovenia",
          "Iceland",
          "Canada",
          "Germany",
          "New Zealand",
          "Hungary",
          "Cyprus",
          "Netherlands",
          "Ukraine",
          "Sweden",
          "Malta",
          "Portugal",
          "Russian Federation",
          "Turkey",
          "Slovenia",
          "Luxembourg",
          "United States of America",
          "Norway",
          "New Zealand",
          "Spain",
          "Monaco",
          "Liechtenstein",
          "Poland",
          "Slovakia",
          "Lithuania",
          "Switzerland",
          "United Kingdom",
          "Romania",
          "Latvia",
          "Ireland",
          "Belgium",
          "Cyprus",
          "Canada",
          "Finland",
          "Hungary",
          "Bulgaria",
          "Greece",
          "Japan",
          "Italy",
          "Belarus",
          "Germany",
          "Estonia",
          "Denmark",
          "France",
          "Croatia",
          "Czech Republic",
          "Australia",
          "European Union",
          "Iceland",
          "Austria",
          "Hungary",
          "Greece",
          "Czech Republic",
          "Slovenia",
          "Italy",
          "Lithuania",
          "Slovakia",
          "Netherlands",
          "Sweden",
          "Australia",
          "United States of America",
          "Canada",
          "Belarus",
          "Cyprus",
          "Luxembourg",
          "Ireland",
          "Monaco",
          "Ukraine",
          "Spain",
          "Croatia",
          "Iceland",
          "New Zealand",
          "Malta",
          "Germany",
          "Russian Federation",
          "European Union",
          "Portugal",
          "Latvia",
          "Romania",
          "Belgium",
          "Turkey",
          "Estonia",
          "Finland",
          "Poland",
          "Austria",
          "Liechtenstein",
          "Japan",
          "United Kingdom",
          "Switzerland",
          "France",
          "Denmark",
          "Norway",
          "Bulgaria",
          "Romania",
          "Monaco",
          "Norway",
          "Ukraine",
          "Spain",
          "Netherlands",
          "Denmark",
          "Croatia",
          "Iceland",
          "Germany",
          "Slovakia",
          "Portugal",
          "Estonia",
          "Slovenia",
          "Finland",
          "Czech Republic",
          "Hungary",
          "Cyprus",
          "United Kingdom",
          "Greece",
          "Poland",
          "Malta",
          "Austria",
          "Belarus",
          "Russian Federation",
          "France",
          "New Zealand",
          "European Union",
          "Turkey",
          "United States of America",
          "Bulgaria",
          "Switzerland",
          "Liechtenstein",
          "Lithuania",
          "Italy",
          "Belgium",
          "Canada",
          "Australia",
          "Sweden",
          "Luxembourg",
          "Ireland",
          "Japan",
          "Latvia",
          "Belarus",
          "New Zealand",
          "Belgium",
          "Netherlands",
          "Canada",
          "Japan",
          "Greece",
          "Turkey",
          "Czech Republic",
          "Italy",
          "Latvia",
          "Malta",
          "Lithuania",
          "Slovakia",
          "Poland",
          "United States of America",
          "Switzerland",
          "Germany",
          "Estonia",
          "Liechtenstein",
          "Austria",
          "Denmark",
          "Australia",
          "Norway",
          "Croatia",
          "Bulgaria",
          "Russian Federation",
          "France",
          "Slovenia",
          "Finland",
          "Sweden",
          "United Kingdom",
          "Portugal",
          "Ukraine",
          "Spain",
          "Ireland",
          "Iceland",
          "European Union",
          "Luxembourg",
          "Hungary",
          "Monaco",
          "Cyprus",
          "Romania",
          "Denmark",
          "Switzerland",
          "Cyprus",
          "Romania",
          "Germany",
          "Ireland",
          "Estonia",
          "Liechtenstein",
          "Malta",
          "Austria",
          "Sweden",
          "Canada",
          "Slovakia",
          "Spain",
          "Australia",
          "Norway",
          "Slovenia",
          "Russian Federation",
          "Portugal",
          "Bulgaria",
          "Japan",
          "European Union",
          "France",
          "Poland",
          "Latvia",
          "Monaco",
          "Belarus",
          "Czech Republic",
          "Hungary",
          "Croatia",
          "Netherlands",
          "Ukraine",
          "Luxembourg",
          "Greece",
          "United Kingdom",
          "Iceland",
          "Italy",
          "Lithuania",
          "Belgium",
          "Finland",
          "New Zealand",
          "United States of America",
          "Turkey",
          "Finland",
          "Portugal",
          "Latvia",
          "Belgium",
          "Russian Federation",
          "Turkey",
          "European Union",
          "Bulgaria",
          "Romania",
          "Estonia",
          "Poland",
          "Liechtenstein",
          "United Kingdom",
          "Croatia",
          "France",
          "Hungary",
          "Italy",
          "Japan",
          "Canada",
          "Netherlands",
          "Slovenia",
          "Luxembourg",
          "Cyprus",
          "Monaco",
          "Czech Republic",
          "Ireland",
          "Spain",
          "Sweden",
          "Ukraine",
          "Iceland",
          "United States of America",
          "Malta",
          "Greece",
          "Lithuania",
          "Australia",
          "Belarus",
          "New Zealand",
          "Norway",
          "Switzerland",
          "Germany",
          "Slovakia",
          "Austria",
          "Denmark",
          "Czech Republic",
          "Russian Federation",
          "Croatia",
          "Ukraine",
          "Sweden",
          "Denmark",
          "Estonia",
          "European Union",
          "Spain",
          "Turkey",
          "Cyprus",
          "Belarus",
          "Slovakia",
          "Slovenia",
          "Switzerland",
          "Bulgaria",
          "Canada",
          "Romania",
          "United Kingdom",
          "Poland",
          "Norway",
          "Germany",
          "Austria",
          "New Zealand",
          "Greece",
          "Netherlands",
          "Portugal",
          "Monaco",
          "United States of America",
          "Iceland",
          "Malta",
          "Ireland",
          "Luxembourg",
          "Italy",
          "Lithuania",
          "Australia",
          "Japan",
          "Liechtenstein",
          "Latvia",
          "France",
          "Hungary",
          "Belgium",
          "Finland",
          "Romania",
          "Malta",
          "Iceland",
          "United States of America",
          "Monaco",
          "Cyprus",
          "Hungary",
          "Sweden",
          "Netherlands",
          "Slovenia",
          "Greece",
          "Czech Republic",
          "Austria",
          "New Zealand",
          "Croatia",
          "Ireland",
          "Slovakia",
          "European Union",
          "Portugal",
          "Latvia",
          "Australia",
          "Turkey",
          "Bulgaria",
          "Liechtenstein",
          "Japan",
          "Luxembourg",
          "Lithuania",
          "Switzerland",
          "Canada",
          "United Kingdom",
          "Italy",
          "Ukraine",
          "Germany",
          "Belgium",
          "Spain",
          "Estonia",
          "Denmark",
          "France",
          "Finland",
          "Russian Federation",
          "Norway",
          "Belarus",
          "Poland",
          "Monaco",
          "Spain",
          "United States of America",
          "Romania",
          "Luxembourg",
          "Cyprus",
          "Malta",
          "France",
          "Croatia",
          "Sweden",
          "Ireland",
          "United Kingdom",
          "Iceland",
          "Italy",
          "Portugal",
          "Bulgaria",
          "Poland",
          "Latvia",
          "Belgium",
          "Australia",
          "Liechtenstein",
          "Turkey",
          "Estonia",
          "Russian Federation",
          "European Union",
          "Japan",
          "Lithuania",
          "Switzerland",
          "Ukraine",
          "Canada",
          "Norway",
          "Germany",
          "Denmark",
          "Finland",
          "Austria",
          "Greece",
          "Hungary",
          "Czech Republic",
          "Slovenia",
          "Netherlands",
          "New Zealand",
          "Slovakia",
          "Belarus",
          "Monaco",
          "Cyprus",
          "France",
          "Belgium",
          "United Kingdom",
          "Bulgaria",
          "New Zealand",
          "Czech Republic",
          "Luxembourg",
          "Estonia",
          "Italy",
          "Slovakia",
          "Turkey",
          "Russian Federation",
          "Hungary",
          "Canada",
          "Denmark",
          "Greece",
          "Ukraine",
          "Norway",
          "Japan",
          "Switzerland",
          "European Union",
          "Sweden",
          "Lithuania",
          "Ireland",
          "Latvia",
          "Netherlands",
          "Poland",
          "United States of America",
          "Iceland",
          "Australia",
          "Romania",
          "Liechtenstein",
          "Portugal",
          "Germany",
          "Finland",
          "Malta",
          "Slovenia",
          "Croatia",
          "Spain",
          "Austria",
          "Belarus",
          "Australia",
          "Japan",
          "Lithuania",
          "Liechtenstein",
          "Estonia",
          "Latvia",
          "New Zealand",
          "Bulgaria",
          "Finland",
          "Belgium",
          "Denmark",
          "Turkey",
          "Norway",
          "Slovenia",
          "Iceland",
          "Sweden",
          "Ireland",
          "Malta",
          "Slovakia",
          "Romania",
          "Germany",
          "Netherlands",
          "Austria",
          "Monaco",
          "United Kingdom",
          "Spain",
          "United States of America",
          "Cyprus",
          "Hungary",
          "European Union",
          "Croatia",
          "France",
          "Greece",
          "Portugal",
          "Poland",
          "Czech Republic",
          "Luxembourg",
          "Italy",
          "Russian Federation",
          "Canada",
          "Belarus",
          "Ukraine",
          "Switzerland",
          "Ukraine",
          "United Kingdom",
          "United States of America",
          "Austria",
          "Belgium",
          "Belarus",
          "Australia",
          "Denmark",
          "Finland",
          "France",
          "Slovakia",
          "Luxembourg",
          "Greece",
          "Ireland",
          "Russian Federation",
          "Hungary",
          "Monaco",
          "Estonia",
          "Malta",
          "Romania",
          "Iceland",
          "European Union",
          "Poland",
          "Portugal",
          "Czech Republic",
          "Slovenia",
          "Norway",
          "Japan",
          "Latvia",
          "Bulgaria",
          "New Zealand",
          "Netherlands",
          "Switzerland",
          "Liechtenstein",
          "Canada",
          "Sweden",
          "Germany",
          "Croatia",
          "Spain",
          "Lithuania",
          "Italy",
          "Cyprus",
          "Turkey"
         ],
         "marker": {
          "line": {
           "color": "black"
          }
         },
         "type": "choropleth",
         "z": [
          5556.006578,
          434.7945569,
          35.61698531,
          6.878555309,
          13.48998004,
          17.60732241,
          0.161541817,
          342.8266771,
          157.7895817,
          253.466918,
          574.0997755,
          79.6282744,
          64.26256399,
          247.561221,
          43.40490317,
          45.13995529,
          43.57340884,
          2.483536786,
          39.26505259,
          96.32541318,
          12.73279886,
          36.55906858,
          3.272208233,
          9.826253278,
          382.2134017,
          33.38742872,
          792.902788,
          60.61564573,
          101.1591222,
          7.158718037,
          341.1525315,
          1265.490609,
          74.04646763,
          47.59773353,
          43.86945109,
          310.3072974,
          1671.568652,
          3463.397564,
          18.91871534,
          393.126947,
          48.35369033,
          37.46065646,
          322.4404865,
          43.18165944,
          19.56636837,
          3.301796314,
          3646.389525,
          74.08335824,
          10.30303961,
          354.9610423,
          43.93087818,
          101.7447367,
          42.5349272,
          2.476074429,
          35.39515486,
          41.53703581,
          44.89915194,
          369.9855945,
          6.449610812,
          35.09428674,
          835.7926323,
          15.14872538,
          106.4770887,
          61.51098715,
          18.35949984,
          44.30905597,
          1666.644423,
          165.4758844,
          252.2596905,
          82.91062596,
          573.0940388,
          51.83469674,
          0.07443092,
          48.49555048,
          12.98781753,
          7.353220444,
          5502.550714,
          1311.509149,
          287.4364044,
          475.8320506,
          37.04942383,
          0.192864416,
          67.95712111,
          396.9139365,
          362.0636493,
          0.075165569,
          109.8413289,
          406.4628477,
          1296.186358,
          50.26242244,
          1727.489104,
          67.69865863,
          46.55964002,
          295.7060643,
          50.98327288,
          563.4236132,
          60.63685139,
          279.8303083,
          44.55396566,
          90.71057425,
          2.868638128,
          370.4911537,
          165.6650238,
          389.3407634,
          35.86789627,
          18.77638135,
          0.185632431,
          15.80018724,
          484.3880904,
          817.0314402,
          7.160971876,
          35.62102602,
          48.11755608,
          46.77494485,
          17.30463723,
          39.52440203,
          42.24155361,
          84.66123054,
          38.03161872,
          5349.220947,
          3.290576431,
          7.521122528,
          326.5977905,
          3728.965031,
          13.97552321,
          363.1260072,
          100.9315956,
          10.87206448,
          11.16851167,
          44.94686935,
          94.10294398,
          368.1834384,
          3789.763641,
          283.9186792,
          169.7921365,
          2.785896568,
          37.88085315,
          20.61444047,
          18.44993086,
          43.97078926,
          0.17708804,
          37.89519543,
          5559.507664,
          16.34823911,
          52.15065344,
          464.8857489,
          338.0944082,
          812.4832196,
          7.696667805,
          61.12840059,
          104.9457138,
          416.4995342,
          34.36658268,
          56.47874559,
          1261.862938,
          3.29856769,
          50.2728651,
          7.80765941,
          114.1131467,
          301.2735022,
          1717.221951,
          53.02098112,
          40.97314917,
          49.13358694,
          0.071881895,
          86.16363433,
          403.7055283,
          333.7136507,
          13.9190155,
          558.1527229,
          70.32716704,
          8.524087227,
          507.595712,
          334.0261547,
          8.004912021,
          48.99341738,
          63.82801823,
          115.7573686,
          35.01724135,
          17.83377961,
          53.58388586,
          3933.290522,
          1212.970225,
          406.2009932,
          38.38594252,
          394.2356741,
          45.83389207,
          80.79577403,
          5688.756005,
          1662.592259,
          0.191047502,
          287.1136064,
          97.03508276,
          72.53182613,
          555.0037603,
          428.8796812,
          52.10889276,
          53.05773463,
          47.67864896,
          2.690518035,
          3.383552219,
          45.02706448,
          13.61891266,
          114.1553867,
          11.28502742,
          41.55827509,
          320.356659,
          61.6324927,
          283.5814007,
          0.075468265,
          182.5297869,
          16.36342977,
          21.18370931,
          832.2592033,
          7.443286011,
          418.8810769,
          103.9697843,
          2.684521293,
          3.52189071,
          16.32821033,
          43.50908656,
          12.72712004,
          489.0125005,
          85.28829402,
          48.59221139,
          55.63558277,
          5488.32028,
          107.2825435,
          59.59620538,
          788.4224379,
          3814.305258,
          58.00419697,
          10.72552213,
          14.15300516,
          41.99632468,
          310.580701,
          8.372396592,
          315.9379659,
          34.80640209,
          51.63069002,
          21.96563527,
          170.7961566,
          113.9700292,
          67.68272515,
          1162.606192,
          37.43343342,
          542.8294589,
          0.077771936,
          408.448479,
          43.21209247,
          296.617991,
          1576.703967,
          47.26744667,
          383.9576243,
          269.5984218,
          0.205590544,
          45.48787355,
          60.5500402,
          47.17554027,
          11.24587249,
          44.89309419,
          853.2299408,
          176.1744184,
          401.8788647,
          1235.45581,
          58.46163302,
          8.184971247,
          4149.624296,
          329.3381711,
          0.081376901,
          57.32516233,
          0.219698915,
          3.56720926,
          2.822406167,
          37.67405177,
          14.96325472,
          467.9335932,
          110.2557655,
          17.26452003,
          50.93567153,
          323.5365451,
          1684.999823,
          41.23632404,
          8.620395582,
          74.06625579,
          317.0638437,
          539.9161632,
          404.2378282,
          18.21973043,
          23.71538432,
          101.0354208,
          335.9948037,
          63.84610379,
          577.4449302,
          121.7807163,
          120.3626098,
          50.83157681,
          5923.201376,
          44.67694397,
          53.65514017,
          596.041322,
          36.65137149,
          2.831642265,
          118.0274086,
          8.458664261,
          74.26811072,
          40.72529984,
          408.5085899,
          553.719939,
          0.200920108,
          43.3603857,
          45.84280953,
          55.1844241,
          478.2377112,
          333.1664187,
          850.7957208,
          17.27237919,
          24.95537593,
          15.62407634,
          173.1784204,
          126.933163,
          114.1275543,
          52.91172673,
          61.56388173,
          367.2922833,
          11.39870592,
          58.41903917,
          47.49312668,
          0.082719192,
          330.0872508,
          3.236895337,
          54.42908517,
          6121.653863,
          66.53172081,
          104.5403509,
          4244.213129,
          8.610255397,
          398.8164535,
          1653.139056,
          62.79114777,
          18.75564793,
          336.2681109,
          1319.799194,
          59.16249963,
          325.586622,
          172.7728928,
          573.4792697,
          62.22939888,
          111.7777437,
          23.68493503,
          360.0633363,
          106.1759911,
          6042.393615,
          14.30303268,
          47.40596673,
          302.1959546,
          17.12980199,
          0.082123918,
          11.99582017,
          59.75173108,
          4297.988162,
          53.69765593,
          8.289206678,
          51.44628294,
          122.3195938,
          2.776314307,
          65.46541972,
          15.71952893,
          45.351172,
          2.939276597,
          336.5005789,
          125.9234024,
          76.93495153,
          562.0830948,
          1285.177837,
          8.152492308,
          42.32048448,
          68.201906,
          37.51910473,
          1653.289193,
          486.5940666,
          417.6626789,
          877.4224569,
          0.231217305,
          391.1341009,
          43.91374482,
          2.736312934,
          79.58850188,
          47.95220439,
          12.13091379,
          2.797314592,
          1593.933344,
          60.32950501,
          0.228970324,
          42.5810225,
          4290.586668,
          53.85920573,
          563.7835376,
          279.1307408,
          43.54823029,
          7.790403932,
          16.93832426,
          50.19111606,
          125.1180165,
          428.5576102,
          70.03452941,
          0.088750691,
          323.3725784,
          113.2198224,
          177.5404732,
          490.9142629,
          307.3414835,
          865.9585134,
          59.66473908,
          45.77808946,
          16.33073383,
          37.6454343,
          385.5811328,
          368.7450684,
          23.45184585,
          56.91231489,
          51.30724452,
          102.4142524,
          6122.746612,
          7.961983989,
          579.2253357,
          13.9468843,
          1305.938824,
          124.5901379,
          0.229296322,
          492.7462556,
          13.18549337,
          1298.433888,
          58.45764762,
          128.6404835,
          253.1720784,
          566.598164,
          78.38899743,
          381.5192616,
          6096.978363,
          11.87110772,
          46.04240225,
          296.7537315,
          7.709460762,
          2.837029011,
          44.32000488,
          109.5710609,
          181.546257,
          23.00523485,
          16.6391711,
          36.06366333,
          7.776909405,
          42.57695889,
          423.1686361,
          126.8769162,
          585.4148606,
          1575.18086,
          54.91691056,
          68.82181289,
          324.2794498,
          104.5750778,
          17.05507425,
          4314.560871,
          67.45815914,
          353.4726123,
          886.3446297,
          56.42880314,
          49.17033769,
          60.23166198,
          45.14966709,
          2.604744832,
          0.090200504,
          565.4755203,
          126.1516488,
          422.3128845,
          1568.510143,
          43.90670966,
          57.20359907,
          240.9024629,
          0.229265875,
          1299.490609,
          42.06055025,
          127.5239897,
          7.703771508,
          60.49396172,
          44.58798027,
          72.52259019,
          320.2301705,
          368.3459774,
          5982.289167,
          105.737481,
          16.83321429,
          2.666134325,
          4306.103945,
          64.69729922,
          49.97115158,
          78.0239539,
          10.44338322,
          489.5955081,
          336.6724225,
          23.3552211,
          179.867889,
          109.1265676,
          45.55432252,
          0.095298855,
          12.6052382,
          54.84514584,
          285.7204799,
          16.2893859,
          2.792723132,
          587.3066785,
          900.3775854,
          36.49717101,
          61.7668396,
          7.550081928,
          176.4624006,
          281.9393497,
          56.63189617,
          2.464212229,
          69.95449452,
          1531.200212,
          226.365412,
          16.52631271,
          10.06814032,
          5935.738784,
          42.65587483,
          34.76827818,
          332.2008428,
          0.098161276,
          0.219947205,
          307.5356422,
          41.59353325,
          12.61442501,
          43.37398555,
          554.2276358,
          100.6553131,
          7.508743242,
          45.95273017,
          126.0151947,
          7.160388458,
          569.8621456,
          64.94646821,
          58.96822777,
          45.78629472,
          105.0514662,
          1294.399198,
          473.5040592,
          53.84370442,
          899.1615674,
          15.02028415,
          55.3396717,
          413.5692479,
          22.03112667,
          122.5934001,
          361.8613879,
          4208.860123,
          2.795907312,
          72.12659144,
          59.99573448,
          105.4073076,
          125.5415365,
          16.38475614,
          471.1242767,
          12.50796668,
          43.46809335,
          177.0374016,
          55.68674575,
          357.6533299,
          5894.462942,
          564.6170203,
          53.78384767,
          6.969466176,
          9.311916127,
          47.48272078,
          0.098548868,
          290.7747097,
          312.3954032,
          20.94310996,
          2.710294727,
          34.58172276,
          2.550604061,
          915.6344396,
          1542.500065,
          4232.036863,
          66.11375571,
          7.480502607,
          100.377987,
          125.6493705,
          217.4695033,
          15.49386099,
          62.44264007,
          315.2740936,
          70.29947115,
          0.214585311,
          1257.38456,
          570.6970303,
          45.00227877,
          417.8647056,
          55.84514718,
          43.53034876,
          48.56891783,
          95.19090345,
          0.098324356,
          42.19461918,
          271.4297739,
          311.5997239,
          172.0598122,
          54.14890497,
          19.78912175,
          2.728937485,
          899.2849934,
          41.15501145,
          66.41132992,
          15.14138772,
          15.46015417,
          56.97335053,
          125.8419693,
          58.33680706,
          7.095964385,
          561.2808662,
          103.0196647,
          319.1204051,
          2.414283811,
          66.27474325,
          53.68685749,
          1504.182729,
          417.1165447,
          32.35595702,
          4165.145441,
          232.5491895,
          5992.43804,
          44.89667055,
          43.54595971,
          0.216750456,
          11.8019649,
          465.1750734,
          126.3152099,
          572.2903855,
          349.8854331,
          54.73042441,
          8.798182081,
          45.12333544,
          1274.297988,
          7.06994204,
          55.03395212,
          31.52318609,
          124.2080718,
          171.2281096,
          550.1830634,
          1253.082147,
          97.97977835,
          206.3886198,
          115.47526,
          459.8406423,
          7.709049993,
          2.418555565,
          13.42215115,
          43.18131449,
          329.3808984,
          5818.972385,
          44.35454312,
          895.3367862,
          15.51849062,
          0.226448838,
          65.66013364,
          58.45641582,
          343.7139069,
          42.69175637,
          20.21565323,
          45.7517891,
          1512.651931,
          420.506322,
          15.35307144,
          58.8729308,
          55.86121922,
          553.8275491,
          67.61281189,
          284.1095693,
          298.5310279,
          42.30208786,
          2.655394725,
          4139.002995,
          7.986155881,
          61.59314102,
          0.100659282,
          6.847659116,
          90.44335077,
          61.11734163,
          44.52237142,
          6.58029615,
          106.8139775,
          922.77854,
          40.57217586,
          16.68430315,
          0.229117104,
          2.338062788,
          67.04725067,
          58.73340636,
          533.7944536,
          44.016987,
          274.9110969,
          334.3281426,
          41.93903792,
          15.98047785,
          1476.588925,
          59.97620992,
          52.14335677,
          1218.257762,
          4207.666032,
          429.0514999,
          339.1458296,
          8.300595278,
          0.099816859,
          57.42632958,
          123.6965173,
          61.08776379,
          19.3723876,
          176.6171685,
          309.2076629,
          7.61936329,
          98.66319416,
          561.2537228,
          2.450234263,
          454.9676332,
          15.90151757,
          129.73709,
          59.35149815,
          29.92750138,
          5744.672196,
          208.365344,
          62.69808679,
          55.45421106,
          8.677545811,
          123.4957428,
          1502.079866,
          208.4800696,
          4216.524733,
          54.79013416,
          123.5158533,
          18.22360427,
          368.4158533,
          0.218235373,
          557.6087794,
          18.66646698,
          407.4751118,
          61.54991246,
          444.0554335,
          1253.057307,
          525.1200112,
          175.4879708,
          16.27555967,
          8.530745345,
          6.287031657,
          0.101084481,
          128.7326387,
          38.67559402,
          266.3919268,
          58.15452972,
          334.2087022,
          2.45024392,
          5704.996869,
          2.331954735,
          93.83986992,
          15.08628576,
          320.4391168,
          60.97181631,
          31.36345262,
          41.68313337,
          42.97162446,
          930.7685605,
          45.04026974,
          67.45589273,
          65.45783484,
          132.2340718,
          1581.29322,
          17.58789846,
          344.3471894,
          63.23878594,
          75.11084099,
          18.66613597,
          4304.793283,
          253.7088701,
          194.7517794,
          6.156132134,
          57.2513557,
          44.97891158,
          15.94517611,
          44.08833495,
          57.58119476,
          510.6196822,
          131.9396945,
          582.7527844,
          377.3085961,
          41.58670856,
          958.3687247,
          67.6672627,
          29.36826499,
          89.1344254,
          182.5735829,
          52.34846881,
          0.102319538,
          5630.113715,
          2.385913826,
          2.329181698,
          37.33510811,
          9.217190301,
          440.2355072,
          15.67683103,
          311.9148198,
          1255.264198,
          0.20580909,
          9.216383988,
          414.0130701,
          62.95025321,
          129.0104717,
          64.0389222,
          128.5870036,
          2.313216089,
          2.299613655,
          5441.59923,
          0.09899043,
          5.848043785,
          61.35446202,
          59.31867271,
          173.1962974,
          15.27774478,
          86.98064577,
          129.7671664,
          64.20215922,
          28.14345763,
          16.99280042,
          35.71874856,
          44.67954496,
          4204.480856,
          55.13432947,
          9.141353517,
          305.1625435,
          178.8124095,
          57.22160629,
          0.20405592,
          1242.494022,
          9.15585265,
          15.02254413,
          43.36845716,
          497.2248369,
          561.202954,
          447.2011688,
          380.8712837,
          938.1480931,
          125.519442,
          265.7253507,
          17.95373597,
          61.91416101,
          401.5712255,
          58.12624754,
          1629.496298,
          38.46490666,
          56.00593938,
          363.8857776,
          0.101872636,
          252.3893483,
          5377.492217,
          122.610777,
          11.56057169,
          5.977257105,
          2.302770277,
          394.5369624,
          16.34218188,
          59.87699876,
          34.69648573,
          569.4583649,
          2.248368953,
          421.4040999,
          51.30320415,
          55.64908132,
          362.0129588,
          10.39914113,
          124.4268857,
          293.8307091,
          0.200961153,
          164.6235533,
          19.62644594,
          1685.494547,
          4161.321317,
          1228.936691,
          15.76541476,
          42.61330374,
          409.721674,
          482.6916713,
          38.43476519,
          939.2073282,
          64.9887809,
          61.69638533,
          61.1891025,
          86.42585651,
          61.56837459,
          129.1887341,
          14.64872554,
          175.0087031,
          27.87905921,
          43.63849012,
          62.40227908,
          0.100881938,
          5.733674102,
          394.3348338,
          121.156965,
          574.7647527,
          57.20393552,
          27.69722735,
          135.5885656,
          12.37550708,
          18.81096392,
          429.1580092,
          46.46754919,
          167.4431521,
          1909.57784,
          63.17497837,
          467.6072372,
          61.03867124,
          84.2630079,
          498.504839,
          36.52078382,
          1167.714718,
          43.55627642,
          4177.106509,
          57.42595145,
          16.34717183,
          33.57497174,
          11.96614551,
          171.4978911,
          366.4276609,
          5284.75862,
          2.294504644,
          289.1422677,
          124.8191001,
          0.214867691,
          50.5021226,
          955.9775994,
          56.33326799,
          2.252062767,
          14.30399365,
          17.08122802,
          239.9382873,
          60.79075772,
          75.55175529,
          284.7660927,
          1174.619006,
          21.20788739,
          0.206776033,
          24.18782758,
          14.24465339,
          28.09969999,
          56.55159357,
          54.26437931,
          122.2179195,
          58.96031152,
          158.5715465,
          34.83324782,
          14.00939863,
          2.172619363,
          57.48206466,
          33.34410238,
          2.174634466,
          48.97912576,
          132.7329087,
          965.7908353,
          170.9752429,
          60.43224934,
          0.101742603,
          589.3060181,
          248.4071601,
          5170.27435,
          5.48297487,
          62.0501264,
          4259.922812,
          16.60713448,
          414.9550768,
          84.94902583,
          51.85056567,
          365.8651595,
          141.5657197,
          12.25357159,
          435.5358351,
          2013.175482,
          468.5464589,
          87.06081029,
          577.0642596,
          45.97470254,
          621.3052364,
          604.6528969,
          5064.87975,
          65.90351331,
          123.1306529,
          93.64916614,
          279.741639,
          64.87481386,
          55.18717945,
          425.0429207,
          53.44744002,
          12.46751319,
          83.39035468,
          33.50844202,
          2433.187645,
          69.39272564,
          0.096147205,
          33.66237251,
          2.041246093,
          143.5866075,
          2.042936976,
          4403.723161,
          375.6841569,
          47.40684249,
          146.0473396,
          14.00728261,
          34.07097836,
          1164.474346,
          18.02119524,
          59.7693415,
          26.1080645,
          171.0814739,
          46.14480954,
          0.206146707,
          454.2461379,
          57.75563468,
          1014.11972,
          17.26891035,
          239.7251837,
          37.9086125,
          435.9386139,
          5.107082887,
          152.3351742
         ]
        }
       ],
       "layout": {
        "geo": {
         "projection": {
          "type": "equirectangular"
         },
         "showcoastlines": false,
         "showframe": false
        },
        "template": {
         "data": {
          "bar": [
           {
            "error_x": {
             "color": "#2a3f5f"
            },
            "error_y": {
             "color": "#2a3f5f"
            },
            "marker": {
             "line": {
              "color": "#E5ECF6",
              "width": 0.5
             },
             "pattern": {
              "fillmode": "overlay",
              "size": 10,
              "solidity": 0.2
             }
            },
            "type": "bar"
           }
          ],
          "barpolar": [
           {
            "marker": {
             "line": {
              "color": "#E5ECF6",
              "width": 0.5
             },
             "pattern": {
              "fillmode": "overlay",
              "size": 10,
              "solidity": 0.2
             }
            },
            "type": "barpolar"
           }
          ],
          "carpet": [
           {
            "aaxis": {
             "endlinecolor": "#2a3f5f",
             "gridcolor": "white",
             "linecolor": "white",
             "minorgridcolor": "white",
             "startlinecolor": "#2a3f5f"
            },
            "baxis": {
             "endlinecolor": "#2a3f5f",
             "gridcolor": "white",
             "linecolor": "white",
             "minorgridcolor": "white",
             "startlinecolor": "#2a3f5f"
            },
            "type": "carpet"
           }
          ],
          "choropleth": [
           {
            "colorbar": {
             "outlinewidth": 0,
             "ticks": ""
            },
            "type": "choropleth"
           }
          ],
          "contour": [
           {
            "colorbar": {
             "outlinewidth": 0,
             "ticks": ""
            },
            "colorscale": [
             [
              0,
              "#0d0887"
             ],
             [
              0.1111111111111111,
              "#46039f"
             ],
             [
              0.2222222222222222,
              "#7201a8"
             ],
             [
              0.3333333333333333,
              "#9c179e"
             ],
             [
              0.4444444444444444,
              "#bd3786"
             ],
             [
              0.5555555555555556,
              "#d8576b"
             ],
             [
              0.6666666666666666,
              "#ed7953"
             ],
             [
              0.7777777777777778,
              "#fb9f3a"
             ],
             [
              0.8888888888888888,
              "#fdca26"
             ],
             [
              1,
              "#f0f921"
             ]
            ],
            "type": "contour"
           }
          ],
          "contourcarpet": [
           {
            "colorbar": {
             "outlinewidth": 0,
             "ticks": ""
            },
            "type": "contourcarpet"
           }
          ],
          "heatmap": [
           {
            "colorbar": {
             "outlinewidth": 0,
             "ticks": ""
            },
            "colorscale": [
             [
              0,
              "#0d0887"
             ],
             [
              0.1111111111111111,
              "#46039f"
             ],
             [
              0.2222222222222222,
              "#7201a8"
             ],
             [
              0.3333333333333333,
              "#9c179e"
             ],
             [
              0.4444444444444444,
              "#bd3786"
             ],
             [
              0.5555555555555556,
              "#d8576b"
             ],
             [
              0.6666666666666666,
              "#ed7953"
             ],
             [
              0.7777777777777778,
              "#fb9f3a"
             ],
             [
              0.8888888888888888,
              "#fdca26"
             ],
             [
              1,
              "#f0f921"
             ]
            ],
            "type": "heatmap"
           }
          ],
          "heatmapgl": [
           {
            "colorbar": {
             "outlinewidth": 0,
             "ticks": ""
            },
            "colorscale": [
             [
              0,
              "#0d0887"
             ],
             [
              0.1111111111111111,
              "#46039f"
             ],
             [
              0.2222222222222222,
              "#7201a8"
             ],
             [
              0.3333333333333333,
              "#9c179e"
             ],
             [
              0.4444444444444444,
              "#bd3786"
             ],
             [
              0.5555555555555556,
              "#d8576b"
             ],
             [
              0.6666666666666666,
              "#ed7953"
             ],
             [
              0.7777777777777778,
              "#fb9f3a"
             ],
             [
              0.8888888888888888,
              "#fdca26"
             ],
             [
              1,
              "#f0f921"
             ]
            ],
            "type": "heatmapgl"
           }
          ],
          "histogram": [
           {
            "marker": {
             "pattern": {
              "fillmode": "overlay",
              "size": 10,
              "solidity": 0.2
             }
            },
            "type": "histogram"
           }
          ],
          "histogram2d": [
           {
            "colorbar": {
             "outlinewidth": 0,
             "ticks": ""
            },
            "colorscale": [
             [
              0,
              "#0d0887"
             ],
             [
              0.1111111111111111,
              "#46039f"
             ],
             [
              0.2222222222222222,
              "#7201a8"
             ],
             [
              0.3333333333333333,
              "#9c179e"
             ],
             [
              0.4444444444444444,
              "#bd3786"
             ],
             [
              0.5555555555555556,
              "#d8576b"
             ],
             [
              0.6666666666666666,
              "#ed7953"
             ],
             [
              0.7777777777777778,
              "#fb9f3a"
             ],
             [
              0.8888888888888888,
              "#fdca26"
             ],
             [
              1,
              "#f0f921"
             ]
            ],
            "type": "histogram2d"
           }
          ],
          "histogram2dcontour": [
           {
            "colorbar": {
             "outlinewidth": 0,
             "ticks": ""
            },
            "colorscale": [
             [
              0,
              "#0d0887"
             ],
             [
              0.1111111111111111,
              "#46039f"
             ],
             [
              0.2222222222222222,
              "#7201a8"
             ],
             [
              0.3333333333333333,
              "#9c179e"
             ],
             [
              0.4444444444444444,
              "#bd3786"
             ],
             [
              0.5555555555555556,
              "#d8576b"
             ],
             [
              0.6666666666666666,
              "#ed7953"
             ],
             [
              0.7777777777777778,
              "#fb9f3a"
             ],
             [
              0.8888888888888888,
              "#fdca26"
             ],
             [
              1,
              "#f0f921"
             ]
            ],
            "type": "histogram2dcontour"
           }
          ],
          "mesh3d": [
           {
            "colorbar": {
             "outlinewidth": 0,
             "ticks": ""
            },
            "type": "mesh3d"
           }
          ],
          "parcoords": [
           {
            "line": {
             "colorbar": {
              "outlinewidth": 0,
              "ticks": ""
             }
            },
            "type": "parcoords"
           }
          ],
          "pie": [
           {
            "automargin": true,
            "type": "pie"
           }
          ],
          "scatter": [
           {
            "marker": {
             "colorbar": {
              "outlinewidth": 0,
              "ticks": ""
             }
            },
            "type": "scatter"
           }
          ],
          "scatter3d": [
           {
            "line": {
             "colorbar": {
              "outlinewidth": 0,
              "ticks": ""
             }
            },
            "marker": {
             "colorbar": {
              "outlinewidth": 0,
              "ticks": ""
             }
            },
            "type": "scatter3d"
           }
          ],
          "scattercarpet": [
           {
            "marker": {
             "colorbar": {
              "outlinewidth": 0,
              "ticks": ""
             }
            },
            "type": "scattercarpet"
           }
          ],
          "scattergeo": [
           {
            "marker": {
             "colorbar": {
              "outlinewidth": 0,
              "ticks": ""
             }
            },
            "type": "scattergeo"
           }
          ],
          "scattergl": [
           {
            "marker": {
             "colorbar": {
              "outlinewidth": 0,
              "ticks": ""
             }
            },
            "type": "scattergl"
           }
          ],
          "scattermapbox": [
           {
            "marker": {
             "colorbar": {
              "outlinewidth": 0,
              "ticks": ""
             }
            },
            "type": "scattermapbox"
           }
          ],
          "scatterpolar": [
           {
            "marker": {
             "colorbar": {
              "outlinewidth": 0,
              "ticks": ""
             }
            },
            "type": "scatterpolar"
           }
          ],
          "scatterpolargl": [
           {
            "marker": {
             "colorbar": {
              "outlinewidth": 0,
              "ticks": ""
             }
            },
            "type": "scatterpolargl"
           }
          ],
          "scatterternary": [
           {
            "marker": {
             "colorbar": {
              "outlinewidth": 0,
              "ticks": ""
             }
            },
            "type": "scatterternary"
           }
          ],
          "surface": [
           {
            "colorbar": {
             "outlinewidth": 0,
             "ticks": ""
            },
            "colorscale": [
             [
              0,
              "#0d0887"
             ],
             [
              0.1111111111111111,
              "#46039f"
             ],
             [
              0.2222222222222222,
              "#7201a8"
             ],
             [
              0.3333333333333333,
              "#9c179e"
             ],
             [
              0.4444444444444444,
              "#bd3786"
             ],
             [
              0.5555555555555556,
              "#d8576b"
             ],
             [
              0.6666666666666666,
              "#ed7953"
             ],
             [
              0.7777777777777778,
              "#fb9f3a"
             ],
             [
              0.8888888888888888,
              "#fdca26"
             ],
             [
              1,
              "#f0f921"
             ]
            ],
            "type": "surface"
           }
          ],
          "table": [
           {
            "cells": {
             "fill": {
              "color": "#EBF0F8"
             },
             "line": {
              "color": "white"
             }
            },
            "header": {
             "fill": {
              "color": "#C8D4E3"
             },
             "line": {
              "color": "white"
             }
            },
            "type": "table"
           }
          ]
         },
         "layout": {
          "annotationdefaults": {
           "arrowcolor": "#2a3f5f",
           "arrowhead": 0,
           "arrowwidth": 1
          },
          "autotypenumbers": "strict",
          "coloraxis": {
           "colorbar": {
            "outlinewidth": 0,
            "ticks": ""
           }
          },
          "colorscale": {
           "diverging": [
            [
             0,
             "#8e0152"
            ],
            [
             0.1,
             "#c51b7d"
            ],
            [
             0.2,
             "#de77ae"
            ],
            [
             0.3,
             "#f1b6da"
            ],
            [
             0.4,
             "#fde0ef"
            ],
            [
             0.5,
             "#f7f7f7"
            ],
            [
             0.6,
             "#e6f5d0"
            ],
            [
             0.7,
             "#b8e186"
            ],
            [
             0.8,
             "#7fbc41"
            ],
            [
             0.9,
             "#4d9221"
            ],
            [
             1,
             "#276419"
            ]
           ],
           "sequential": [
            [
             0,
             "#0d0887"
            ],
            [
             0.1111111111111111,
             "#46039f"
            ],
            [
             0.2222222222222222,
             "#7201a8"
            ],
            [
             0.3333333333333333,
             "#9c179e"
            ],
            [
             0.4444444444444444,
             "#bd3786"
            ],
            [
             0.5555555555555556,
             "#d8576b"
            ],
            [
             0.6666666666666666,
             "#ed7953"
            ],
            [
             0.7777777777777778,
             "#fb9f3a"
            ],
            [
             0.8888888888888888,
             "#fdca26"
            ],
            [
             1,
             "#f0f921"
            ]
           ],
           "sequentialminus": [
            [
             0,
             "#0d0887"
            ],
            [
             0.1111111111111111,
             "#46039f"
            ],
            [
             0.2222222222222222,
             "#7201a8"
            ],
            [
             0.3333333333333333,
             "#9c179e"
            ],
            [
             0.4444444444444444,
             "#bd3786"
            ],
            [
             0.5555555555555556,
             "#d8576b"
            ],
            [
             0.6666666666666666,
             "#ed7953"
            ],
            [
             0.7777777777777778,
             "#fb9f3a"
            ],
            [
             0.8888888888888888,
             "#fdca26"
            ],
            [
             1,
             "#f0f921"
            ]
           ]
          },
          "colorway": [
           "#636efa",
           "#EF553B",
           "#00cc96",
           "#ab63fa",
           "#FFA15A",
           "#19d3f3",
           "#FF6692",
           "#B6E880",
           "#FF97FF",
           "#FECB52"
          ],
          "font": {
           "color": "#2a3f5f"
          },
          "geo": {
           "bgcolor": "white",
           "lakecolor": "white",
           "landcolor": "#E5ECF6",
           "showlakes": true,
           "showland": true,
           "subunitcolor": "white"
          },
          "hoverlabel": {
           "align": "left"
          },
          "hovermode": "closest",
          "mapbox": {
           "style": "light"
          },
          "paper_bgcolor": "white",
          "plot_bgcolor": "#E5ECF6",
          "polar": {
           "angularaxis": {
            "gridcolor": "white",
            "linecolor": "white",
            "ticks": ""
           },
           "bgcolor": "#E5ECF6",
           "radialaxis": {
            "gridcolor": "white",
            "linecolor": "white",
            "ticks": ""
           }
          },
          "scene": {
           "xaxis": {
            "backgroundcolor": "#E5ECF6",
            "gridcolor": "white",
            "gridwidth": 2,
            "linecolor": "white",
            "showbackground": true,
            "ticks": "",
            "zerolinecolor": "white"
           },
           "yaxis": {
            "backgroundcolor": "#E5ECF6",
            "gridcolor": "white",
            "gridwidth": 2,
            "linecolor": "white",
            "showbackground": true,
            "ticks": "",
            "zerolinecolor": "white"
           },
           "zaxis": {
            "backgroundcolor": "#E5ECF6",
            "gridcolor": "white",
            "gridwidth": 2,
            "linecolor": "white",
            "showbackground": true,
            "ticks": "",
            "zerolinecolor": "white"
           }
          },
          "shapedefaults": {
           "line": {
            "color": "#2a3f5f"
           }
          },
          "ternary": {
           "aaxis": {
            "gridcolor": "white",
            "linecolor": "white",
            "ticks": ""
           },
           "baxis": {
            "gridcolor": "white",
            "linecolor": "white",
            "ticks": ""
           },
           "bgcolor": "#E5ECF6",
           "caxis": {
            "gridcolor": "white",
            "linecolor": "white",
            "ticks": ""
           }
          },
          "title": {
           "x": 0.05
          },
          "xaxis": {
           "automargin": true,
           "gridcolor": "white",
           "linecolor": "white",
           "ticks": "",
           "title": {
            "standoff": 15
           },
           "zerolinecolor": "white",
           "zerolinewidth": 2
          },
          "yaxis": {
           "automargin": true,
           "gridcolor": "white",
           "linecolor": "white",
           "ticks": "",
           "title": {
            "standoff": 15
           },
           "zerolinecolor": "white",
           "zerolinewidth": 2
          }
         }
        },
        "title": {
         "text": "CO2 emmissions"
        }
       }
      },
      "text/html": [
       "<div>                            <div id=\"b60c2c39-700d-4bc8-b6a4-7e3ac012ab68\" class=\"plotly-graph-div\" style=\"height:525px; width:100%;\"></div>            <script type=\"text/javascript\">                require([\"plotly\"], function(Plotly) {                    window.PLOTLYENV=window.PLOTLYENV || {};                                    if (document.getElementById(\"b60c2c39-700d-4bc8-b6a4-7e3ac012ab68\")) {                    Plotly.newPlot(                        \"b60c2c39-700d-4bc8-b6a4-7e3ac012ab68\",                        [{\"colorscale\":[[0.0,\"rgb(247,252,245)\"],[0.125,\"rgb(229,245,224)\"],[0.25,\"rgb(199,233,192)\"],[0.375,\"rgb(161,217,155)\"],[0.5,\"rgb(116,196,118)\"],[0.625,\"rgb(65,171,93)\"],[0.75,\"rgb(35,139,69)\"],[0.875,\"rgb(0,109,44)\"],[1.0,\"rgb(0,68,27)\"]],\"locationmode\":\"country names\",\"locations\":[\"United States of America\",\"United Kingdom\",\"New Zealand\",\"Cyprus\",\"Slovenia\",\"Croatia\",\"Liechtenstein\",\"Italy\",\"Netherlands\",\"Spain\",\"Canada\",\"Greece\",\"Austria\",\"Ukraine\",\"Sweden\",\"Bulgaria\",\"Hungary\",\"Malta\",\"Switzerland\",\"Belgium\",\"Lithuania\",\"Ireland\",\"Iceland\",\"Luxembourg\",\"Turkey\",\"Slovakia\",\"Germany\",\"Belarus\",\"Czech Republic\",\"Latvia\",\"France\",\"Japan\",\"Romania\",\"Finland\",\"Norway\",\"Poland\",\"Russian Federation\",\"European Union\",\"Estonia\",\"Australia\",\"Portugal\",\"Denmark\",\"Poland\",\"Switzerland\",\"Estonia\",\"Iceland\",\"European Union\",\"Romania\",\"Luxembourg\",\"Turkey\",\"Hungary\",\"Belgium\",\"Bulgaria\",\"Malta\",\"Slovakia\",\"Denmark\",\"Sweden\",\"France\",\"Cyprus\",\"New Zealand\",\"Germany\",\"Slovenia\",\"Czech Republic\",\"Belarus\",\"Croatia\",\"Norway\",\"Russian Federation\",\"Netherlands\",\"Spain\",\"Greece\",\"Canada\",\"Finland\",\"Monaco\",\"Portugal\",\"Lithuania\",\"Latvia\",\"United States of America\",\"Japan\",\"Ukraine\",\"United Kingdom\",\"Ireland\",\"Liechtenstein\",\"Austria\",\"Australia\",\"Italy\",\"Monaco\",\"Czech Republic\",\"Australia\",\"Japan\",\"Portugal\",\"Russian Federation\",\"Austria\",\"Sweden\",\"Ukraine\",\"Finland\",\"Canada\",\"Belarus\",\"Spain\",\"Norway\",\"Greece\",\"Malta\",\"France\",\"Netherlands\",\"Italy\",\"Slovakia\",\"Croatia\",\"Liechtenstein\",\"Slovenia\",\"United Kingdom\",\"Germany\",\"Cyprus\",\"New Zealand\",\"Bulgaria\",\"Hungary\",\"Estonia\",\"Denmark\",\"Switzerland\",\"Romania\",\"Ireland\",\"United States of America\",\"Iceland\",\"Latvia\",\"Poland\",\"European Union\",\"Lithuania\",\"Turkey\",\"Belgium\",\"Luxembourg\",\"Luxembourg\",\"Norway\",\"Greece\",\"France\",\"European Union\",\"Spain\",\"Netherlands\",\"Malta\",\"Slovakia\",\"Croatia\",\"Estonia\",\"Denmark\",\"Liechtenstein\",\"Ireland\",\"United States of America\",\"Slovenia\",\"Portugal\",\"United Kingdom\",\"Turkey\",\"Germany\",\"Cyprus\",\"Belarus\",\"Belgium\",\"Italy\",\"New Zealand\",\"Finland\",\"Japan\",\"Iceland\",\"Hungary\",\"Latvia\",\"Czech Republic\",\"Ukraine\",\"Russian Federation\",\"Bulgaria\",\"Switzerland\",\"Sweden\",\"Monaco\",\"Romania\",\"Australia\",\"Poland\",\"Lithuania\",\"Canada\",\"Austria\",\"Latvia\",\"United Kingdom\",\"Poland\",\"Cyprus\",\"Denmark\",\"Finland\",\"Czech Republic\",\"New Zealand\",\"Estonia\",\"Portugal\",\"European Union\",\"Japan\",\"Australia\",\"Slovakia\",\"France\",\"Norway\",\"Romania\",\"United States of America\",\"Russian Federation\",\"Liechtenstein\",\"Ukraine\",\"Greece\",\"Austria\",\"Canada\",\"Italy\",\"Hungary\",\"Sweden\",\"Bulgaria\",\"Malta\",\"Iceland\",\"Switzerland\",\"Lithuania\",\"Belgium\",\"Luxembourg\",\"Ireland\",\"Turkey\",\"Belarus\",\"Spain\",\"Monaco\",\"Netherlands\",\"Slovenia\",\"Croatia\",\"Germany\",\"Latvia\",\"Italy\",\"Greece\",\"Malta\",\"Iceland\",\"Slovenia\",\"Switzerland\",\"Lithuania\",\"United Kingdom\",\"Romania\",\"Denmark\",\"Finland\",\"United States of America\",\"Belgium\",\"Belarus\",\"Germany\",\"European Union\",\"Portugal\",\"Luxembourg\",\"Estonia\",\"Ireland\",\"Turkey\",\"Cyprus\",\"Poland\",\"New Zealand\",\"Hungary\",\"Croatia\",\"Netherlands\",\"Czech Republic\",\"Austria\",\"Japan\",\"Slovakia\",\"Canada\",\"Monaco\",\"Australia\",\"Norway\",\"Spain\",\"Russian Federation\",\"Sweden\",\"France\",\"Ukraine\",\"Liechtenstein\",\"Bulgaria\",\"Portugal\",\"Ireland\",\"Luxembourg\",\"Norway\",\"Germany\",\"Netherlands\",\"France\",\"Japan\",\"Finland\",\"Latvia\",\"European Union\",\"Poland\",\"Monaco\",\"Hungary\",\"Liechtenstein\",\"Iceland\",\"Malta\",\"New Zealand\",\"Lithuania\",\"Italy\",\"Greece\",\"Estonia\",\"Denmark\",\"Turkey\",\"Russian Federation\",\"Slovakia\",\"Cyprus\",\"Austria\",\"Ukraine\",\"United Kingdom\",\"Australia\",\"Slovenia\",\"Croatia\",\"Romania\",\"Spain\",\"Belarus\",\"Canada\",\"Czech Republic\",\"Belgium\",\"Sweden\",\"United States of America\",\"Switzerland\",\"Bulgaria\",\"Canada\",\"New Zealand\",\"Malta\",\"Belgium\",\"Cyprus\",\"Austria\",\"Slovakia\",\"France\",\"United Kingdom\",\"Liechtenstein\",\"Switzerland\",\"Norway\",\"Bulgaria\",\"Italy\",\"Turkey\",\"Germany\",\"Slovenia\",\"Croatia\",\"Lithuania\",\"Netherlands\",\"Czech Republic\",\"Greece\",\"Sweden\",\"Belarus\",\"Spain\",\"Luxembourg\",\"Hungary\",\"Ireland\",\"Monaco\",\"Ukraine\",\"Iceland\",\"Denmark\",\"United States of America\",\"Finland\",\"Romania\",\"European Union\",\"Latvia\",\"Australia\",\"Russian Federation\",\"Portugal\",\"Estonia\",\"Poland\",\"Japan\",\"Denmark\",\"Ukraine\",\"Netherlands\",\"Canada\",\"Belarus\",\"Greece\",\"Croatia\",\"Spain\",\"Romania\",\"United States of America\",\"Lithuania\",\"Ireland\",\"Turkey\",\"Slovenia\",\"Monaco\",\"Luxembourg\",\"Hungary\",\"European Union\",\"Sweden\",\"Latvia\",\"Bulgaria\",\"Belgium\",\"Malta\",\"Portugal\",\"Estonia\",\"Switzerland\",\"Iceland\",\"Poland\",\"Czech Republic\",\"Austria\",\"United Kingdom\",\"Japan\",\"Cyprus\",\"Slovakia\",\"Finland\",\"New Zealand\",\"Russian Federation\",\"Italy\",\"France\",\"Germany\",\"Liechtenstein\",\"Australia\",\"Norway\",\"Malta\",\"Austria\",\"Ireland\",\"Luxembourg\",\"Iceland\",\"Russian Federation\",\"Hungary\",\"Liechtenstein\",\"Slovakia\",\"European Union\",\"Sweden\",\"United Kingdom\",\"Turkey\",\"Norway\",\"Latvia\",\"Slovenia\",\"Bulgaria\",\"Belgium\",\"France\",\"Portugal\",\"Monaco\",\"Poland\",\"Greece\",\"Netherlands\",\"Italy\",\"Ukraine\",\"Germany\",\"Belarus\",\"Switzerland\",\"Estonia\",\"New Zealand\",\"Australia\",\"Spain\",\"Croatia\",\"Finland\",\"Denmark\",\"Romania\",\"United States of America\",\"Cyprus\",\"Canada\",\"Lithuania\",\"Japan\",\"Czech Republic\",\"Liechtenstein\",\"Italy\",\"Lithuania\",\"Japan\",\"Belarus\",\"Belgium\",\"Turkey\",\"United Kingdom\",\"Austria\",\"Australia\",\"United States of America\",\"Luxembourg\",\"Ireland\",\"Ukraine\",\"Latvia\",\"Iceland\",\"Norway\",\"Greece\",\"Netherlands\",\"Croatia\",\"Slovenia\",\"New Zealand\",\"Cyprus\",\"Slovakia\",\"France\",\"Czech Republic\",\"Canada\",\"Russian Federation\",\"Denmark\",\"Finland\",\"Poland\",\"Romania\",\"Estonia\",\"European Union\",\"Portugal\",\"Spain\",\"Germany\",\"Sweden\",\"Bulgaria\",\"Hungary\",\"Switzerland\",\"Malta\",\"Monaco\",\"United Kingdom\",\"Czech Republic\",\"France\",\"Russian Federation\",\"Norway\",\"Sweden\",\"Turkey\",\"Liechtenstein\",\"Japan\",\"Slovakia\",\"Belgium\",\"Latvia\",\"Denmark\",\"Switzerland\",\"Finland\",\"Poland\",\"Australia\",\"United States of America\",\"Romania\",\"Estonia\",\"Malta\",\"European Union\",\"Portugal\",\"Bulgaria\",\"Austria\",\"Luxembourg\",\"Italy\",\"Spain\",\"Croatia\",\"Netherlands\",\"Greece\",\"Ireland\",\"Monaco\",\"Lithuania\",\"Belarus\",\"Ukraine\",\"Slovenia\",\"Iceland\",\"Canada\",\"Germany\",\"New Zealand\",\"Hungary\",\"Cyprus\",\"Netherlands\",\"Ukraine\",\"Sweden\",\"Malta\",\"Portugal\",\"Russian Federation\",\"Turkey\",\"Slovenia\",\"Luxembourg\",\"United States of America\",\"Norway\",\"New Zealand\",\"Spain\",\"Monaco\",\"Liechtenstein\",\"Poland\",\"Slovakia\",\"Lithuania\",\"Switzerland\",\"United Kingdom\",\"Romania\",\"Latvia\",\"Ireland\",\"Belgium\",\"Cyprus\",\"Canada\",\"Finland\",\"Hungary\",\"Bulgaria\",\"Greece\",\"Japan\",\"Italy\",\"Belarus\",\"Germany\",\"Estonia\",\"Denmark\",\"France\",\"Croatia\",\"Czech Republic\",\"Australia\",\"European Union\",\"Iceland\",\"Austria\",\"Hungary\",\"Greece\",\"Czech Republic\",\"Slovenia\",\"Italy\",\"Lithuania\",\"Slovakia\",\"Netherlands\",\"Sweden\",\"Australia\",\"United States of America\",\"Canada\",\"Belarus\",\"Cyprus\",\"Luxembourg\",\"Ireland\",\"Monaco\",\"Ukraine\",\"Spain\",\"Croatia\",\"Iceland\",\"New Zealand\",\"Malta\",\"Germany\",\"Russian Federation\",\"European Union\",\"Portugal\",\"Latvia\",\"Romania\",\"Belgium\",\"Turkey\",\"Estonia\",\"Finland\",\"Poland\",\"Austria\",\"Liechtenstein\",\"Japan\",\"United Kingdom\",\"Switzerland\",\"France\",\"Denmark\",\"Norway\",\"Bulgaria\",\"Romania\",\"Monaco\",\"Norway\",\"Ukraine\",\"Spain\",\"Netherlands\",\"Denmark\",\"Croatia\",\"Iceland\",\"Germany\",\"Slovakia\",\"Portugal\",\"Estonia\",\"Slovenia\",\"Finland\",\"Czech Republic\",\"Hungary\",\"Cyprus\",\"United Kingdom\",\"Greece\",\"Poland\",\"Malta\",\"Austria\",\"Belarus\",\"Russian Federation\",\"France\",\"New Zealand\",\"European Union\",\"Turkey\",\"United States of America\",\"Bulgaria\",\"Switzerland\",\"Liechtenstein\",\"Lithuania\",\"Italy\",\"Belgium\",\"Canada\",\"Australia\",\"Sweden\",\"Luxembourg\",\"Ireland\",\"Japan\",\"Latvia\",\"Belarus\",\"New Zealand\",\"Belgium\",\"Netherlands\",\"Canada\",\"Japan\",\"Greece\",\"Turkey\",\"Czech Republic\",\"Italy\",\"Latvia\",\"Malta\",\"Lithuania\",\"Slovakia\",\"Poland\",\"United States of America\",\"Switzerland\",\"Germany\",\"Estonia\",\"Liechtenstein\",\"Austria\",\"Denmark\",\"Australia\",\"Norway\",\"Croatia\",\"Bulgaria\",\"Russian Federation\",\"France\",\"Slovenia\",\"Finland\",\"Sweden\",\"United Kingdom\",\"Portugal\",\"Ukraine\",\"Spain\",\"Ireland\",\"Iceland\",\"European Union\",\"Luxembourg\",\"Hungary\",\"Monaco\",\"Cyprus\",\"Romania\",\"Denmark\",\"Switzerland\",\"Cyprus\",\"Romania\",\"Germany\",\"Ireland\",\"Estonia\",\"Liechtenstein\",\"Malta\",\"Austria\",\"Sweden\",\"Canada\",\"Slovakia\",\"Spain\",\"Australia\",\"Norway\",\"Slovenia\",\"Russian Federation\",\"Portugal\",\"Bulgaria\",\"Japan\",\"European Union\",\"France\",\"Poland\",\"Latvia\",\"Monaco\",\"Belarus\",\"Czech Republic\",\"Hungary\",\"Croatia\",\"Netherlands\",\"Ukraine\",\"Luxembourg\",\"Greece\",\"United Kingdom\",\"Iceland\",\"Italy\",\"Lithuania\",\"Belgium\",\"Finland\",\"New Zealand\",\"United States of America\",\"Turkey\",\"Finland\",\"Portugal\",\"Latvia\",\"Belgium\",\"Russian Federation\",\"Turkey\",\"European Union\",\"Bulgaria\",\"Romania\",\"Estonia\",\"Poland\",\"Liechtenstein\",\"United Kingdom\",\"Croatia\",\"France\",\"Hungary\",\"Italy\",\"Japan\",\"Canada\",\"Netherlands\",\"Slovenia\",\"Luxembourg\",\"Cyprus\",\"Monaco\",\"Czech Republic\",\"Ireland\",\"Spain\",\"Sweden\",\"Ukraine\",\"Iceland\",\"United States of America\",\"Malta\",\"Greece\",\"Lithuania\",\"Australia\",\"Belarus\",\"New Zealand\",\"Norway\",\"Switzerland\",\"Germany\",\"Slovakia\",\"Austria\",\"Denmark\",\"Czech Republic\",\"Russian Federation\",\"Croatia\",\"Ukraine\",\"Sweden\",\"Denmark\",\"Estonia\",\"European Union\",\"Spain\",\"Turkey\",\"Cyprus\",\"Belarus\",\"Slovakia\",\"Slovenia\",\"Switzerland\",\"Bulgaria\",\"Canada\",\"Romania\",\"United Kingdom\",\"Poland\",\"Norway\",\"Germany\",\"Austria\",\"New Zealand\",\"Greece\",\"Netherlands\",\"Portugal\",\"Monaco\",\"United States of America\",\"Iceland\",\"Malta\",\"Ireland\",\"Luxembourg\",\"Italy\",\"Lithuania\",\"Australia\",\"Japan\",\"Liechtenstein\",\"Latvia\",\"France\",\"Hungary\",\"Belgium\",\"Finland\",\"Romania\",\"Malta\",\"Iceland\",\"United States of America\",\"Monaco\",\"Cyprus\",\"Hungary\",\"Sweden\",\"Netherlands\",\"Slovenia\",\"Greece\",\"Czech Republic\",\"Austria\",\"New Zealand\",\"Croatia\",\"Ireland\",\"Slovakia\",\"European Union\",\"Portugal\",\"Latvia\",\"Australia\",\"Turkey\",\"Bulgaria\",\"Liechtenstein\",\"Japan\",\"Luxembourg\",\"Lithuania\",\"Switzerland\",\"Canada\",\"United Kingdom\",\"Italy\",\"Ukraine\",\"Germany\",\"Belgium\",\"Spain\",\"Estonia\",\"Denmark\",\"France\",\"Finland\",\"Russian Federation\",\"Norway\",\"Belarus\",\"Poland\",\"Monaco\",\"Spain\",\"United States of America\",\"Romania\",\"Luxembourg\",\"Cyprus\",\"Malta\",\"France\",\"Croatia\",\"Sweden\",\"Ireland\",\"United Kingdom\",\"Iceland\",\"Italy\",\"Portugal\",\"Bulgaria\",\"Poland\",\"Latvia\",\"Belgium\",\"Australia\",\"Liechtenstein\",\"Turkey\",\"Estonia\",\"Russian Federation\",\"European Union\",\"Japan\",\"Lithuania\",\"Switzerland\",\"Ukraine\",\"Canada\",\"Norway\",\"Germany\",\"Denmark\",\"Finland\",\"Austria\",\"Greece\",\"Hungary\",\"Czech Republic\",\"Slovenia\",\"Netherlands\",\"New Zealand\",\"Slovakia\",\"Belarus\",\"Monaco\",\"Cyprus\",\"France\",\"Belgium\",\"United Kingdom\",\"Bulgaria\",\"New Zealand\",\"Czech Republic\",\"Luxembourg\",\"Estonia\",\"Italy\",\"Slovakia\",\"Turkey\",\"Russian Federation\",\"Hungary\",\"Canada\",\"Denmark\",\"Greece\",\"Ukraine\",\"Norway\",\"Japan\",\"Switzerland\",\"European Union\",\"Sweden\",\"Lithuania\",\"Ireland\",\"Latvia\",\"Netherlands\",\"Poland\",\"United States of America\",\"Iceland\",\"Australia\",\"Romania\",\"Liechtenstein\",\"Portugal\",\"Germany\",\"Finland\",\"Malta\",\"Slovenia\",\"Croatia\",\"Spain\",\"Austria\",\"Belarus\",\"Australia\",\"Japan\",\"Lithuania\",\"Liechtenstein\",\"Estonia\",\"Latvia\",\"New Zealand\",\"Bulgaria\",\"Finland\",\"Belgium\",\"Denmark\",\"Turkey\",\"Norway\",\"Slovenia\",\"Iceland\",\"Sweden\",\"Ireland\",\"Malta\",\"Slovakia\",\"Romania\",\"Germany\",\"Netherlands\",\"Austria\",\"Monaco\",\"United Kingdom\",\"Spain\",\"United States of America\",\"Cyprus\",\"Hungary\",\"European Union\",\"Croatia\",\"France\",\"Greece\",\"Portugal\",\"Poland\",\"Czech Republic\",\"Luxembourg\",\"Italy\",\"Russian Federation\",\"Canada\",\"Belarus\",\"Ukraine\",\"Switzerland\",\"Ukraine\",\"United Kingdom\",\"United States of America\",\"Austria\",\"Belgium\",\"Belarus\",\"Australia\",\"Denmark\",\"Finland\",\"France\",\"Slovakia\",\"Luxembourg\",\"Greece\",\"Ireland\",\"Russian Federation\",\"Hungary\",\"Monaco\",\"Estonia\",\"Malta\",\"Romania\",\"Iceland\",\"European Union\",\"Poland\",\"Portugal\",\"Czech Republic\",\"Slovenia\",\"Norway\",\"Japan\",\"Latvia\",\"Bulgaria\",\"New Zealand\",\"Netherlands\",\"Switzerland\",\"Liechtenstein\",\"Canada\",\"Sweden\",\"Germany\",\"Croatia\",\"Spain\",\"Lithuania\",\"Italy\",\"Cyprus\",\"Turkey\"],\"marker\":{\"line\":{\"color\":\"black\"}},\"z\":[5556.006578,434.7945569,35.61698531,6.878555309,13.48998004,17.60732241,0.161541817,342.8266771,157.7895817,253.466918,574.0997755,79.6282744,64.26256399,247.561221,43.40490317,45.13995529,43.57340884,2.483536786,39.26505259,96.32541318,12.73279886,36.55906858,3.272208233,9.826253278,382.2134017,33.38742872,792.902788,60.61564573,101.1591222,7.158718037,341.1525315,1265.490609,74.04646763,47.59773353,43.86945109,310.3072974,1671.568652,3463.397564,18.91871534,393.126947,48.35369033,37.46065646,322.4404865,43.18165944,19.56636837,3.301796314,3646.389525,74.08335824,10.30303961,354.9610423,43.93087818,101.7447367,42.5349272,2.476074429,35.39515486,41.53703581,44.89915194,369.9855945,6.449610812,35.09428674,835.7926323,15.14872538,106.4770887,61.51098715,18.35949984,44.30905597,1666.644423,165.4758844,252.2596905,82.91062596,573.0940388,51.83469674,0.07443092,48.49555048,12.98781753,7.353220444,5502.550714,1311.509149,287.4364044,475.8320506,37.04942383,0.192864416,67.95712111,396.9139365,362.0636493,0.075165569,109.8413289,406.4628477,1296.186358,50.26242244,1727.489104,67.69865863,46.55964002,295.7060643,50.98327288,563.4236132,60.63685139,279.8303083,44.55396566,90.71057425,2.868638128,370.4911537,165.6650238,389.3407634,35.86789627,18.77638135,0.185632431,15.80018724,484.3880904,817.0314402,7.160971876,35.62102602,48.11755608,46.77494485,17.30463723,39.52440203,42.24155361,84.66123054,38.03161872,5349.220947,3.290576431,7.521122528,326.5977905,3728.965031,13.97552321,363.1260072,100.9315956,10.87206448,11.16851167,44.94686935,94.10294398,368.1834384,3789.763641,283.9186792,169.7921365,2.785896568,37.88085315,20.61444047,18.44993086,43.97078926,0.17708804,37.89519543,5559.507664,16.34823911,52.15065344,464.8857489,338.0944082,812.4832196,7.696667805,61.12840059,104.9457138,416.4995342,34.36658268,56.47874559,1261.862938,3.29856769,50.2728651,7.80765941,114.1131467,301.2735022,1717.221951,53.02098112,40.97314917,49.13358694,0.071881895,86.16363433,403.7055283,333.7136507,13.9190155,558.1527229,70.32716704,8.524087227,507.595712,334.0261547,8.004912021,48.99341738,63.82801823,115.7573686,35.01724135,17.83377961,53.58388586,3933.290522,1212.970225,406.2009932,38.38594252,394.2356741,45.83389207,80.79577403,5688.756005,1662.592259,0.191047502,287.1136064,97.03508276,72.53182613,555.0037603,428.8796812,52.10889276,53.05773463,47.67864896,2.690518035,3.383552219,45.02706448,13.61891266,114.1553867,11.28502742,41.55827509,320.356659,61.6324927,283.5814007,0.075468265,182.5297869,16.36342977,21.18370931,832.2592033,7.443286011,418.8810769,103.9697843,2.684521293,3.52189071,16.32821033,43.50908656,12.72712004,489.0125005,85.28829402,48.59221139,55.63558277,5488.32028,107.2825435,59.59620538,788.4224379,3814.305258,58.00419697,10.72552213,14.15300516,41.99632468,310.580701,8.372396592,315.9379659,34.80640209,51.63069002,21.96563527,170.7961566,113.9700292,67.68272515,1162.606192,37.43343342,542.8294589,0.077771936,408.448479,43.21209247,296.617991,1576.703967,47.26744667,383.9576243,269.5984218,0.205590544,45.48787355,60.5500402,47.17554027,11.24587249,44.89309419,853.2299408,176.1744184,401.8788647,1235.45581,58.46163302,8.184971247,4149.624296,329.3381711,0.081376901,57.32516233,0.219698915,3.56720926,2.822406167,37.67405177,14.96325472,467.9335932,110.2557655,17.26452003,50.93567153,323.5365451,1684.999823,41.23632404,8.620395582,74.06625579,317.0638437,539.9161632,404.2378282,18.21973043,23.71538432,101.0354208,335.9948037,63.84610379,577.4449302,121.7807163,120.3626098,50.83157681,5923.201376,44.67694397,53.65514017,596.041322,36.65137149,2.831642265,118.0274086,8.458664261,74.26811072,40.72529984,408.5085899,553.719939,0.200920108,43.3603857,45.84280953,55.1844241,478.2377112,333.1664187,850.7957208,17.27237919,24.95537593,15.62407634,173.1784204,126.933163,114.1275543,52.91172673,61.56388173,367.2922833,11.39870592,58.41903917,47.49312668,0.082719192,330.0872508,3.236895337,54.42908517,6121.653863,66.53172081,104.5403509,4244.213129,8.610255397,398.8164535,1653.139056,62.79114777,18.75564793,336.2681109,1319.799194,59.16249963,325.586622,172.7728928,573.4792697,62.22939888,111.7777437,23.68493503,360.0633363,106.1759911,6042.393615,14.30303268,47.40596673,302.1959546,17.12980199,0.082123918,11.99582017,59.75173108,4297.988162,53.69765593,8.289206678,51.44628294,122.3195938,2.776314307,65.46541972,15.71952893,45.351172,2.939276597,336.5005789,125.9234024,76.93495153,562.0830948,1285.177837,8.152492308,42.32048448,68.201906,37.51910473,1653.289193,486.5940666,417.6626789,877.4224569,0.231217305,391.1341009,43.91374482,2.736312934,79.58850188,47.95220439,12.13091379,2.797314592,1593.933344,60.32950501,0.228970324,42.5810225,4290.586668,53.85920573,563.7835376,279.1307408,43.54823029,7.790403932,16.93832426,50.19111606,125.1180165,428.5576102,70.03452941,0.088750691,323.3725784,113.2198224,177.5404732,490.9142629,307.3414835,865.9585134,59.66473908,45.77808946,16.33073383,37.6454343,385.5811328,368.7450684,23.45184585,56.91231489,51.30724452,102.4142524,6122.746612,7.961983989,579.2253357,13.9468843,1305.938824,124.5901379,0.229296322,492.7462556,13.18549337,1298.433888,58.45764762,128.6404835,253.1720784,566.598164,78.38899743,381.5192616,6096.978363,11.87110772,46.04240225,296.7537315,7.709460762,2.837029011,44.32000488,109.5710609,181.546257,23.00523485,16.6391711,36.06366333,7.776909405,42.57695889,423.1686361,126.8769162,585.4148606,1575.18086,54.91691056,68.82181289,324.2794498,104.5750778,17.05507425,4314.560871,67.45815914,353.4726123,886.3446297,56.42880314,49.17033769,60.23166198,45.14966709,2.604744832,0.090200504,565.4755203,126.1516488,422.3128845,1568.510143,43.90670966,57.20359907,240.9024629,0.229265875,1299.490609,42.06055025,127.5239897,7.703771508,60.49396172,44.58798027,72.52259019,320.2301705,368.3459774,5982.289167,105.737481,16.83321429,2.666134325,4306.103945,64.69729922,49.97115158,78.0239539,10.44338322,489.5955081,336.6724225,23.3552211,179.867889,109.1265676,45.55432252,0.095298855,12.6052382,54.84514584,285.7204799,16.2893859,2.792723132,587.3066785,900.3775854,36.49717101,61.7668396,7.550081928,176.4624006,281.9393497,56.63189617,2.464212229,69.95449452,1531.200212,226.365412,16.52631271,10.06814032,5935.738784,42.65587483,34.76827818,332.2008428,0.098161276,0.219947205,307.5356422,41.59353325,12.61442501,43.37398555,554.2276358,100.6553131,7.508743242,45.95273017,126.0151947,7.160388458,569.8621456,64.94646821,58.96822777,45.78629472,105.0514662,1294.399198,473.5040592,53.84370442,899.1615674,15.02028415,55.3396717,413.5692479,22.03112667,122.5934001,361.8613879,4208.860123,2.795907312,72.12659144,59.99573448,105.4073076,125.5415365,16.38475614,471.1242767,12.50796668,43.46809335,177.0374016,55.68674575,357.6533299,5894.462942,564.6170203,53.78384767,6.969466176,9.311916127,47.48272078,0.098548868,290.7747097,312.3954032,20.94310996,2.710294727,34.58172276,2.550604061,915.6344396,1542.500065,4232.036863,66.11375571,7.480502607,100.377987,125.6493705,217.4695033,15.49386099,62.44264007,315.2740936,70.29947115,0.214585311,1257.38456,570.6970303,45.00227877,417.8647056,55.84514718,43.53034876,48.56891783,95.19090345,0.098324356,42.19461918,271.4297739,311.5997239,172.0598122,54.14890497,19.78912175,2.728937485,899.2849934,41.15501145,66.41132992,15.14138772,15.46015417,56.97335053,125.8419693,58.33680706,7.095964385,561.2808662,103.0196647,319.1204051,2.414283811,66.27474325,53.68685749,1504.182729,417.1165447,32.35595702,4165.145441,232.5491895,5992.43804,44.89667055,43.54595971,0.216750456,11.8019649,465.1750734,126.3152099,572.2903855,349.8854331,54.73042441,8.798182081,45.12333544,1274.297988,7.06994204,55.03395212,31.52318609,124.2080718,171.2281096,550.1830634,1253.082147,97.97977835,206.3886198,115.47526,459.8406423,7.709049993,2.418555565,13.42215115,43.18131449,329.3808984,5818.972385,44.35454312,895.3367862,15.51849062,0.226448838,65.66013364,58.45641582,343.7139069,42.69175637,20.21565323,45.7517891,1512.651931,420.506322,15.35307144,58.8729308,55.86121922,553.8275491,67.61281189,284.1095693,298.5310279,42.30208786,2.655394725,4139.002995,7.986155881,61.59314102,0.100659282,6.847659116,90.44335077,61.11734163,44.52237142,6.58029615,106.8139775,922.77854,40.57217586,16.68430315,0.229117104,2.338062788,67.04725067,58.73340636,533.7944536,44.016987,274.9110969,334.3281426,41.93903792,15.98047785,1476.588925,59.97620992,52.14335677,1218.257762,4207.666032,429.0514999,339.1458296,8.300595278,0.099816859,57.42632958,123.6965173,61.08776379,19.3723876,176.6171685,309.2076629,7.61936329,98.66319416,561.2537228,2.450234263,454.9676332,15.90151757,129.73709,59.35149815,29.92750138,5744.672196,208.365344,62.69808679,55.45421106,8.677545811,123.4957428,1502.079866,208.4800696,4216.524733,54.79013416,123.5158533,18.22360427,368.4158533,0.218235373,557.6087794,18.66646698,407.4751118,61.54991246,444.0554335,1253.057307,525.1200112,175.4879708,16.27555967,8.530745345,6.287031657,0.101084481,128.7326387,38.67559402,266.3919268,58.15452972,334.2087022,2.45024392,5704.996869,2.331954735,93.83986992,15.08628576,320.4391168,60.97181631,31.36345262,41.68313337,42.97162446,930.7685605,45.04026974,67.45589273,65.45783484,132.2340718,1581.29322,17.58789846,344.3471894,63.23878594,75.11084099,18.66613597,4304.793283,253.7088701,194.7517794,6.156132134,57.2513557,44.97891158,15.94517611,44.08833495,57.58119476,510.6196822,131.9396945,582.7527844,377.3085961,41.58670856,958.3687247,67.6672627,29.36826499,89.1344254,182.5735829,52.34846881,0.102319538,5630.113715,2.385913826,2.329181698,37.33510811,9.217190301,440.2355072,15.67683103,311.9148198,1255.264198,0.20580909,9.216383988,414.0130701,62.95025321,129.0104717,64.0389222,128.5870036,2.313216089,2.299613655,5441.59923,0.09899043,5.848043785,61.35446202,59.31867271,173.1962974,15.27774478,86.98064577,129.7671664,64.20215922,28.14345763,16.99280042,35.71874856,44.67954496,4204.480856,55.13432947,9.141353517,305.1625435,178.8124095,57.22160629,0.20405592,1242.494022,9.15585265,15.02254413,43.36845716,497.2248369,561.202954,447.2011688,380.8712837,938.1480931,125.519442,265.7253507,17.95373597,61.91416101,401.5712255,58.12624754,1629.496298,38.46490666,56.00593938,363.8857776,0.101872636,252.3893483,5377.492217,122.610777,11.56057169,5.977257105,2.302770277,394.5369624,16.34218188,59.87699876,34.69648573,569.4583649,2.248368953,421.4040999,51.30320415,55.64908132,362.0129588,10.39914113,124.4268857,293.8307091,0.200961153,164.6235533,19.62644594,1685.494547,4161.321317,1228.936691,15.76541476,42.61330374,409.721674,482.6916713,38.43476519,939.2073282,64.9887809,61.69638533,61.1891025,86.42585651,61.56837459,129.1887341,14.64872554,175.0087031,27.87905921,43.63849012,62.40227908,0.100881938,5.733674102,394.3348338,121.156965,574.7647527,57.20393552,27.69722735,135.5885656,12.37550708,18.81096392,429.1580092,46.46754919,167.4431521,1909.57784,63.17497837,467.6072372,61.03867124,84.2630079,498.504839,36.52078382,1167.714718,43.55627642,4177.106509,57.42595145,16.34717183,33.57497174,11.96614551,171.4978911,366.4276609,5284.75862,2.294504644,289.1422677,124.8191001,0.214867691,50.5021226,955.9775994,56.33326799,2.252062767,14.30399365,17.08122802,239.9382873,60.79075772,75.55175529,284.7660927,1174.619006,21.20788739,0.206776033,24.18782758,14.24465339,28.09969999,56.55159357,54.26437931,122.2179195,58.96031152,158.5715465,34.83324782,14.00939863,2.172619363,57.48206466,33.34410238,2.174634466,48.97912576,132.7329087,965.7908353,170.9752429,60.43224934,0.101742603,589.3060181,248.4071601,5170.27435,5.48297487,62.0501264,4259.922812,16.60713448,414.9550768,84.94902583,51.85056567,365.8651595,141.5657197,12.25357159,435.5358351,2013.175482,468.5464589,87.06081029,577.0642596,45.97470254,621.3052364,604.6528969,5064.87975,65.90351331,123.1306529,93.64916614,279.741639,64.87481386,55.18717945,425.0429207,53.44744002,12.46751319,83.39035468,33.50844202,2433.187645,69.39272564,0.096147205,33.66237251,2.041246093,143.5866075,2.042936976,4403.723161,375.6841569,47.40684249,146.0473396,14.00728261,34.07097836,1164.474346,18.02119524,59.7693415,26.1080645,171.0814739,46.14480954,0.206146707,454.2461379,57.75563468,1014.11972,17.26891035,239.7251837,37.9086125,435.9386139,5.107082887,152.3351742],\"type\":\"choropleth\"}],                        {\"template\":{\"data\":{\"bar\":[{\"error_x\":{\"color\":\"#2a3f5f\"},\"error_y\":{\"color\":\"#2a3f5f\"},\"marker\":{\"line\":{\"color\":\"#E5ECF6\",\"width\":0.5},\"pattern\":{\"fillmode\":\"overlay\",\"size\":10,\"solidity\":0.2}},\"type\":\"bar\"}],\"barpolar\":[{\"marker\":{\"line\":{\"color\":\"#E5ECF6\",\"width\":0.5},\"pattern\":{\"fillmode\":\"overlay\",\"size\":10,\"solidity\":0.2}},\"type\":\"barpolar\"}],\"carpet\":[{\"aaxis\":{\"endlinecolor\":\"#2a3f5f\",\"gridcolor\":\"white\",\"linecolor\":\"white\",\"minorgridcolor\":\"white\",\"startlinecolor\":\"#2a3f5f\"},\"baxis\":{\"endlinecolor\":\"#2a3f5f\",\"gridcolor\":\"white\",\"linecolor\":\"white\",\"minorgridcolor\":\"white\",\"startlinecolor\":\"#2a3f5f\"},\"type\":\"carpet\"}],\"choropleth\":[{\"colorbar\":{\"outlinewidth\":0,\"ticks\":\"\"},\"type\":\"choropleth\"}],\"contour\":[{\"colorbar\":{\"outlinewidth\":0,\"ticks\":\"\"},\"colorscale\":[[0.0,\"#0d0887\"],[0.1111111111111111,\"#46039f\"],[0.2222222222222222,\"#7201a8\"],[0.3333333333333333,\"#9c179e\"],[0.4444444444444444,\"#bd3786\"],[0.5555555555555556,\"#d8576b\"],[0.6666666666666666,\"#ed7953\"],[0.7777777777777778,\"#fb9f3a\"],[0.8888888888888888,\"#fdca26\"],[1.0,\"#f0f921\"]],\"type\":\"contour\"}],\"contourcarpet\":[{\"colorbar\":{\"outlinewidth\":0,\"ticks\":\"\"},\"type\":\"contourcarpet\"}],\"heatmap\":[{\"colorbar\":{\"outlinewidth\":0,\"ticks\":\"\"},\"colorscale\":[[0.0,\"#0d0887\"],[0.1111111111111111,\"#46039f\"],[0.2222222222222222,\"#7201a8\"],[0.3333333333333333,\"#9c179e\"],[0.4444444444444444,\"#bd3786\"],[0.5555555555555556,\"#d8576b\"],[0.6666666666666666,\"#ed7953\"],[0.7777777777777778,\"#fb9f3a\"],[0.8888888888888888,\"#fdca26\"],[1.0,\"#f0f921\"]],\"type\":\"heatmap\"}],\"heatmapgl\":[{\"colorbar\":{\"outlinewidth\":0,\"ticks\":\"\"},\"colorscale\":[[0.0,\"#0d0887\"],[0.1111111111111111,\"#46039f\"],[0.2222222222222222,\"#7201a8\"],[0.3333333333333333,\"#9c179e\"],[0.4444444444444444,\"#bd3786\"],[0.5555555555555556,\"#d8576b\"],[0.6666666666666666,\"#ed7953\"],[0.7777777777777778,\"#fb9f3a\"],[0.8888888888888888,\"#fdca26\"],[1.0,\"#f0f921\"]],\"type\":\"heatmapgl\"}],\"histogram\":[{\"marker\":{\"pattern\":{\"fillmode\":\"overlay\",\"size\":10,\"solidity\":0.2}},\"type\":\"histogram\"}],\"histogram2d\":[{\"colorbar\":{\"outlinewidth\":0,\"ticks\":\"\"},\"colorscale\":[[0.0,\"#0d0887\"],[0.1111111111111111,\"#46039f\"],[0.2222222222222222,\"#7201a8\"],[0.3333333333333333,\"#9c179e\"],[0.4444444444444444,\"#bd3786\"],[0.5555555555555556,\"#d8576b\"],[0.6666666666666666,\"#ed7953\"],[0.7777777777777778,\"#fb9f3a\"],[0.8888888888888888,\"#fdca26\"],[1.0,\"#f0f921\"]],\"type\":\"histogram2d\"}],\"histogram2dcontour\":[{\"colorbar\":{\"outlinewidth\":0,\"ticks\":\"\"},\"colorscale\":[[0.0,\"#0d0887\"],[0.1111111111111111,\"#46039f\"],[0.2222222222222222,\"#7201a8\"],[0.3333333333333333,\"#9c179e\"],[0.4444444444444444,\"#bd3786\"],[0.5555555555555556,\"#d8576b\"],[0.6666666666666666,\"#ed7953\"],[0.7777777777777778,\"#fb9f3a\"],[0.8888888888888888,\"#fdca26\"],[1.0,\"#f0f921\"]],\"type\":\"histogram2dcontour\"}],\"mesh3d\":[{\"colorbar\":{\"outlinewidth\":0,\"ticks\":\"\"},\"type\":\"mesh3d\"}],\"parcoords\":[{\"line\":{\"colorbar\":{\"outlinewidth\":0,\"ticks\":\"\"}},\"type\":\"parcoords\"}],\"pie\":[{\"automargin\":true,\"type\":\"pie\"}],\"scatter\":[{\"marker\":{\"colorbar\":{\"outlinewidth\":0,\"ticks\":\"\"}},\"type\":\"scatter\"}],\"scatter3d\":[{\"line\":{\"colorbar\":{\"outlinewidth\":0,\"ticks\":\"\"}},\"marker\":{\"colorbar\":{\"outlinewidth\":0,\"ticks\":\"\"}},\"type\":\"scatter3d\"}],\"scattercarpet\":[{\"marker\":{\"colorbar\":{\"outlinewidth\":0,\"ticks\":\"\"}},\"type\":\"scattercarpet\"}],\"scattergeo\":[{\"marker\":{\"colorbar\":{\"outlinewidth\":0,\"ticks\":\"\"}},\"type\":\"scattergeo\"}],\"scattergl\":[{\"marker\":{\"colorbar\":{\"outlinewidth\":0,\"ticks\":\"\"}},\"type\":\"scattergl\"}],\"scattermapbox\":[{\"marker\":{\"colorbar\":{\"outlinewidth\":0,\"ticks\":\"\"}},\"type\":\"scattermapbox\"}],\"scatterpolar\":[{\"marker\":{\"colorbar\":{\"outlinewidth\":0,\"ticks\":\"\"}},\"type\":\"scatterpolar\"}],\"scatterpolargl\":[{\"marker\":{\"colorbar\":{\"outlinewidth\":0,\"ticks\":\"\"}},\"type\":\"scatterpolargl\"}],\"scatterternary\":[{\"marker\":{\"colorbar\":{\"outlinewidth\":0,\"ticks\":\"\"}},\"type\":\"scatterternary\"}],\"surface\":[{\"colorbar\":{\"outlinewidth\":0,\"ticks\":\"\"},\"colorscale\":[[0.0,\"#0d0887\"],[0.1111111111111111,\"#46039f\"],[0.2222222222222222,\"#7201a8\"],[0.3333333333333333,\"#9c179e\"],[0.4444444444444444,\"#bd3786\"],[0.5555555555555556,\"#d8576b\"],[0.6666666666666666,\"#ed7953\"],[0.7777777777777778,\"#fb9f3a\"],[0.8888888888888888,\"#fdca26\"],[1.0,\"#f0f921\"]],\"type\":\"surface\"}],\"table\":[{\"cells\":{\"fill\":{\"color\":\"#EBF0F8\"},\"line\":{\"color\":\"white\"}},\"header\":{\"fill\":{\"color\":\"#C8D4E3\"},\"line\":{\"color\":\"white\"}},\"type\":\"table\"}]},\"layout\":{\"annotationdefaults\":{\"arrowcolor\":\"#2a3f5f\",\"arrowhead\":0,\"arrowwidth\":1},\"autotypenumbers\":\"strict\",\"coloraxis\":{\"colorbar\":{\"outlinewidth\":0,\"ticks\":\"\"}},\"colorscale\":{\"diverging\":[[0,\"#8e0152\"],[0.1,\"#c51b7d\"],[0.2,\"#de77ae\"],[0.3,\"#f1b6da\"],[0.4,\"#fde0ef\"],[0.5,\"#f7f7f7\"],[0.6,\"#e6f5d0\"],[0.7,\"#b8e186\"],[0.8,\"#7fbc41\"],[0.9,\"#4d9221\"],[1,\"#276419\"]],\"sequential\":[[0.0,\"#0d0887\"],[0.1111111111111111,\"#46039f\"],[0.2222222222222222,\"#7201a8\"],[0.3333333333333333,\"#9c179e\"],[0.4444444444444444,\"#bd3786\"],[0.5555555555555556,\"#d8576b\"],[0.6666666666666666,\"#ed7953\"],[0.7777777777777778,\"#fb9f3a\"],[0.8888888888888888,\"#fdca26\"],[1.0,\"#f0f921\"]],\"sequentialminus\":[[0.0,\"#0d0887\"],[0.1111111111111111,\"#46039f\"],[0.2222222222222222,\"#7201a8\"],[0.3333333333333333,\"#9c179e\"],[0.4444444444444444,\"#bd3786\"],[0.5555555555555556,\"#d8576b\"],[0.6666666666666666,\"#ed7953\"],[0.7777777777777778,\"#fb9f3a\"],[0.8888888888888888,\"#fdca26\"],[1.0,\"#f0f921\"]]},\"colorway\":[\"#636efa\",\"#EF553B\",\"#00cc96\",\"#ab63fa\",\"#FFA15A\",\"#19d3f3\",\"#FF6692\",\"#B6E880\",\"#FF97FF\",\"#FECB52\"],\"font\":{\"color\":\"#2a3f5f\"},\"geo\":{\"bgcolor\":\"white\",\"lakecolor\":\"white\",\"landcolor\":\"#E5ECF6\",\"showlakes\":true,\"showland\":true,\"subunitcolor\":\"white\"},\"hoverlabel\":{\"align\":\"left\"},\"hovermode\":\"closest\",\"mapbox\":{\"style\":\"light\"},\"paper_bgcolor\":\"white\",\"plot_bgcolor\":\"#E5ECF6\",\"polar\":{\"angularaxis\":{\"gridcolor\":\"white\",\"linecolor\":\"white\",\"ticks\":\"\"},\"bgcolor\":\"#E5ECF6\",\"radialaxis\":{\"gridcolor\":\"white\",\"linecolor\":\"white\",\"ticks\":\"\"}},\"scene\":{\"xaxis\":{\"backgroundcolor\":\"#E5ECF6\",\"gridcolor\":\"white\",\"gridwidth\":2,\"linecolor\":\"white\",\"showbackground\":true,\"ticks\":\"\",\"zerolinecolor\":\"white\"},\"yaxis\":{\"backgroundcolor\":\"#E5ECF6\",\"gridcolor\":\"white\",\"gridwidth\":2,\"linecolor\":\"white\",\"showbackground\":true,\"ticks\":\"\",\"zerolinecolor\":\"white\"},\"zaxis\":{\"backgroundcolor\":\"#E5ECF6\",\"gridcolor\":\"white\",\"gridwidth\":2,\"linecolor\":\"white\",\"showbackground\":true,\"ticks\":\"\",\"zerolinecolor\":\"white\"}},\"shapedefaults\":{\"line\":{\"color\":\"#2a3f5f\"}},\"ternary\":{\"aaxis\":{\"gridcolor\":\"white\",\"linecolor\":\"white\",\"ticks\":\"\"},\"baxis\":{\"gridcolor\":\"white\",\"linecolor\":\"white\",\"ticks\":\"\"},\"bgcolor\":\"#E5ECF6\",\"caxis\":{\"gridcolor\":\"white\",\"linecolor\":\"white\",\"ticks\":\"\"}},\"title\":{\"x\":0.05},\"xaxis\":{\"automargin\":true,\"gridcolor\":\"white\",\"linecolor\":\"white\",\"ticks\":\"\",\"title\":{\"standoff\":15},\"zerolinecolor\":\"white\",\"zerolinewidth\":2},\"yaxis\":{\"automargin\":true,\"gridcolor\":\"white\",\"linecolor\":\"white\",\"ticks\":\"\",\"title\":{\"standoff\":15},\"zerolinecolor\":\"white\",\"zerolinewidth\":2}}},\"title\":{\"text\":\"CO2 emmissions\"},\"geo\":{\"projection\":{\"type\":\"equirectangular\"},\"showframe\":false,\"showcoastlines\":false}},                        {\"responsive\": true}                    ).then(function(){\n",
       "                            \n",
       "var gd = document.getElementById('b60c2c39-700d-4bc8-b6a4-7e3ac012ab68');\n",
       "var x = new MutationObserver(function (mutations, observer) {{\n",
       "        var display = window.getComputedStyle(gd).display;\n",
       "        if (!display || display === 'none') {{\n",
       "            console.log([gd, 'removed!']);\n",
       "            Plotly.purge(gd);\n",
       "            observer.disconnect();\n",
       "        }}\n",
       "}});\n",
       "\n",
       "// Listen for the removal of the full notebook cells\n",
       "var notebookContainer = gd.closest('#notebook-container');\n",
       "if (notebookContainer) {{\n",
       "    x.observe(notebookContainer, {childList: true});\n",
       "}}\n",
       "\n",
       "// Listen for the clearing of the current output cell\n",
       "var outputEl = gd.closest('.output');\n",
       "if (outputEl) {{\n",
       "    x.observe(outputEl, {childList: true});\n",
       "}}\n",
       "\n",
       "                        })                };                });            </script>        </div>"
      ]
     },
     "metadata": {},
     "output_type": "display_data"
    }
   ],
   "source": [
    "fig=go.Figure(data=go.Choropleth( locations=df_countries['country'],locationmode='country names',z=df_countries['value in Megatons'],colorscale='greens',marker_line_color='black'))\n",
    "\n",
    "fig.update_layout(title_text='CO2 emmissions',geo=dict(showframe=False,showcoastlines=False,projection_type='equirectangular'))\n",
    "fig.show()"
   ]
  },
  {
   "cell_type": "code",
   "execution_count": 30,
   "id": "f8c27d5d",
   "metadata": {},
   "outputs": [
    {
     "data": {
      "application/vnd.plotly.v1+json": {
       "config": {
        "plotlyServerURL": "https://plot.ly"
       },
       "data": [
        {
         "coloraxis": "coloraxis",
         "geo": "geo",
         "hovertemplate": "<b>%{hovertext}</b><br><br>year=1991<br>country=%{location}<br>value in Megatons=%{z}<extra></extra>",
         "hovertext": [
          "Australia",
          "Austria",
          "Belarus",
          "Belgium",
          "Bulgaria",
          "Canada",
          "Croatia",
          "Cyprus",
          "Czech Republic",
          "Denmark",
          "Estonia",
          "European Union",
          "Finland",
          "France",
          "Germany",
          "Greece",
          "Hungary",
          "Iceland",
          "Ireland",
          "Italy",
          "Japan",
          "Latvia",
          "Liechtenstein",
          "Lithuania",
          "Luxembourg",
          "Malta",
          "Monaco",
          "Netherlands",
          "New Zealand",
          "Norway",
          "Poland",
          "Portugal",
          "Romania",
          "Russian Federation",
          "Slovakia",
          "Slovenia",
          "Spain",
          "Sweden",
          "Switzerland",
          "Turkey",
          "Ukraine",
          "United Kingdom",
          "United States of America"
         ],
         "locationmode": "country names",
         "locations": [
          "Australia",
          "Austria",
          "Belarus",
          "Belgium",
          "Bulgaria",
          "Canada",
          "Croatia",
          "Cyprus",
          "Czech Republic",
          "Denmark",
          "Estonia",
          "European Union",
          "Finland",
          "France",
          "Germany",
          "Greece",
          "Hungary",
          "Iceland",
          "Ireland",
          "Italy",
          "Japan",
          "Latvia",
          "Liechtenstein",
          "Lithuania",
          "Luxembourg",
          "Malta",
          "Monaco",
          "Netherlands",
          "New Zealand",
          "Norway",
          "Poland",
          "Portugal",
          "Romania",
          "Russian Federation",
          "Slovakia",
          "Slovenia",
          "Spain",
          "Sweden",
          "Switzerland",
          "Turkey",
          "Ukraine",
          "United Kingdom",
          "United States of America"
         ],
         "name": "",
         "type": "choropleth",
         "z": [
          279.741639,
          65.90351331,
          93.64916614,
          123.1306529,
          59.7693415,
          454.2461379,
          17.26891035,
          5.107082887,
          146.0473396,
          64.87481386,
          33.66237251,
          4403.723161,
          55.18717945,
          425.0429207,
          1014.11972,
          83.39035468,
          69.39272564,
          2.042936976,
          33.50844202,
          435.9386139,
          1164.474346,
          18.02119524,
          0.206146707,
          37.9086125,
          12.46751319,
          2.041246093,
          0.096147205,
          171.0814739,
          26.1080645,
          34.07097836,
          375.6841569,
          47.40684249,
          143.5866075,
          2433.187645,
          53.44744002,
          14.00728261,
          239.7251837,
          57.75563468,
          46.14480954,
          152.3351742,
          621.3052364,
          604.6528969,
          5064.87975
         ]
        }
       ],
       "frames": [
        {
         "data": [
          {
           "coloraxis": "coloraxis",
           "geo": "geo",
           "hovertemplate": "<b>%{hovertext}</b><br><br>year=1991<br>country=%{location}<br>value in Megatons=%{z}<extra></extra>",
           "hovertext": [
            "Australia",
            "Austria",
            "Belarus",
            "Belgium",
            "Bulgaria",
            "Canada",
            "Croatia",
            "Cyprus",
            "Czech Republic",
            "Denmark",
            "Estonia",
            "European Union",
            "Finland",
            "France",
            "Germany",
            "Greece",
            "Hungary",
            "Iceland",
            "Ireland",
            "Italy",
            "Japan",
            "Latvia",
            "Liechtenstein",
            "Lithuania",
            "Luxembourg",
            "Malta",
            "Monaco",
            "Netherlands",
            "New Zealand",
            "Norway",
            "Poland",
            "Portugal",
            "Romania",
            "Russian Federation",
            "Slovakia",
            "Slovenia",
            "Spain",
            "Sweden",
            "Switzerland",
            "Turkey",
            "Ukraine",
            "United Kingdom",
            "United States of America"
           ],
           "locationmode": "country names",
           "locations": [
            "Australia",
            "Austria",
            "Belarus",
            "Belgium",
            "Bulgaria",
            "Canada",
            "Croatia",
            "Cyprus",
            "Czech Republic",
            "Denmark",
            "Estonia",
            "European Union",
            "Finland",
            "France",
            "Germany",
            "Greece",
            "Hungary",
            "Iceland",
            "Ireland",
            "Italy",
            "Japan",
            "Latvia",
            "Liechtenstein",
            "Lithuania",
            "Luxembourg",
            "Malta",
            "Monaco",
            "Netherlands",
            "New Zealand",
            "Norway",
            "Poland",
            "Portugal",
            "Romania",
            "Russian Federation",
            "Slovakia",
            "Slovenia",
            "Spain",
            "Sweden",
            "Switzerland",
            "Turkey",
            "Ukraine",
            "United Kingdom",
            "United States of America"
           ],
           "name": "",
           "type": "choropleth",
           "z": [
            279.741639,
            65.90351331,
            93.64916614,
            123.1306529,
            59.7693415,
            454.2461379,
            17.26891035,
            5.107082887,
            146.0473396,
            64.87481386,
            33.66237251,
            4403.723161,
            55.18717945,
            425.0429207,
            1014.11972,
            83.39035468,
            69.39272564,
            2.042936976,
            33.50844202,
            435.9386139,
            1164.474346,
            18.02119524,
            0.206146707,
            37.9086125,
            12.46751319,
            2.041246093,
            0.096147205,
            171.0814739,
            26.1080645,
            34.07097836,
            375.6841569,
            47.40684249,
            143.5866075,
            2433.187645,
            53.44744002,
            14.00728261,
            239.7251837,
            57.75563468,
            46.14480954,
            152.3351742,
            621.3052364,
            604.6528969,
            5064.87975
           ]
          }
         ],
         "name": "1991"
        },
        {
         "data": [
          {
           "coloraxis": "coloraxis",
           "geo": "geo",
           "hovertemplate": "<b>%{hovertext}</b><br><br>year=1992<br>country=%{location}<br>value in Megatons=%{z}<extra></extra>",
           "hovertext": [
            "Australia",
            "Austria",
            "Belarus",
            "Belgium",
            "Bulgaria",
            "Canada",
            "Croatia",
            "Cyprus",
            "Czech Republic",
            "Denmark",
            "Estonia",
            "European Union",
            "Finland",
            "France",
            "Germany",
            "Greece",
            "Hungary",
            "Iceland",
            "Ireland",
            "Italy",
            "Japan",
            "Latvia",
            "Liechtenstein",
            "Lithuania",
            "Luxembourg",
            "Malta",
            "Monaco",
            "Netherlands",
            "New Zealand",
            "Norway",
            "Poland",
            "Portugal",
            "Romania",
            "Russian Federation",
            "Slovakia",
            "Slovenia",
            "Spain",
            "Sweden",
            "Switzerland",
            "Turkey",
            "Ukraine",
            "United Kingdom",
            "United States of America"
           ],
           "locationmode": "country names",
           "locations": [
            "Australia",
            "Austria",
            "Belarus",
            "Belgium",
            "Bulgaria",
            "Canada",
            "Croatia",
            "Cyprus",
            "Czech Republic",
            "Denmark",
            "Estonia",
            "European Union",
            "Finland",
            "France",
            "Germany",
            "Greece",
            "Hungary",
            "Iceland",
            "Ireland",
            "Italy",
            "Japan",
            "Latvia",
            "Liechtenstein",
            "Lithuania",
            "Luxembourg",
            "Malta",
            "Monaco",
            "Netherlands",
            "New Zealand",
            "Norway",
            "Poland",
            "Portugal",
            "Romania",
            "Russian Federation",
            "Slovakia",
            "Slovenia",
            "Spain",
            "Sweden",
            "Switzerland",
            "Turkey",
            "Ukraine",
            "United Kingdom",
            "United States of America"
           ],
           "name": "",
           "type": "choropleth",
           "z": [
            284.7660927,
            60.43224934,
            87.06081029,
            122.2179195,
            56.55159357,
            468.5464589,
            16.60713448,
            5.48297487,
            141.5657197,
            58.96031152,
            24.18782758,
            4259.922812,
            54.26437931,
            414.9550768,
            965.7908353,
            84.94902583,
            62.0501264,
            2.172619363,
            33.34410238,
            435.5358351,
            1174.619006,
            14.24465339,
            0.206776033,
            21.20788739,
            12.25357159,
            2.174634466,
            0.101742603,
            170.9752429,
            28.09969999,
            34.83324782,
            365.8651595,
            51.85056567,
            132.7329087,
            2013.175482,
            48.97912576,
            14.00939863,
            248.4071601,
            57.48206466,
            45.97470254,
            158.5715465,
            577.0642596,
            589.3060181,
            5170.27435
           ]
          }
         ],
         "name": "1992"
        },
        {
         "data": [
          {
           "coloraxis": "coloraxis",
           "geo": "geo",
           "hovertemplate": "<b>%{hovertext}</b><br><br>year=1993<br>country=%{location}<br>value in Megatons=%{z}<extra></extra>",
           "hovertext": [
            "Australia",
            "Austria",
            "Belarus",
            "Belgium",
            "Bulgaria",
            "Canada",
            "Croatia",
            "Cyprus",
            "Czech Republic",
            "Denmark",
            "Estonia",
            "European Union",
            "Finland",
            "France",
            "Germany",
            "Greece",
            "Hungary",
            "Iceland",
            "Ireland",
            "Italy",
            "Japan",
            "Latvia",
            "Liechtenstein",
            "Lithuania",
            "Luxembourg",
            "Malta",
            "Monaco",
            "Netherlands",
            "New Zealand",
            "Norway",
            "Poland",
            "Portugal",
            "Romania",
            "Russian Federation",
            "Slovakia",
            "Slovenia",
            "Spain",
            "Sweden",
            "Switzerland",
            "Turkey",
            "Ukraine",
            "United Kingdom",
            "United States of America"
           ],
           "locationmode": "country names",
           "locations": [
            "Australia",
            "Austria",
            "Belarus",
            "Belgium",
            "Bulgaria",
            "Canada",
            "Croatia",
            "Cyprus",
            "Czech Republic",
            "Denmark",
            "Estonia",
            "European Union",
            "Finland",
            "France",
            "Germany",
            "Greece",
            "Hungary",
            "Iceland",
            "Ireland",
            "Italy",
            "Japan",
            "Latvia",
            "Liechtenstein",
            "Lithuania",
            "Luxembourg",
            "Malta",
            "Monaco",
            "Netherlands",
            "New Zealand",
            "Norway",
            "Poland",
            "Portugal",
            "Romania",
            "Russian Federation",
            "Slovakia",
            "Slovenia",
            "Spain",
            "Sweden",
            "Switzerland",
            "Turkey",
            "Ukraine",
            "United Kingdom",
            "United States of America"
           ],
           "name": "",
           "type": "choropleth",
           "z": [
            289.1422677,
            60.79075772,
            75.55175529,
            121.156965,
            57.20393552,
            467.6072372,
            17.08122802,
            5.733674102,
            135.5885656,
            61.03867124,
            18.81096392,
            4177.106509,
            56.33326799,
            394.3348338,
            955.9775994,
            84.2630079,
            63.17497837,
            2.294504644,
            33.57497174,
            429.1580092,
            1167.714718,
            11.96614551,
            0.214867691,
            16.34717183,
            12.37550708,
            2.252062767,
            0.100881938,
            171.4978911,
            27.69722735,
            36.52078382,
            366.4276609,
            50.5021226,
            124.8191001,
            1909.57784,
            46.46754919,
            14.30399365,
            239.9382873,
            57.42595145,
            43.55627642,
            167.4431521,
            498.504839,
            574.7647527,
            5284.75862
           ]
          }
         ],
         "name": "1993"
        },
        {
         "data": [
          {
           "coloraxis": "coloraxis",
           "geo": "geo",
           "hovertemplate": "<b>%{hovertext}</b><br><br>year=1994<br>country=%{location}<br>value in Megatons=%{z}<extra></extra>",
           "hovertext": [
            "Australia",
            "Austria",
            "Belarus",
            "Belgium",
            "Bulgaria",
            "Canada",
            "Croatia",
            "Cyprus",
            "Czech Republic",
            "Denmark",
            "Estonia",
            "European Union",
            "Finland",
            "France",
            "Germany",
            "Greece",
            "Hungary",
            "Iceland",
            "Ireland",
            "Italy",
            "Japan",
            "Latvia",
            "Liechtenstein",
            "Lithuania",
            "Luxembourg",
            "Malta",
            "Monaco",
            "Netherlands",
            "New Zealand",
            "Norway",
            "Poland",
            "Portugal",
            "Romania",
            "Russian Federation",
            "Slovakia",
            "Slovenia",
            "Spain",
            "Sweden",
            "Switzerland",
            "Turkey",
            "Ukraine",
            "United Kingdom",
            "United States of America"
           ],
           "locationmode": "country names",
           "locations": [
            "Australia",
            "Austria",
            "Belarus",
            "Belgium",
            "Bulgaria",
            "Canada",
            "Croatia",
            "Cyprus",
            "Czech Republic",
            "Denmark",
            "Estonia",
            "European Union",
            "Finland",
            "France",
            "Germany",
            "Greece",
            "Hungary",
            "Iceland",
            "Ireland",
            "Italy",
            "Japan",
            "Latvia",
            "Liechtenstein",
            "Lithuania",
            "Luxembourg",
            "Malta",
            "Monaco",
            "Netherlands",
            "New Zealand",
            "Norway",
            "Poland",
            "Portugal",
            "Romania",
            "Russian Federation",
            "Slovakia",
            "Slovenia",
            "Spain",
            "Sweden",
            "Switzerland",
            "Turkey",
            "Ukraine",
            "United Kingdom",
            "United States of America"
           ],
           "name": "",
           "type": "choropleth",
           "z": [
            293.8307091,
            61.1891025,
            62.40227908,
            124.4268857,
            55.64908132,
            482.6916713,
            16.34218188,
            5.977257105,
            129.1887341,
            64.9887809,
            19.62644594,
            4161.321317,
            61.69638533,
            394.5369624,
            939.2073282,
            86.42585651,
            61.56837459,
            2.248368953,
            34.69648573,
            421.4040999,
            1228.936691,
            10.39914113,
            0.200961153,
            15.76541476,
            11.56057169,
            2.302770277,
            0.101872636,
            175.0087031,
            27.87905921,
            38.43476519,
            362.0129588,
            51.30320415,
            122.610777,
            1685.494547,
            43.63849012,
            14.64872554,
            252.3893483,
            59.87699876,
            42.61330374,
            164.6235533,
            409.721674,
            569.4583649,
            5377.492217
           ]
          }
         ],
         "name": "1994"
        },
        {
         "data": [
          {
           "coloraxis": "coloraxis",
           "geo": "geo",
           "hovertemplate": "<b>%{hovertext}</b><br><br>year=1995<br>country=%{location}<br>value in Megatons=%{z}<extra></extra>",
           "hovertext": [
            "Australia",
            "Austria",
            "Belarus",
            "Belgium",
            "Bulgaria",
            "Canada",
            "Croatia",
            "Cyprus",
            "Czech Republic",
            "Denmark",
            "Estonia",
            "European Union",
            "Finland",
            "France",
            "Germany",
            "Greece",
            "Hungary",
            "Iceland",
            "Ireland",
            "Italy",
            "Japan",
            "Latvia",
            "Liechtenstein",
            "Lithuania",
            "Luxembourg",
            "Malta",
            "Monaco",
            "Netherlands",
            "New Zealand",
            "Norway",
            "Poland",
            "Portugal",
            "Romania",
            "Russian Federation",
            "Slovakia",
            "Slovenia",
            "Spain",
            "Sweden",
            "Switzerland",
            "Turkey",
            "Ukraine",
            "United Kingdom",
            "United States of America"
           ],
           "locationmode": "country names",
           "locations": [
            "Australia",
            "Austria",
            "Belarus",
            "Belgium",
            "Bulgaria",
            "Canada",
            "Croatia",
            "Cyprus",
            "Czech Republic",
            "Denmark",
            "Estonia",
            "European Union",
            "Finland",
            "France",
            "Germany",
            "Greece",
            "Hungary",
            "Iceland",
            "Ireland",
            "Italy",
            "Japan",
            "Latvia",
            "Liechtenstein",
            "Lithuania",
            "Luxembourg",
            "Malta",
            "Monaco",
            "Netherlands",
            "New Zealand",
            "Norway",
            "Poland",
            "Portugal",
            "Romania",
            "Russian Federation",
            "Slovakia",
            "Slovenia",
            "Spain",
            "Sweden",
            "Switzerland",
            "Turkey",
            "Ukraine",
            "United Kingdom",
            "United States of America"
           ],
           "name": "",
           "type": "choropleth",
           "z": [
            305.1625435,
            64.20215922,
            56.00593938,
            125.519442,
            57.22160629,
            497.2248369,
            16.99280042,
            5.848043785,
            129.7671664,
            61.91416101,
            17.95373597,
            4204.480856,
            58.12624754,
            401.5712255,
            938.1480931,
            86.98064577,
            61.35446202,
            2.299613655,
            35.71874856,
            447.2011688,
            1242.494022,
            9.141353517,
            0.20405592,
            15.02254413,
            9.15585265,
            2.313216089,
            0.09899043,
            173.1962974,
            28.14345763,
            38.46490666,
            363.8857776,
            55.13432947,
            128.5870036,
            1629.496298,
            44.67954496,
            15.27774478,
            265.7253507,
            59.31867271,
            43.36845716,
            178.8124095,
            380.8712837,
            561.202954,
            5441.59923
           ]
          }
         ],
         "name": "1995"
        },
        {
         "data": [
          {
           "coloraxis": "coloraxis",
           "geo": "geo",
           "hovertemplate": "<b>%{hovertext}</b><br><br>year=1996<br>country=%{location}<br>value in Megatons=%{z}<extra></extra>",
           "hovertext": [
            "Australia",
            "Austria",
            "Belarus",
            "Belgium",
            "Bulgaria",
            "Canada",
            "Croatia",
            "Cyprus",
            "Czech Republic",
            "Denmark",
            "Estonia",
            "European Union",
            "Finland",
            "France",
            "Germany",
            "Greece",
            "Hungary",
            "Iceland",
            "Ireland",
            "Italy",
            "Japan",
            "Latvia",
            "Liechtenstein",
            "Lithuania",
            "Luxembourg",
            "Malta",
            "Monaco",
            "Netherlands",
            "New Zealand",
            "Norway",
            "Poland",
            "Portugal",
            "Romania",
            "Russian Federation",
            "Slovakia",
            "Slovenia",
            "Spain",
            "Sweden",
            "Switzerland",
            "Turkey",
            "Ukraine",
            "United Kingdom",
            "United States of America"
           ],
           "locationmode": "country names",
           "locations": [
            "Australia",
            "Austria",
            "Belarus",
            "Belgium",
            "Bulgaria",
            "Canada",
            "Croatia",
            "Cyprus",
            "Czech Republic",
            "Denmark",
            "Estonia",
            "European Union",
            "Finland",
            "France",
            "Germany",
            "Greece",
            "Hungary",
            "Iceland",
            "Ireland",
            "Italy",
            "Japan",
            "Latvia",
            "Liechtenstein",
            "Lithuania",
            "Luxembourg",
            "Malta",
            "Monaco",
            "Netherlands",
            "New Zealand",
            "Norway",
            "Poland",
            "Portugal",
            "Romania",
            "Russian Federation",
            "Slovakia",
            "Slovenia",
            "Spain",
            "Sweden",
            "Switzerland",
            "Turkey",
            "Ukraine",
            "United Kingdom",
            "United States of America"
           ],
           "name": "",
           "type": "choropleth",
           "z": [
            311.9148198,
            67.6672627,
            57.2513557,
            129.0104717,
            57.58119476,
            510.6196822,
            17.58789846,
            6.156132134,
            132.2340718,
            75.11084099,
            18.66613597,
            4304.793283,
            64.0389222,
            414.0130701,
            958.3687247,
            89.1344254,
            62.95025321,
            2.385913826,
            37.33510811,
            440.2355072,
            1255.264198,
            9.216383988,
            0.20580909,
            15.67683103,
            9.217190301,
            2.329181698,
            0.102319538,
            182.5735829,
            29.36826499,
            41.58670856,
            377.3085961,
            52.34846881,
            131.9396945,
            1581.29322,
            44.97891158,
            15.94517611,
            253.7088701,
            63.23878594,
            44.08833495,
            194.7517794,
            344.3471894,
            582.7527844,
            5630.113715
           ]
          }
         ],
         "name": "1996"
        },
        {
         "data": [
          {
           "coloraxis": "coloraxis",
           "geo": "geo",
           "hovertemplate": "<b>%{hovertext}</b><br><br>year=1997<br>country=%{location}<br>value in Megatons=%{z}<extra></extra>",
           "hovertext": [
            "Australia",
            "Austria",
            "Belarus",
            "Belgium",
            "Bulgaria",
            "Canada",
            "Croatia",
            "Cyprus",
            "Czech Republic",
            "Denmark",
            "Estonia",
            "European Union",
            "Finland",
            "France",
            "Germany",
            "Greece",
            "Hungary",
            "Iceland",
            "Ireland",
            "Italy",
            "Japan",
            "Latvia",
            "Liechtenstein",
            "Lithuania",
            "Luxembourg",
            "Malta",
            "Monaco",
            "Netherlands",
            "New Zealand",
            "Norway",
            "Poland",
            "Portugal",
            "Romania",
            "Russian Federation",
            "Slovakia",
            "Slovenia",
            "Spain",
            "Sweden",
            "Switzerland",
            "Turkey",
            "Ukraine",
            "United Kingdom",
            "United States of America"
           ],
           "locationmode": "country names",
           "locations": [
            "Australia",
            "Austria",
            "Belarus",
            "Belgium",
            "Bulgaria",
            "Canada",
            "Croatia",
            "Cyprus",
            "Czech Republic",
            "Denmark",
            "Estonia",
            "European Union",
            "Finland",
            "France",
            "Germany",
            "Greece",
            "Hungary",
            "Iceland",
            "Ireland",
            "Italy",
            "Japan",
            "Latvia",
            "Liechtenstein",
            "Lithuania",
            "Luxembourg",
            "Malta",
            "Monaco",
            "Netherlands",
            "New Zealand",
            "Norway",
            "Poland",
            "Portugal",
            "Romania",
            "Russian Federation",
            "Slovakia",
            "Slovenia",
            "Spain",
            "Sweden",
            "Switzerland",
            "Turkey",
            "Ukraine",
            "United Kingdom",
            "United States of America"
           ],
           "name": "",
           "type": "choropleth",
           "z": [
            320.4391168,
            67.45589273,
            60.97181631,
            123.4957428,
            54.79013416,
            525.1200112,
            18.66646698,
            6.287031657,
            128.7326387,
            65.45783484,
            18.22360427,
            4216.524733,
            62.69808679,
            407.4751118,
            930.7685605,
            93.83986992,
            61.54991246,
            2.45024392,
            38.67559402,
            444.0554335,
            1253.057307,
            8.677545811,
            0.218235373,
            15.08628576,
            8.530745345,
            2.331954735,
            0.101084481,
            175.4879708,
            31.36345262,
            41.68313337,
            368.4158533,
            55.45421106,
            123.5158533,
            1502.079866,
            45.04026974,
            16.27555967,
            266.3919268,
            58.15452972,
            42.97162446,
            208.4800696,
            334.2087022,
            557.6087794,
            5704.996869
           ]
          }
         ],
         "name": "1997"
        },
        {
         "data": [
          {
           "coloraxis": "coloraxis",
           "geo": "geo",
           "hovertemplate": "<b>%{hovertext}</b><br><br>year=1998<br>country=%{location}<br>value in Megatons=%{z}<extra></extra>",
           "hovertext": [
            "Australia",
            "Austria",
            "Belarus",
            "Belgium",
            "Bulgaria",
            "Canada",
            "Croatia",
            "Cyprus",
            "Czech Republic",
            "Denmark",
            "Estonia",
            "European Union",
            "Finland",
            "France",
            "Germany",
            "Greece",
            "Hungary",
            "Iceland",
            "Ireland",
            "Italy",
            "Japan",
            "Latvia",
            "Liechtenstein",
            "Lithuania",
            "Luxembourg",
            "Malta",
            "Monaco",
            "Netherlands",
            "New Zealand",
            "Norway",
            "Poland",
            "Portugal",
            "Romania",
            "Russian Federation",
            "Slovakia",
            "Slovenia",
            "Spain",
            "Sweden",
            "Switzerland",
            "Turkey",
            "Ukraine",
            "United Kingdom",
            "United States of America"
           ],
           "locationmode": "country names",
           "locations": [
            "Australia",
            "Austria",
            "Belarus",
            "Belgium",
            "Bulgaria",
            "Canada",
            "Croatia",
            "Cyprus",
            "Czech Republic",
            "Denmark",
            "Estonia",
            "European Union",
            "Finland",
            "France",
            "Germany",
            "Greece",
            "Hungary",
            "Iceland",
            "Ireland",
            "Italy",
            "Japan",
            "Latvia",
            "Liechtenstein",
            "Lithuania",
            "Luxembourg",
            "Malta",
            "Monaco",
            "Netherlands",
            "New Zealand",
            "Norway",
            "Poland",
            "Portugal",
            "Romania",
            "Russian Federation",
            "Slovakia",
            "Slovenia",
            "Spain",
            "Sweden",
            "Switzerland",
            "Turkey",
            "Ukraine",
            "United Kingdom",
            "United States of America"
           ],
           "name": "",
           "type": "choropleth",
           "z": [
            334.3281426,
            67.04725067,
            57.42632958,
            129.73709,
            52.14335677,
            533.7944536,
            19.3723876,
            6.58029615,
            123.6965173,
            61.11734163,
            16.68430315,
            4207.666032,
            59.35149815,
            429.0514999,
            922.77854,
            98.66319416,
            61.08776379,
            2.450234263,
            40.57217586,
            454.9676332,
            1218.257762,
            8.300595278,
            0.229117104,
            15.90151757,
            7.61936329,
            2.338062788,
            0.099816859,
            176.6171685,
            29.92750138,
            41.93903792,
            339.1458296,
            59.97620992,
            106.8139775,
            1476.588925,
            44.016987,
            15.98047785,
            274.9110969,
            58.73340636,
            44.52237142,
            208.365344,
            309.2076629,
            561.2537228,
            5744.672196
           ]
          }
         ],
         "name": "1998"
        },
        {
         "data": [
          {
           "coloraxis": "coloraxis",
           "geo": "geo",
           "hovertemplate": "<b>%{hovertext}</b><br><br>year=1999<br>country=%{location}<br>value in Megatons=%{z}<extra></extra>",
           "hovertext": [
            "Australia",
            "Austria",
            "Belarus",
            "Belgium",
            "Bulgaria",
            "Canada",
            "Croatia",
            "Cyprus",
            "Czech Republic",
            "Denmark",
            "Estonia",
            "European Union",
            "Finland",
            "France",
            "Germany",
            "Greece",
            "Hungary",
            "Iceland",
            "Ireland",
            "Italy",
            "Japan",
            "Latvia",
            "Liechtenstein",
            "Lithuania",
            "Luxembourg",
            "Malta",
            "Monaco",
            "Netherlands",
            "New Zealand",
            "Norway",
            "Poland",
            "Portugal",
            "Romania",
            "Russian Federation",
            "Slovakia",
            "Slovenia",
            "Spain",
            "Sweden",
            "Switzerland",
            "Turkey",
            "Ukraine",
            "United Kingdom",
            "United States of America"
           ],
           "locationmode": "country names",
           "locations": [
            "Australia",
            "Austria",
            "Belarus",
            "Belgium",
            "Bulgaria",
            "Canada",
            "Croatia",
            "Cyprus",
            "Czech Republic",
            "Denmark",
            "Estonia",
            "European Union",
            "Finland",
            "France",
            "Germany",
            "Greece",
            "Hungary",
            "Iceland",
            "Ireland",
            "Italy",
            "Japan",
            "Latvia",
            "Liechtenstein",
            "Lithuania",
            "Luxembourg",
            "Malta",
            "Monaco",
            "Netherlands",
            "New Zealand",
            "Norway",
            "Poland",
            "Portugal",
            "Romania",
            "Russian Federation",
            "Slovakia",
            "Slovenia",
            "Spain",
            "Sweden",
            "Switzerland",
            "Turkey",
            "Ukraine",
            "United Kingdom",
            "United States of America"
           ],
           "name": "",
           "type": "choropleth",
           "z": [
            343.7139069,
            65.66013364,
            55.03395212,
            124.2080718,
            45.7517891,
            550.1830634,
            20.21565323,
            6.847659116,
            115.47526,
            58.45641582,
            15.51849062,
            4139.002995,
            58.8729308,
            420.506322,
            895.3367862,
            97.97977835,
            61.59314102,
            2.655394725,
            42.30208786,
            459.8406423,
            1253.082147,
            7.709049993,
            0.226448838,
            13.42215115,
            7.986155881,
            2.418555565,
            0.100659282,
            171.2281096,
            31.52318609,
            42.69175637,
            329.3808984,
            67.61281189,
            90.44335077,
            1512.651931,
            43.18131449,
            15.35307144,
            298.5310279,
            55.86121922,
            44.35454312,
            206.3886198,
            284.1095693,
            553.8275491,
            5818.972385
           ]
          }
         ],
         "name": "1999"
        },
        {
         "data": [
          {
           "coloraxis": "coloraxis",
           "geo": "geo",
           "hovertemplate": "<b>%{hovertext}</b><br><br>year=2000<br>country=%{location}<br>value in Megatons=%{z}<extra></extra>",
           "hovertext": [
            "Australia",
            "Austria",
            "Belarus",
            "Belgium",
            "Bulgaria",
            "Canada",
            "Croatia",
            "Cyprus",
            "Czech Republic",
            "Denmark",
            "Estonia",
            "European Union",
            "Finland",
            "France",
            "Germany",
            "Greece",
            "Hungary",
            "Iceland",
            "Ireland",
            "Italy",
            "Japan",
            "Latvia",
            "Liechtenstein",
            "Lithuania",
            "Luxembourg",
            "Malta",
            "Monaco",
            "Netherlands",
            "New Zealand",
            "Norway",
            "Poland",
            "Portugal",
            "Romania",
            "Russian Federation",
            "Slovakia",
            "Slovenia",
            "Spain",
            "Sweden",
            "Switzerland",
            "Turkey",
            "Ukraine",
            "United Kingdom",
            "United States of America"
           ],
           "locationmode": "country names",
           "locations": [
            "Australia",
            "Austria",
            "Belarus",
            "Belgium",
            "Bulgaria",
            "Canada",
            "Croatia",
            "Cyprus",
            "Czech Republic",
            "Denmark",
            "Estonia",
            "European Union",
            "Finland",
            "France",
            "Germany",
            "Greece",
            "Hungary",
            "Iceland",
            "Ireland",
            "Italy",
            "Japan",
            "Latvia",
            "Liechtenstein",
            "Lithuania",
            "Luxembourg",
            "Malta",
            "Monaco",
            "Netherlands",
            "New Zealand",
            "Norway",
            "Poland",
            "Portugal",
            "Romania",
            "Russian Federation",
            "Slovakia",
            "Slovenia",
            "Spain",
            "Sweden",
            "Switzerland",
            "Turkey",
            "Ukraine",
            "United Kingdom",
            "United States of America"
           ],
           "name": "",
           "type": "choropleth",
           "z": [
            349.8854331,
            66.27474325,
            53.68685749,
            126.3152099,
            44.89667055,
            572.2903855,
            19.78912175,
            7.095964385,
            125.8419693,
            54.14890497,
            15.14138772,
            4165.145441,
            56.97335053,
            417.1165447,
            899.2849934,
            103.0196647,
            58.33680706,
            2.728937485,
            45.12333544,
            465.1750734,
            1274.297988,
            7.06994204,
            0.216750456,
            11.8019649,
            8.798182081,
            2.414283811,
            0.098324356,
            172.0598122,
            32.35595702,
            42.19461918,
            319.1204051,
            66.41132992,
            95.19090345,
            1504.182729,
            41.15501145,
            15.46015417,
            311.5997239,
            54.73042441,
            43.54595971,
            232.5491895,
            271.4297739,
            561.2808662,
            5992.43804
           ]
          }
         ],
         "name": "2000"
        },
        {
         "data": [
          {
           "coloraxis": "coloraxis",
           "geo": "geo",
           "hovertemplate": "<b>%{hovertext}</b><br><br>year=2001<br>country=%{location}<br>value in Megatons=%{z}<extra></extra>",
           "hovertext": [
            "Australia",
            "Austria",
            "Belarus",
            "Belgium",
            "Bulgaria",
            "Canada",
            "Croatia",
            "Cyprus",
            "Czech Republic",
            "Denmark",
            "Estonia",
            "European Union",
            "Finland",
            "France",
            "Germany",
            "Greece",
            "Hungary",
            "Iceland",
            "Ireland",
            "Italy",
            "Japan",
            "Latvia",
            "Liechtenstein",
            "Lithuania",
            "Luxembourg",
            "Malta",
            "Monaco",
            "Netherlands",
            "New Zealand",
            "Norway",
            "Poland",
            "Portugal",
            "Romania",
            "Russian Federation",
            "Slovakia",
            "Slovenia",
            "Spain",
            "Sweden",
            "Switzerland",
            "Turkey",
            "Ukraine",
            "United Kingdom",
            "United States of America"
           ],
           "locationmode": "country names",
           "locations": [
            "Australia",
            "Austria",
            "Belarus",
            "Belgium",
            "Bulgaria",
            "Canada",
            "Croatia",
            "Cyprus",
            "Czech Republic",
            "Denmark",
            "Estonia",
            "European Union",
            "Finland",
            "France",
            "Germany",
            "Greece",
            "Hungary",
            "Iceland",
            "Ireland",
            "Italy",
            "Japan",
            "Latvia",
            "Liechtenstein",
            "Lithuania",
            "Luxembourg",
            "Malta",
            "Monaco",
            "Netherlands",
            "New Zealand",
            "Norway",
            "Poland",
            "Portugal",
            "Romania",
            "Russian Federation",
            "Slovakia",
            "Slovenia",
            "Spain",
            "Sweden",
            "Switzerland",
            "Turkey",
            "Ukraine",
            "United Kingdom",
            "United States of America"
           ],
           "name": "",
           "type": "choropleth",
           "z": [
            357.6533299,
            70.29947115,
            53.78384767,
            125.6493705,
            48.56891783,
            564.6170203,
            20.94310996,
            6.969466176,
            125.5415365,
            55.84514718,
            15.49386099,
            4232.036863,
            62.44264007,
            417.8647056,
            915.6344396,
            105.4073076,
            59.99573448,
            2.710294727,
            47.48272078,
            471.1242767,
            1257.38456,
            7.480502607,
            0.214585311,
            12.50796668,
            9.311916127,
            2.550604061,
            0.098548868,
            177.0374016,
            34.58172276,
            43.53034876,
            315.2740936,
            66.11375571,
            100.377987,
            1542.500065,
            43.46809335,
            16.38475614,
            312.3954032,
            55.68674575,
            45.00227877,
            217.4695033,
            290.7747097,
            570.6970303,
            5894.462942
           ]
          }
         ],
         "name": "2001"
        },
        {
         "data": [
          {
           "coloraxis": "coloraxis",
           "geo": "geo",
           "hovertemplate": "<b>%{hovertext}</b><br><br>year=2002<br>country=%{location}<br>value in Megatons=%{z}<extra></extra>",
           "hovertext": [
            "Australia",
            "Austria",
            "Belarus",
            "Belgium",
            "Bulgaria",
            "Canada",
            "Croatia",
            "Cyprus",
            "Czech Republic",
            "Denmark",
            "Estonia",
            "European Union",
            "Finland",
            "France",
            "Germany",
            "Greece",
            "Hungary",
            "Iceland",
            "Ireland",
            "Italy",
            "Japan",
            "Latvia",
            "Liechtenstein",
            "Lithuania",
            "Luxembourg",
            "Malta",
            "Monaco",
            "Netherlands",
            "New Zealand",
            "Norway",
            "Poland",
            "Portugal",
            "Romania",
            "Russian Federation",
            "Slovakia",
            "Slovenia",
            "Spain",
            "Sweden",
            "Switzerland",
            "Turkey",
            "Ukraine",
            "United Kingdom",
            "United States of America"
           ],
           "locationmode": "country names",
           "locations": [
            "Australia",
            "Austria",
            "Belarus",
            "Belgium",
            "Bulgaria",
            "Canada",
            "Croatia",
            "Cyprus",
            "Czech Republic",
            "Denmark",
            "Estonia",
            "European Union",
            "Finland",
            "France",
            "Germany",
            "Greece",
            "Hungary",
            "Iceland",
            "Ireland",
            "Italy",
            "Japan",
            "Latvia",
            "Liechtenstein",
            "Lithuania",
            "Luxembourg",
            "Malta",
            "Monaco",
            "Netherlands",
            "New Zealand",
            "Norway",
            "Poland",
            "Portugal",
            "Romania",
            "Russian Federation",
            "Slovakia",
            "Slovenia",
            "Spain",
            "Sweden",
            "Switzerland",
            "Turkey",
            "Ukraine",
            "United Kingdom",
            "United States of America"
           ],
           "name": "",
           "type": "choropleth",
           "z": [
            361.8613879,
            72.12659144,
            53.84370442,
            126.0151947,
            45.78629472,
            569.8621456,
            22.03112667,
            7.160388458,
            122.5934001,
            55.3396717,
            15.02028415,
            4208.860123,
            64.94646821,
            413.5692479,
            899.1615674,
            105.0514662,
            58.96822777,
            2.795907312,
            45.95273017,
            473.5040592,
            1294.399198,
            7.508743242,
            0.219947205,
            12.61442501,
            10.06814032,
            2.464212229,
            0.098161276,
            176.4624006,
            34.76827818,
            42.65587483,
            307.5356422,
            69.95449452,
            100.6553131,
            1531.200212,
            41.59353325,
            16.52631271,
            332.2008428,
            56.63189617,
            43.37398555,
            226.365412,
            281.9393497,
            554.2276358,
            5935.738784
           ]
          }
         ],
         "name": "2002"
        },
        {
         "data": [
          {
           "coloraxis": "coloraxis",
           "geo": "geo",
           "hovertemplate": "<b>%{hovertext}</b><br><br>year=2003<br>country=%{location}<br>value in Megatons=%{z}<extra></extra>",
           "hovertext": [
            "Australia",
            "Austria",
            "Belarus",
            "Belgium",
            "Bulgaria",
            "Canada",
            "Croatia",
            "Cyprus",
            "Czech Republic",
            "Denmark",
            "Estonia",
            "European Union",
            "Finland",
            "France",
            "Germany",
            "Greece",
            "Hungary",
            "Iceland",
            "Ireland",
            "Italy",
            "Japan",
            "Latvia",
            "Liechtenstein",
            "Lithuania",
            "Luxembourg",
            "Malta",
            "Monaco",
            "Netherlands",
            "New Zealand",
            "Norway",
            "Poland",
            "Portugal",
            "Romania",
            "Russian Federation",
            "Slovakia",
            "Slovenia",
            "Spain",
            "Sweden",
            "Switzerland",
            "Turkey",
            "Ukraine",
            "United Kingdom",
            "United States of America"
           ],
           "locationmode": "country names",
           "locations": [
            "Australia",
            "Austria",
            "Belarus",
            "Belgium",
            "Bulgaria",
            "Canada",
            "Croatia",
            "Cyprus",
            "Czech Republic",
            "Denmark",
            "Estonia",
            "European Union",
            "Finland",
            "France",
            "Germany",
            "Greece",
            "Hungary",
            "Iceland",
            "Ireland",
            "Italy",
            "Japan",
            "Latvia",
            "Liechtenstein",
            "Lithuania",
            "Luxembourg",
            "Malta",
            "Monaco",
            "Netherlands",
            "New Zealand",
            "Norway",
            "Poland",
            "Portugal",
            "Romania",
            "Russian Federation",
            "Slovakia",
            "Slovenia",
            "Spain",
            "Sweden",
            "Switzerland",
            "Turkey",
            "Ukraine",
            "United Kingdom",
            "United States of America"
           ],
           "name": "",
           "type": "choropleth",
           "z": [
            368.3459774,
            78.0239539,
            54.84514584,
            127.5239897,
            49.97115158,
            587.3066785,
            23.3552211,
            7.550081928,
            126.1516488,
            60.49396172,
            16.83321429,
            4306.103945,
            72.52259019,
            422.3128845,
            900.3775854,
            109.1265676,
            61.7668396,
            2.792723132,
            45.55432252,
            489.5955081,
            1299.490609,
            7.703771508,
            0.229265875,
            12.6052382,
            10.44338322,
            2.666134325,
            0.095298855,
            179.867889,
            36.49717101,
            43.90670966,
            320.2301705,
            64.69729922,
            105.737481,
            1568.510143,
            42.06055025,
            16.2893859,
            336.6724225,
            57.20359907,
            44.58798027,
            240.9024629,
            285.7204799,
            565.4755203,
            5982.289167
           ]
          }
         ],
         "name": "2003"
        },
        {
         "data": [
          {
           "coloraxis": "coloraxis",
           "geo": "geo",
           "hovertemplate": "<b>%{hovertext}</b><br><br>year=2004<br>country=%{location}<br>value in Megatons=%{z}<extra></extra>",
           "hovertext": [
            "Australia",
            "Austria",
            "Belarus",
            "Belgium",
            "Bulgaria",
            "Canada",
            "Croatia",
            "Cyprus",
            "Czech Republic",
            "Denmark",
            "Estonia",
            "European Union",
            "Finland",
            "France",
            "Germany",
            "Greece",
            "Hungary",
            "Iceland",
            "Ireland",
            "Italy",
            "Japan",
            "Latvia",
            "Liechtenstein",
            "Lithuania",
            "Luxembourg",
            "Malta",
            "Monaco",
            "Netherlands",
            "New Zealand",
            "Norway",
            "Poland",
            "Portugal",
            "Romania",
            "Russian Federation",
            "Slovakia",
            "Slovenia",
            "Spain",
            "Sweden",
            "Switzerland",
            "Turkey",
            "Ukraine",
            "United Kingdom",
            "United States of America"
           ],
           "locationmode": "country names",
           "locations": [
            "Australia",
            "Austria",
            "Belarus",
            "Belgium",
            "Bulgaria",
            "Canada",
            "Croatia",
            "Cyprus",
            "Czech Republic",
            "Denmark",
            "Estonia",
            "European Union",
            "Finland",
            "France",
            "Germany",
            "Greece",
            "Hungary",
            "Iceland",
            "Ireland",
            "Italy",
            "Japan",
            "Latvia",
            "Liechtenstein",
            "Lithuania",
            "Luxembourg",
            "Malta",
            "Monaco",
            "Netherlands",
            "New Zealand",
            "Norway",
            "Poland",
            "Portugal",
            "Romania",
            "Russian Federation",
            "Slovakia",
            "Slovenia",
            "Spain",
            "Sweden",
            "Switzerland",
            "Turkey",
            "Ukraine",
            "United Kingdom",
            "United States of America"
           ],
           "name": "",
           "type": "choropleth",
           "z": [
            381.5192616,
            78.38899743,
            58.45764762,
            128.6404835,
            49.17033769,
            585.4148606,
            23.00523485,
            7.776909405,
            126.8769162,
            54.91691056,
            17.05507425,
            4314.560871,
            68.82181289,
            423.1686361,
            886.3446297,
            109.5710609,
            60.23166198,
            2.837029011,
            46.04240225,
            492.7462556,
            1298.433888,
            7.709460762,
            0.229296322,
            13.18549337,
            11.87110772,
            2.604744832,
            0.090200504,
            181.546257,
            36.06366333,
            44.32000488,
            324.2794498,
            67.45815914,
            104.5750778,
            1575.18086,
            42.57695889,
            16.6391711,
            353.4726123,
            56.42880314,
            45.14966709,
            253.1720784,
            296.7537315,
            566.598164,
            6096.978363
           ]
          }
         ],
         "name": "2004"
        },
        {
         "data": [
          {
           "coloraxis": "coloraxis",
           "geo": "geo",
           "hovertemplate": "<b>%{hovertext}</b><br><br>year=2005<br>country=%{location}<br>value in Megatons=%{z}<extra></extra>",
           "hovertext": [
            "Australia",
            "Austria",
            "Belarus",
            "Belgium",
            "Bulgaria",
            "Canada",
            "Croatia",
            "Cyprus",
            "Czech Republic",
            "Denmark",
            "Estonia",
            "European Union",
            "Finland",
            "France",
            "Germany",
            "Greece",
            "Hungary",
            "Iceland",
            "Ireland",
            "Italy",
            "Japan",
            "Latvia",
            "Liechtenstein",
            "Lithuania",
            "Luxembourg",
            "Malta",
            "Monaco",
            "Netherlands",
            "New Zealand",
            "Norway",
            "Poland",
            "Portugal",
            "Romania",
            "Russian Federation",
            "Slovakia",
            "Slovenia",
            "Spain",
            "Sweden",
            "Switzerland",
            "Turkey",
            "Ukraine",
            "United Kingdom",
            "United States of America"
           ],
           "locationmode": "country names",
           "locations": [
            "Australia",
            "Austria",
            "Belarus",
            "Belgium",
            "Bulgaria",
            "Canada",
            "Croatia",
            "Cyprus",
            "Czech Republic",
            "Denmark",
            "Estonia",
            "European Union",
            "Finland",
            "France",
            "Germany",
            "Greece",
            "Hungary",
            "Iceland",
            "Ireland",
            "Italy",
            "Japan",
            "Latvia",
            "Liechtenstein",
            "Lithuania",
            "Luxembourg",
            "Malta",
            "Monaco",
            "Netherlands",
            "New Zealand",
            "Norway",
            "Poland",
            "Portugal",
            "Romania",
            "Russian Federation",
            "Slovakia",
            "Slovenia",
            "Spain",
            "Sweden",
            "Switzerland",
            "Turkey",
            "Ukraine",
            "United Kingdom",
            "United States of America"
           ],
           "name": "",
           "type": "choropleth",
           "z": [
            385.5811328,
            79.58850188,
            59.66473908,
            125.1180165,
            50.19111606,
            579.2253357,
            23.45184585,
            7.961983989,
            124.5901379,
            51.30724452,
            16.33073383,
            4290.586668,
            56.91231489,
            428.5576102,
            865.9585134,
            113.2198224,
            60.32950501,
            2.797314592,
            47.95220439,
            490.9142629,
            1305.938824,
            7.790403932,
            0.228970324,
            13.9468843,
            12.13091379,
            2.736312934,
            0.088750691,
            177.5404732,
            37.6454343,
            43.54823029,
            323.3725784,
            70.03452941,
            102.4142524,
            1593.933344,
            42.5810225,
            16.93832426,
            368.7450684,
            53.85920573,
            45.77808946,
            279.1307408,
            307.3414835,
            563.7835376,
            6122.746612
           ]
          }
         ],
         "name": "2005"
        },
        {
         "data": [
          {
           "coloraxis": "coloraxis",
           "geo": "geo",
           "hovertemplate": "<b>%{hovertext}</b><br><br>year=2006<br>country=%{location}<br>value in Megatons=%{z}<extra></extra>",
           "hovertext": [
            "Australia",
            "Austria",
            "Belarus",
            "Belgium",
            "Bulgaria",
            "Canada",
            "Croatia",
            "Cyprus",
            "Czech Republic",
            "Denmark",
            "Estonia",
            "European Union",
            "Finland",
            "France",
            "Germany",
            "Greece",
            "Hungary",
            "Iceland",
            "Ireland",
            "Italy",
            "Japan",
            "Latvia",
            "Liechtenstein",
            "Lithuania",
            "Luxembourg",
            "Malta",
            "Monaco",
            "Netherlands",
            "New Zealand",
            "Norway",
            "Poland",
            "Portugal",
            "Romania",
            "Russian Federation",
            "Slovakia",
            "Slovenia",
            "Spain",
            "Sweden",
            "Switzerland",
            "Turkey",
            "Ukraine",
            "United Kingdom",
            "United States of America"
           ],
           "locationmode": "country names",
           "locations": [
            "Australia",
            "Austria",
            "Belarus",
            "Belgium",
            "Bulgaria",
            "Canada",
            "Croatia",
            "Cyprus",
            "Czech Republic",
            "Denmark",
            "Estonia",
            "European Union",
            "Finland",
            "France",
            "Germany",
            "Greece",
            "Hungary",
            "Iceland",
            "Ireland",
            "Italy",
            "Japan",
            "Latvia",
            "Liechtenstein",
            "Lithuania",
            "Luxembourg",
            "Malta",
            "Monaco",
            "Netherlands",
            "New Zealand",
            "Norway",
            "Poland",
            "Portugal",
            "Romania",
            "Russian Federation",
            "Slovakia",
            "Slovenia",
            "Spain",
            "Sweden",
            "Switzerland",
            "Turkey",
            "Ukraine",
            "United Kingdom",
            "United States of America"
           ],
           "name": "",
           "type": "choropleth",
           "z": [
            391.1341009,
            76.93495153,
            62.22939888,
            122.3195938,
            51.44628294,
            573.4792697,
            23.68493503,
            8.152492308,
            125.9234024,
            59.16249963,
            15.71952893,
            4297.988162,
            68.201906,
            417.6626789,
            877.4224569,
            111.7777437,
            59.75173108,
            2.939276597,
            47.40596673,
            486.5940666,
            1285.177837,
            8.289206678,
            0.231217305,
            14.30303268,
            11.99582017,
            2.776314307,
            0.082123918,
            172.7728928,
            37.51910473,
            43.91374482,
            336.5005789,
            65.46541972,
            106.1759911,
            1653.289193,
            42.32048448,
            17.12980199,
            360.0633363,
            53.69765593,
            45.351172,
            302.1959546,
            325.586622,
            562.0830948,
            6042.393615
           ]
          }
         ],
         "name": "2006"
        },
        {
         "data": [
          {
           "coloraxis": "coloraxis",
           "geo": "geo",
           "hovertemplate": "<b>%{hovertext}</b><br><br>year=2007<br>country=%{location}<br>value in Megatons=%{z}<extra></extra>",
           "hovertext": [
            "Australia",
            "Austria",
            "Belarus",
            "Belgium",
            "Bulgaria",
            "Canada",
            "Croatia",
            "Cyprus",
            "Czech Republic",
            "Denmark",
            "Estonia",
            "European Union",
            "Finland",
            "France",
            "Germany",
            "Greece",
            "Hungary",
            "Iceland",
            "Ireland",
            "Italy",
            "Japan",
            "Latvia",
            "Liechtenstein",
            "Lithuania",
            "Luxembourg",
            "Malta",
            "Monaco",
            "Netherlands",
            "New Zealand",
            "Norway",
            "Poland",
            "Portugal",
            "Romania",
            "Russian Federation",
            "Slovakia",
            "Slovenia",
            "Spain",
            "Sweden",
            "Switzerland",
            "Turkey",
            "Ukraine",
            "United Kingdom",
            "United States of America"
           ],
           "locationmode": "country names",
           "locations": [
            "Australia",
            "Austria",
            "Belarus",
            "Belgium",
            "Bulgaria",
            "Canada",
            "Croatia",
            "Cyprus",
            "Czech Republic",
            "Denmark",
            "Estonia",
            "European Union",
            "Finland",
            "France",
            "Germany",
            "Greece",
            "Hungary",
            "Iceland",
            "Ireland",
            "Italy",
            "Japan",
            "Latvia",
            "Liechtenstein",
            "Lithuania",
            "Luxembourg",
            "Malta",
            "Monaco",
            "Netherlands",
            "New Zealand",
            "Norway",
            "Poland",
            "Portugal",
            "Romania",
            "Russian Federation",
            "Slovakia",
            "Slovenia",
            "Spain",
            "Sweden",
            "Switzerland",
            "Turkey",
            "Ukraine",
            "United Kingdom",
            "United States of America"
           ],
           "name": "",
           "type": "choropleth",
           "z": [
            398.8164535,
            74.26811072,
            61.56388173,
            118.0274086,
            55.1844241,
            596.041322,
            24.95537593,
            8.458664261,
            126.933163,
            54.42908517,
            18.75564793,
            4244.213129,
            66.53172081,
            408.5085899,
            850.7957208,
            114.1275543,
            58.41903917,
            3.236895337,
            47.49312668,
            478.2377112,
            1319.799194,
            8.610255397,
            0.200920108,
            15.62407634,
            11.39870592,
            2.831642265,
            0.082719192,
            173.1784204,
            36.65137149,
            45.84280953,
            336.2681109,
            62.79114777,
            104.5403509,
            1653.139056,
            40.72529984,
            17.27237919,
            367.2922833,
            52.91172673,
            43.3603857,
            333.1664187,
            330.0872508,
            553.719939,
            6121.653863
           ]
          }
         ],
         "name": "2007"
        },
        {
         "data": [
          {
           "coloraxis": "coloraxis",
           "geo": "geo",
           "hovertemplate": "<b>%{hovertext}</b><br><br>year=2008<br>country=%{location}<br>value in Megatons=%{z}<extra></extra>",
           "hovertext": [
            "Australia",
            "Austria",
            "Belarus",
            "Belgium",
            "Bulgaria",
            "Canada",
            "Croatia",
            "Cyprus",
            "Czech Republic",
            "Denmark",
            "Estonia",
            "European Union",
            "Finland",
            "France",
            "Germany",
            "Greece",
            "Hungary",
            "Iceland",
            "Ireland",
            "Italy",
            "Japan",
            "Latvia",
            "Liechtenstein",
            "Lithuania",
            "Luxembourg",
            "Malta",
            "Monaco",
            "Netherlands",
            "New Zealand",
            "Norway",
            "Poland",
            "Portugal",
            "Romania",
            "Russian Federation",
            "Slovakia",
            "Slovenia",
            "Spain",
            "Sweden",
            "Switzerland",
            "Turkey",
            "Ukraine",
            "United Kingdom",
            "United States of America"
           ],
           "locationmode": "country names",
           "locations": [
            "Australia",
            "Austria",
            "Belarus",
            "Belgium",
            "Bulgaria",
            "Canada",
            "Croatia",
            "Cyprus",
            "Czech Republic",
            "Denmark",
            "Estonia",
            "European Union",
            "Finland",
            "France",
            "Germany",
            "Greece",
            "Hungary",
            "Iceland",
            "Ireland",
            "Italy",
            "Japan",
            "Latvia",
            "Liechtenstein",
            "Lithuania",
            "Luxembourg",
            "Malta",
            "Monaco",
            "Netherlands",
            "New Zealand",
            "Norway",
            "Poland",
            "Portugal",
            "Romania",
            "Russian Federation",
            "Slovakia",
            "Slovenia",
            "Spain",
            "Sweden",
            "Switzerland",
            "Turkey",
            "Ukraine",
            "United Kingdom",
            "United States of America"
           ],
           "name": "",
           "type": "choropleth",
           "z": [
            404.2378282,
            74.06625579,
            63.84610379,
            120.3626098,
            53.65514017,
            577.4449302,
            23.71538432,
            8.620395582,
            121.7807163,
            50.93567153,
            17.26452003,
            4149.624296,
            58.46163302,
            401.8788647,
            853.2299408,
            110.2557655,
            57.32516233,
            3.56720926,
            47.17554027,
            467.9335932,
            1235.45581,
            8.184971247,
            0.219698915,
            14.96325472,
            11.24587249,
            2.822406167,
            0.081376901,
            176.1744184,
            37.67405177,
            44.89309419,
            329.3381711,
            60.5500402,
            101.0354208,
            1684.999823,
            41.23632404,
            18.21973043,
            335.9948037,
            50.83157681,
            44.67694397,
            323.5365451,
            317.0638437,
            539.9161632,
            5923.201376
           ]
          }
         ],
         "name": "2008"
        },
        {
         "data": [
          {
           "coloraxis": "coloraxis",
           "geo": "geo",
           "hovertemplate": "<b>%{hovertext}</b><br><br>year=2009<br>country=%{location}<br>value in Megatons=%{z}<extra></extra>",
           "hovertext": [
            "Australia",
            "Austria",
            "Belarus",
            "Belgium",
            "Bulgaria",
            "Canada",
            "Croatia",
            "Cyprus",
            "Czech Republic",
            "Denmark",
            "Estonia",
            "European Union",
            "Finland",
            "France",
            "Germany",
            "Greece",
            "Hungary",
            "Iceland",
            "Ireland",
            "Italy",
            "Japan",
            "Latvia",
            "Liechtenstein",
            "Lithuania",
            "Luxembourg",
            "Malta",
            "Monaco",
            "Netherlands",
            "New Zealand",
            "Norway",
            "Poland",
            "Portugal",
            "Romania",
            "Russian Federation",
            "Slovakia",
            "Slovenia",
            "Spain",
            "Sweden",
            "Switzerland",
            "Turkey",
            "Ukraine",
            "United Kingdom",
            "United States of America"
           ],
           "locationmode": "country names",
           "locations": [
            "Australia",
            "Austria",
            "Belarus",
            "Belgium",
            "Bulgaria",
            "Canada",
            "Croatia",
            "Cyprus",
            "Czech Republic",
            "Denmark",
            "Estonia",
            "European Union",
            "Finland",
            "France",
            "Germany",
            "Greece",
            "Hungary",
            "Iceland",
            "Ireland",
            "Italy",
            "Japan",
            "Latvia",
            "Liechtenstein",
            "Lithuania",
            "Luxembourg",
            "Malta",
            "Monaco",
            "Netherlands",
            "New Zealand",
            "Norway",
            "Poland",
            "Portugal",
            "Romania",
            "Russian Federation",
            "Slovakia",
            "Slovenia",
            "Spain",
            "Sweden",
            "Switzerland",
            "Turkey",
            "Ukraine",
            "United Kingdom",
            "United States of America"
           ],
           "name": "",
           "type": "choropleth",
           "z": [
            408.448479,
            67.68272515,
            59.59620538,
            107.2825435,
            45.48787355,
            542.8294589,
            21.96563527,
            8.372396592,
            113.9700292,
            48.59221139,
            14.15300516,
            3814.305258,
            55.63558277,
            383.9576243,
            788.4224379,
            103.9697843,
            51.63069002,
            3.52189071,
            41.99632468,
            418.8810769,
            1162.606192,
            7.443286011,
            0.205590544,
            12.72712004,
            10.72552213,
            2.684521293,
            0.077771936,
            170.7961566,
            34.80640209,
            43.21209247,
            315.9379659,
            58.00419697,
            85.28829402,
            1576.703967,
            37.43343342,
            16.32821033,
            296.617991,
            47.26744667,
            43.50908656,
            310.580701,
            269.5984218,
            489.0125005,
            5488.32028
           ]
          }
         ],
         "name": "2009"
        },
        {
         "data": [
          {
           "coloraxis": "coloraxis",
           "geo": "geo",
           "hovertemplate": "<b>%{hovertext}</b><br><br>year=2010<br>country=%{location}<br>value in Megatons=%{z}<extra></extra>",
           "hovertext": [
            "Australia",
            "Austria",
            "Belarus",
            "Belgium",
            "Bulgaria",
            "Canada",
            "Croatia",
            "Cyprus",
            "Czech Republic",
            "Denmark",
            "Estonia",
            "European Union",
            "Finland",
            "France",
            "Germany",
            "Greece",
            "Hungary",
            "Iceland",
            "Ireland",
            "Italy",
            "Japan",
            "Latvia",
            "Liechtenstein",
            "Lithuania",
            "Luxembourg",
            "Malta",
            "Monaco",
            "Netherlands",
            "New Zealand",
            "Norway",
            "Poland",
            "Portugal",
            "Romania",
            "Russian Federation",
            "Slovakia",
            "Slovenia",
            "Spain",
            "Sweden",
            "Switzerland",
            "Turkey",
            "Ukraine",
            "United Kingdom",
            "United States of America"
           ],
           "locationmode": "country names",
           "locations": [
            "Australia",
            "Austria",
            "Belarus",
            "Belgium",
            "Bulgaria",
            "Canada",
            "Croatia",
            "Cyprus",
            "Czech Republic",
            "Denmark",
            "Estonia",
            "European Union",
            "Finland",
            "France",
            "Germany",
            "Greece",
            "Hungary",
            "Iceland",
            "Ireland",
            "Italy",
            "Japan",
            "Latvia",
            "Liechtenstein",
            "Lithuania",
            "Luxembourg",
            "Malta",
            "Monaco",
            "Netherlands",
            "New Zealand",
            "Norway",
            "Poland",
            "Portugal",
            "Romania",
            "Russian Federation",
            "Slovakia",
            "Slovenia",
            "Spain",
            "Sweden",
            "Switzerland",
            "Turkey",
            "Ukraine",
            "United Kingdom",
            "United States of America"
           ],
           "name": "",
           "type": "choropleth",
           "z": [
            406.2009932,
            72.53182613,
            61.6324927,
            114.1553867,
            47.67864896,
            555.0037603,
            21.18370931,
            8.004912021,
            115.7573686,
            48.99341738,
            17.83377961,
            3933.290522,
            63.82801823,
            394.2356741,
            832.2592033,
            97.03508276,
            52.10889276,
            3.383552219,
            41.55827509,
            428.8796812,
            1212.970225,
            8.524087227,
            0.191047502,
            13.61891266,
            11.28502742,
            2.690518035,
            0.075468265,
            182.5297869,
            35.01724135,
            45.83389207,
            334.0261547,
            53.58388586,
            80.79577403,
            1662.592259,
            38.38594252,
            16.36342977,
            283.5814007,
            53.05773463,
            45.02706448,
            320.356659,
            287.1136064,
            507.595712,
            5688.756005
           ]
          }
         ],
         "name": "2010"
        },
        {
         "data": [
          {
           "coloraxis": "coloraxis",
           "geo": "geo",
           "hovertemplate": "<b>%{hovertext}</b><br><br>year=2011<br>country=%{location}<br>value in Megatons=%{z}<extra></extra>",
           "hovertext": [
            "Australia",
            "Austria",
            "Belarus",
            "Belgium",
            "Bulgaria",
            "Canada",
            "Croatia",
            "Cyprus",
            "Czech Republic",
            "Denmark",
            "Estonia",
            "European Union",
            "Finland",
            "France",
            "Germany",
            "Greece",
            "Hungary",
            "Iceland",
            "Ireland",
            "Italy",
            "Japan",
            "Latvia",
            "Liechtenstein",
            "Lithuania",
            "Luxembourg",
            "Malta",
            "Monaco",
            "Netherlands",
            "New Zealand",
            "Norway",
            "Poland",
            "Portugal",
            "Romania",
            "Russian Federation",
            "Slovakia",
            "Slovenia",
            "Spain",
            "Sweden",
            "Switzerland",
            "Turkey",
            "Ukraine",
            "United Kingdom",
            "United States of America"
           ],
           "locationmode": "country names",
           "locations": [
            "Australia",
            "Austria",
            "Belarus",
            "Belgium",
            "Bulgaria",
            "Canada",
            "Croatia",
            "Cyprus",
            "Czech Republic",
            "Denmark",
            "Estonia",
            "European Union",
            "Finland",
            "France",
            "Germany",
            "Greece",
            "Hungary",
            "Iceland",
            "Ireland",
            "Italy",
            "Japan",
            "Latvia",
            "Liechtenstein",
            "Lithuania",
            "Luxembourg",
            "Malta",
            "Monaco",
            "Netherlands",
            "New Zealand",
            "Norway",
            "Poland",
            "Portugal",
            "Romania",
            "Russian Federation",
            "Slovakia",
            "Slovenia",
            "Spain",
            "Sweden",
            "Switzerland",
            "Turkey",
            "Ukraine",
            "United Kingdom",
            "United States of America"
           ],
           "name": "",
           "type": "choropleth",
           "z": [
            403.7055283,
            70.32716704,
            61.12840059,
            104.9457138,
            53.02098112,
            558.1527229,
            20.61444047,
            7.696667805,
            114.1131467,
            43.97078926,
            18.44993086,
            3789.763641,
            56.47874559,
            368.1834384,
            812.4832196,
            94.10294398,
            50.2728651,
            3.29856769,
            37.89519543,
            416.4995342,
            1261.862938,
            7.80765941,
            0.17708804,
            13.9190155,
            11.16851167,
            2.785896568,
            0.071881895,
            169.7921365,
            34.36658268,
            44.94686935,
            333.7136507,
            52.15065344,
            86.16363433,
            1717.221951,
            37.88085315,
            16.34823911,
            283.9186792,
            49.13358694,
            40.97314917,
            338.0944082,
            301.2735022,
            464.8857489,
            5559.507664
           ]
          }
         ],
         "name": "2011"
        },
        {
         "data": [
          {
           "coloraxis": "coloraxis",
           "geo": "geo",
           "hovertemplate": "<b>%{hovertext}</b><br><br>year=2012<br>country=%{location}<br>value in Megatons=%{z}<extra></extra>",
           "hovertext": [
            "Australia",
            "Austria",
            "Belarus",
            "Belgium",
            "Bulgaria",
            "Canada",
            "Croatia",
            "Cyprus",
            "Czech Republic",
            "Denmark",
            "Estonia",
            "European Union",
            "Finland",
            "France",
            "Germany",
            "Greece",
            "Hungary",
            "Iceland",
            "Ireland",
            "Italy",
            "Japan",
            "Latvia",
            "Liechtenstein",
            "Lithuania",
            "Luxembourg",
            "Malta",
            "Monaco",
            "Netherlands",
            "New Zealand",
            "Norway",
            "Poland",
            "Portugal",
            "Romania",
            "Russian Federation",
            "Slovakia",
            "Slovenia",
            "Spain",
            "Sweden",
            "Switzerland",
            "Turkey",
            "Ukraine",
            "United Kingdom",
            "United States of America"
           ],
           "locationmode": "country names",
           "locations": [
            "Australia",
            "Austria",
            "Belarus",
            "Belgium",
            "Bulgaria",
            "Canada",
            "Croatia",
            "Cyprus",
            "Czech Republic",
            "Denmark",
            "Estonia",
            "European Union",
            "Finland",
            "France",
            "Germany",
            "Greece",
            "Hungary",
            "Iceland",
            "Ireland",
            "Italy",
            "Japan",
            "Latvia",
            "Liechtenstein",
            "Lithuania",
            "Luxembourg",
            "Malta",
            "Monaco",
            "Netherlands",
            "New Zealand",
            "Norway",
            "Poland",
            "Portugal",
            "Romania",
            "Russian Federation",
            "Slovakia",
            "Slovenia",
            "Spain",
            "Sweden",
            "Switzerland",
            "Turkey",
            "Ukraine",
            "United Kingdom",
            "United States of America"
           ],
           "name": "",
           "type": "choropleth",
           "z": [
            406.4628477,
            67.69865863,
            60.63685139,
            100.9315956,
            48.11755608,
            563.4236132,
            18.77638135,
            7.160971876,
            109.8413289,
            39.52440203,
            17.30463723,
            3728.965031,
            50.98327288,
            370.4911537,
            817.0314402,
            90.71057425,
            46.77494485,
            3.290576431,
            38.03161872,
            389.3407634,
            1296.186358,
            7.521122528,
            0.185632431,
            13.97552321,
            10.87206448,
            2.868638128,
            0.075165569,
            165.6650238,
            35.62102602,
            44.55396566,
            326.5977905,
            50.26242244,
            84.66123054,
            1727.489104,
            35.86789627,
            15.80018724,
            279.8303083,
            46.55964002,
            42.24155361,
            363.1260072,
            295.7060643,
            484.3880904,
            5349.220947
           ]
          }
         ],
         "name": "2012"
        },
        {
         "data": [
          {
           "coloraxis": "coloraxis",
           "geo": "geo",
           "hovertemplate": "<b>%{hovertext}</b><br><br>year=2013<br>country=%{location}<br>value in Megatons=%{z}<extra></extra>",
           "hovertext": [
            "Australia",
            "Austria",
            "Belarus",
            "Belgium",
            "Bulgaria",
            "Canada",
            "Croatia",
            "Cyprus",
            "Czech Republic",
            "Denmark",
            "Estonia",
            "European Union",
            "Finland",
            "France",
            "Germany",
            "Greece",
            "Hungary",
            "Iceland",
            "Ireland",
            "Italy",
            "Japan",
            "Latvia",
            "Liechtenstein",
            "Lithuania",
            "Luxembourg",
            "Malta",
            "Monaco",
            "Netherlands",
            "New Zealand",
            "Norway",
            "Poland",
            "Portugal",
            "Romania",
            "Russian Federation",
            "Slovakia",
            "Slovenia",
            "Spain",
            "Sweden",
            "Switzerland",
            "Turkey",
            "Ukraine",
            "United Kingdom",
            "United States of America"
           ],
           "locationmode": "country names",
           "locations": [
            "Australia",
            "Austria",
            "Belarus",
            "Belgium",
            "Bulgaria",
            "Canada",
            "Croatia",
            "Cyprus",
            "Czech Republic",
            "Denmark",
            "Estonia",
            "European Union",
            "Finland",
            "France",
            "Germany",
            "Greece",
            "Hungary",
            "Iceland",
            "Ireland",
            "Italy",
            "Japan",
            "Latvia",
            "Liechtenstein",
            "Lithuania",
            "Luxembourg",
            "Malta",
            "Monaco",
            "Netherlands",
            "New Zealand",
            "Norway",
            "Poland",
            "Portugal",
            "Romania",
            "Russian Federation",
            "Slovakia",
            "Slovenia",
            "Spain",
            "Sweden",
            "Switzerland",
            "Turkey",
            "Ukraine",
            "United Kingdom",
            "United States of America"
           ],
           "name": "",
           "type": "choropleth",
           "z": [
            396.9139365,
            67.95712111,
            61.51098715,
            101.7447367,
            42.5349272,
            573.0940388,
            18.35949984,
            6.449610812,
            106.4770887,
            41.53703581,
            19.56636837,
            3646.389525,
            51.83469674,
            369.9855945,
            835.7926323,
            82.91062596,
            43.93087818,
            3.301796314,
            37.04942383,
            362.0636493,
            1311.509149,
            7.353220444,
            0.192864416,
            12.98781753,
            10.30303961,
            2.476074429,
            0.07443092,
            165.4758844,
            35.09428674,
            44.30905597,
            322.4404865,
            48.49555048,
            74.08335824,
            1666.644423,
            35.39515486,
            15.14872538,
            252.2596905,
            44.89915194,
            43.18165944,
            354.9610423,
            287.4364044,
            475.8320506,
            5502.550714
           ]
          }
         ],
         "name": "2013"
        },
        {
         "data": [
          {
           "coloraxis": "coloraxis",
           "geo": "geo",
           "hovertemplate": "<b>%{hovertext}</b><br><br>year=2014<br>country=%{location}<br>value in Megatons=%{z}<extra></extra>",
           "hovertext": [
            "Australia",
            "Austria",
            "Belarus",
            "Belgium",
            "Bulgaria",
            "Canada",
            "Croatia",
            "Cyprus",
            "Czech Republic",
            "Denmark",
            "Estonia",
            "European Union",
            "Finland",
            "France",
            "Germany",
            "Greece",
            "Hungary",
            "Iceland",
            "Ireland",
            "Italy",
            "Japan",
            "Latvia",
            "Liechtenstein",
            "Lithuania",
            "Luxembourg",
            "Malta",
            "Netherlands",
            "New Zealand",
            "Norway",
            "Poland",
            "Portugal",
            "Romania",
            "Russian Federation",
            "Slovakia",
            "Slovenia",
            "Spain",
            "Sweden",
            "Switzerland",
            "Turkey",
            "Ukraine",
            "United Kingdom",
            "United States of America"
           ],
           "locationmode": "country names",
           "locations": [
            "Australia",
            "Austria",
            "Belarus",
            "Belgium",
            "Bulgaria",
            "Canada",
            "Croatia",
            "Cyprus",
            "Czech Republic",
            "Denmark",
            "Estonia",
            "European Union",
            "Finland",
            "France",
            "Germany",
            "Greece",
            "Hungary",
            "Iceland",
            "Ireland",
            "Italy",
            "Japan",
            "Latvia",
            "Liechtenstein",
            "Lithuania",
            "Luxembourg",
            "Malta",
            "Netherlands",
            "New Zealand",
            "Norway",
            "Poland",
            "Portugal",
            "Romania",
            "Russian Federation",
            "Slovakia",
            "Slovenia",
            "Spain",
            "Sweden",
            "Switzerland",
            "Turkey",
            "Ukraine",
            "United Kingdom",
            "United States of America"
           ],
           "name": "",
           "type": "choropleth",
           "z": [
            393.126947,
            64.26256399,
            60.61564573,
            96.32541318,
            45.13995529,
            574.0997755,
            17.60732241,
            6.878555309,
            101.1591222,
            37.46065646,
            18.91871534,
            3463.397564,
            47.59773353,
            341.1525315,
            792.902788,
            79.6282744,
            43.57340884,
            3.272208233,
            36.55906858,
            342.8266771,
            1265.490609,
            7.158718037,
            0.161541817,
            12.73279886,
            9.826253278,
            2.483536786,
            157.7895817,
            35.61698531,
            43.86945109,
            310.3072974,
            48.35369033,
            74.04646763,
            1671.568652,
            33.38742872,
            13.48998004,
            253.466918,
            43.40490317,
            39.26505259,
            382.2134017,
            247.561221,
            434.7945569,
            5556.006578
           ]
          }
         ],
         "name": "2014"
        }
       ],
       "layout": {
        "coloraxis": {
         "colorbar": {
          "title": {
           "text": "value in Megatons"
          }
         },
         "colorscale": [
          [
           0,
           "#0d0887"
          ],
          [
           0.1111111111111111,
           "#46039f"
          ],
          [
           0.2222222222222222,
           "#7201a8"
          ],
          [
           0.3333333333333333,
           "#9c179e"
          ],
          [
           0.4444444444444444,
           "#bd3786"
          ],
          [
           0.5555555555555556,
           "#d8576b"
          ],
          [
           0.6666666666666666,
           "#ed7953"
          ],
          [
           0.7777777777777778,
           "#fb9f3a"
          ],
          [
           0.8888888888888888,
           "#fdca26"
          ],
          [
           1,
           "#f0f921"
          ]
         ]
        },
        "geo": {
         "center": {},
         "domain": {
          "x": [
           0,
           1
          ],
          "y": [
           0,
           1
          ]
         },
         "showcoastlines": false,
         "showframe": false
        },
        "legend": {
         "tracegroupgap": 0
        },
        "margin": {
         "t": 60
        },
        "sliders": [
         {
          "active": 0,
          "currentvalue": {
           "prefix": "year="
          },
          "len": 0.9,
          "pad": {
           "b": 10,
           "t": 60
          },
          "steps": [
           {
            "args": [
             [
              "1991"
             ],
             {
              "frame": {
               "duration": 0,
               "redraw": true
              },
              "fromcurrent": true,
              "mode": "immediate",
              "transition": {
               "duration": 0,
               "easing": "linear"
              }
             }
            ],
            "label": "1991",
            "method": "animate"
           },
           {
            "args": [
             [
              "1992"
             ],
             {
              "frame": {
               "duration": 0,
               "redraw": true
              },
              "fromcurrent": true,
              "mode": "immediate",
              "transition": {
               "duration": 0,
               "easing": "linear"
              }
             }
            ],
            "label": "1992",
            "method": "animate"
           },
           {
            "args": [
             [
              "1993"
             ],
             {
              "frame": {
               "duration": 0,
               "redraw": true
              },
              "fromcurrent": true,
              "mode": "immediate",
              "transition": {
               "duration": 0,
               "easing": "linear"
              }
             }
            ],
            "label": "1993",
            "method": "animate"
           },
           {
            "args": [
             [
              "1994"
             ],
             {
              "frame": {
               "duration": 0,
               "redraw": true
              },
              "fromcurrent": true,
              "mode": "immediate",
              "transition": {
               "duration": 0,
               "easing": "linear"
              }
             }
            ],
            "label": "1994",
            "method": "animate"
           },
           {
            "args": [
             [
              "1995"
             ],
             {
              "frame": {
               "duration": 0,
               "redraw": true
              },
              "fromcurrent": true,
              "mode": "immediate",
              "transition": {
               "duration": 0,
               "easing": "linear"
              }
             }
            ],
            "label": "1995",
            "method": "animate"
           },
           {
            "args": [
             [
              "1996"
             ],
             {
              "frame": {
               "duration": 0,
               "redraw": true
              },
              "fromcurrent": true,
              "mode": "immediate",
              "transition": {
               "duration": 0,
               "easing": "linear"
              }
             }
            ],
            "label": "1996",
            "method": "animate"
           },
           {
            "args": [
             [
              "1997"
             ],
             {
              "frame": {
               "duration": 0,
               "redraw": true
              },
              "fromcurrent": true,
              "mode": "immediate",
              "transition": {
               "duration": 0,
               "easing": "linear"
              }
             }
            ],
            "label": "1997",
            "method": "animate"
           },
           {
            "args": [
             [
              "1998"
             ],
             {
              "frame": {
               "duration": 0,
               "redraw": true
              },
              "fromcurrent": true,
              "mode": "immediate",
              "transition": {
               "duration": 0,
               "easing": "linear"
              }
             }
            ],
            "label": "1998",
            "method": "animate"
           },
           {
            "args": [
             [
              "1999"
             ],
             {
              "frame": {
               "duration": 0,
               "redraw": true
              },
              "fromcurrent": true,
              "mode": "immediate",
              "transition": {
               "duration": 0,
               "easing": "linear"
              }
             }
            ],
            "label": "1999",
            "method": "animate"
           },
           {
            "args": [
             [
              "2000"
             ],
             {
              "frame": {
               "duration": 0,
               "redraw": true
              },
              "fromcurrent": true,
              "mode": "immediate",
              "transition": {
               "duration": 0,
               "easing": "linear"
              }
             }
            ],
            "label": "2000",
            "method": "animate"
           },
           {
            "args": [
             [
              "2001"
             ],
             {
              "frame": {
               "duration": 0,
               "redraw": true
              },
              "fromcurrent": true,
              "mode": "immediate",
              "transition": {
               "duration": 0,
               "easing": "linear"
              }
             }
            ],
            "label": "2001",
            "method": "animate"
           },
           {
            "args": [
             [
              "2002"
             ],
             {
              "frame": {
               "duration": 0,
               "redraw": true
              },
              "fromcurrent": true,
              "mode": "immediate",
              "transition": {
               "duration": 0,
               "easing": "linear"
              }
             }
            ],
            "label": "2002",
            "method": "animate"
           },
           {
            "args": [
             [
              "2003"
             ],
             {
              "frame": {
               "duration": 0,
               "redraw": true
              },
              "fromcurrent": true,
              "mode": "immediate",
              "transition": {
               "duration": 0,
               "easing": "linear"
              }
             }
            ],
            "label": "2003",
            "method": "animate"
           },
           {
            "args": [
             [
              "2004"
             ],
             {
              "frame": {
               "duration": 0,
               "redraw": true
              },
              "fromcurrent": true,
              "mode": "immediate",
              "transition": {
               "duration": 0,
               "easing": "linear"
              }
             }
            ],
            "label": "2004",
            "method": "animate"
           },
           {
            "args": [
             [
              "2005"
             ],
             {
              "frame": {
               "duration": 0,
               "redraw": true
              },
              "fromcurrent": true,
              "mode": "immediate",
              "transition": {
               "duration": 0,
               "easing": "linear"
              }
             }
            ],
            "label": "2005",
            "method": "animate"
           },
           {
            "args": [
             [
              "2006"
             ],
             {
              "frame": {
               "duration": 0,
               "redraw": true
              },
              "fromcurrent": true,
              "mode": "immediate",
              "transition": {
               "duration": 0,
               "easing": "linear"
              }
             }
            ],
            "label": "2006",
            "method": "animate"
           },
           {
            "args": [
             [
              "2007"
             ],
             {
              "frame": {
               "duration": 0,
               "redraw": true
              },
              "fromcurrent": true,
              "mode": "immediate",
              "transition": {
               "duration": 0,
               "easing": "linear"
              }
             }
            ],
            "label": "2007",
            "method": "animate"
           },
           {
            "args": [
             [
              "2008"
             ],
             {
              "frame": {
               "duration": 0,
               "redraw": true
              },
              "fromcurrent": true,
              "mode": "immediate",
              "transition": {
               "duration": 0,
               "easing": "linear"
              }
             }
            ],
            "label": "2008",
            "method": "animate"
           },
           {
            "args": [
             [
              "2009"
             ],
             {
              "frame": {
               "duration": 0,
               "redraw": true
              },
              "fromcurrent": true,
              "mode": "immediate",
              "transition": {
               "duration": 0,
               "easing": "linear"
              }
             }
            ],
            "label": "2009",
            "method": "animate"
           },
           {
            "args": [
             [
              "2010"
             ],
             {
              "frame": {
               "duration": 0,
               "redraw": true
              },
              "fromcurrent": true,
              "mode": "immediate",
              "transition": {
               "duration": 0,
               "easing": "linear"
              }
             }
            ],
            "label": "2010",
            "method": "animate"
           },
           {
            "args": [
             [
              "2011"
             ],
             {
              "frame": {
               "duration": 0,
               "redraw": true
              },
              "fromcurrent": true,
              "mode": "immediate",
              "transition": {
               "duration": 0,
               "easing": "linear"
              }
             }
            ],
            "label": "2011",
            "method": "animate"
           },
           {
            "args": [
             [
              "2012"
             ],
             {
              "frame": {
               "duration": 0,
               "redraw": true
              },
              "fromcurrent": true,
              "mode": "immediate",
              "transition": {
               "duration": 0,
               "easing": "linear"
              }
             }
            ],
            "label": "2012",
            "method": "animate"
           },
           {
            "args": [
             [
              "2013"
             ],
             {
              "frame": {
               "duration": 0,
               "redraw": true
              },
              "fromcurrent": true,
              "mode": "immediate",
              "transition": {
               "duration": 0,
               "easing": "linear"
              }
             }
            ],
            "label": "2013",
            "method": "animate"
           },
           {
            "args": [
             [
              "2014"
             ],
             {
              "frame": {
               "duration": 0,
               "redraw": true
              },
              "fromcurrent": true,
              "mode": "immediate",
              "transition": {
               "duration": 0,
               "easing": "linear"
              }
             }
            ],
            "label": "2014",
            "method": "animate"
           }
          ],
          "x": 0.1,
          "xanchor": "left",
          "y": 0,
          "yanchor": "top"
         }
        ],
        "template": {
         "data": {
          "bar": [
           {
            "error_x": {
             "color": "#2a3f5f"
            },
            "error_y": {
             "color": "#2a3f5f"
            },
            "marker": {
             "line": {
              "color": "#E5ECF6",
              "width": 0.5
             },
             "pattern": {
              "fillmode": "overlay",
              "size": 10,
              "solidity": 0.2
             }
            },
            "type": "bar"
           }
          ],
          "barpolar": [
           {
            "marker": {
             "line": {
              "color": "#E5ECF6",
              "width": 0.5
             },
             "pattern": {
              "fillmode": "overlay",
              "size": 10,
              "solidity": 0.2
             }
            },
            "type": "barpolar"
           }
          ],
          "carpet": [
           {
            "aaxis": {
             "endlinecolor": "#2a3f5f",
             "gridcolor": "white",
             "linecolor": "white",
             "minorgridcolor": "white",
             "startlinecolor": "#2a3f5f"
            },
            "baxis": {
             "endlinecolor": "#2a3f5f",
             "gridcolor": "white",
             "linecolor": "white",
             "minorgridcolor": "white",
             "startlinecolor": "#2a3f5f"
            },
            "type": "carpet"
           }
          ],
          "choropleth": [
           {
            "colorbar": {
             "outlinewidth": 0,
             "ticks": ""
            },
            "type": "choropleth"
           }
          ],
          "contour": [
           {
            "colorbar": {
             "outlinewidth": 0,
             "ticks": ""
            },
            "colorscale": [
             [
              0,
              "#0d0887"
             ],
             [
              0.1111111111111111,
              "#46039f"
             ],
             [
              0.2222222222222222,
              "#7201a8"
             ],
             [
              0.3333333333333333,
              "#9c179e"
             ],
             [
              0.4444444444444444,
              "#bd3786"
             ],
             [
              0.5555555555555556,
              "#d8576b"
             ],
             [
              0.6666666666666666,
              "#ed7953"
             ],
             [
              0.7777777777777778,
              "#fb9f3a"
             ],
             [
              0.8888888888888888,
              "#fdca26"
             ],
             [
              1,
              "#f0f921"
             ]
            ],
            "type": "contour"
           }
          ],
          "contourcarpet": [
           {
            "colorbar": {
             "outlinewidth": 0,
             "ticks": ""
            },
            "type": "contourcarpet"
           }
          ],
          "heatmap": [
           {
            "colorbar": {
             "outlinewidth": 0,
             "ticks": ""
            },
            "colorscale": [
             [
              0,
              "#0d0887"
             ],
             [
              0.1111111111111111,
              "#46039f"
             ],
             [
              0.2222222222222222,
              "#7201a8"
             ],
             [
              0.3333333333333333,
              "#9c179e"
             ],
             [
              0.4444444444444444,
              "#bd3786"
             ],
             [
              0.5555555555555556,
              "#d8576b"
             ],
             [
              0.6666666666666666,
              "#ed7953"
             ],
             [
              0.7777777777777778,
              "#fb9f3a"
             ],
             [
              0.8888888888888888,
              "#fdca26"
             ],
             [
              1,
              "#f0f921"
             ]
            ],
            "type": "heatmap"
           }
          ],
          "heatmapgl": [
           {
            "colorbar": {
             "outlinewidth": 0,
             "ticks": ""
            },
            "colorscale": [
             [
              0,
              "#0d0887"
             ],
             [
              0.1111111111111111,
              "#46039f"
             ],
             [
              0.2222222222222222,
              "#7201a8"
             ],
             [
              0.3333333333333333,
              "#9c179e"
             ],
             [
              0.4444444444444444,
              "#bd3786"
             ],
             [
              0.5555555555555556,
              "#d8576b"
             ],
             [
              0.6666666666666666,
              "#ed7953"
             ],
             [
              0.7777777777777778,
              "#fb9f3a"
             ],
             [
              0.8888888888888888,
              "#fdca26"
             ],
             [
              1,
              "#f0f921"
             ]
            ],
            "type": "heatmapgl"
           }
          ],
          "histogram": [
           {
            "marker": {
             "pattern": {
              "fillmode": "overlay",
              "size": 10,
              "solidity": 0.2
             }
            },
            "type": "histogram"
           }
          ],
          "histogram2d": [
           {
            "colorbar": {
             "outlinewidth": 0,
             "ticks": ""
            },
            "colorscale": [
             [
              0,
              "#0d0887"
             ],
             [
              0.1111111111111111,
              "#46039f"
             ],
             [
              0.2222222222222222,
              "#7201a8"
             ],
             [
              0.3333333333333333,
              "#9c179e"
             ],
             [
              0.4444444444444444,
              "#bd3786"
             ],
             [
              0.5555555555555556,
              "#d8576b"
             ],
             [
              0.6666666666666666,
              "#ed7953"
             ],
             [
              0.7777777777777778,
              "#fb9f3a"
             ],
             [
              0.8888888888888888,
              "#fdca26"
             ],
             [
              1,
              "#f0f921"
             ]
            ],
            "type": "histogram2d"
           }
          ],
          "histogram2dcontour": [
           {
            "colorbar": {
             "outlinewidth": 0,
             "ticks": ""
            },
            "colorscale": [
             [
              0,
              "#0d0887"
             ],
             [
              0.1111111111111111,
              "#46039f"
             ],
             [
              0.2222222222222222,
              "#7201a8"
             ],
             [
              0.3333333333333333,
              "#9c179e"
             ],
             [
              0.4444444444444444,
              "#bd3786"
             ],
             [
              0.5555555555555556,
              "#d8576b"
             ],
             [
              0.6666666666666666,
              "#ed7953"
             ],
             [
              0.7777777777777778,
              "#fb9f3a"
             ],
             [
              0.8888888888888888,
              "#fdca26"
             ],
             [
              1,
              "#f0f921"
             ]
            ],
            "type": "histogram2dcontour"
           }
          ],
          "mesh3d": [
           {
            "colorbar": {
             "outlinewidth": 0,
             "ticks": ""
            },
            "type": "mesh3d"
           }
          ],
          "parcoords": [
           {
            "line": {
             "colorbar": {
              "outlinewidth": 0,
              "ticks": ""
             }
            },
            "type": "parcoords"
           }
          ],
          "pie": [
           {
            "automargin": true,
            "type": "pie"
           }
          ],
          "scatter": [
           {
            "marker": {
             "colorbar": {
              "outlinewidth": 0,
              "ticks": ""
             }
            },
            "type": "scatter"
           }
          ],
          "scatter3d": [
           {
            "line": {
             "colorbar": {
              "outlinewidth": 0,
              "ticks": ""
             }
            },
            "marker": {
             "colorbar": {
              "outlinewidth": 0,
              "ticks": ""
             }
            },
            "type": "scatter3d"
           }
          ],
          "scattercarpet": [
           {
            "marker": {
             "colorbar": {
              "outlinewidth": 0,
              "ticks": ""
             }
            },
            "type": "scattercarpet"
           }
          ],
          "scattergeo": [
           {
            "marker": {
             "colorbar": {
              "outlinewidth": 0,
              "ticks": ""
             }
            },
            "type": "scattergeo"
           }
          ],
          "scattergl": [
           {
            "marker": {
             "colorbar": {
              "outlinewidth": 0,
              "ticks": ""
             }
            },
            "type": "scattergl"
           }
          ],
          "scattermapbox": [
           {
            "marker": {
             "colorbar": {
              "outlinewidth": 0,
              "ticks": ""
             }
            },
            "type": "scattermapbox"
           }
          ],
          "scatterpolar": [
           {
            "marker": {
             "colorbar": {
              "outlinewidth": 0,
              "ticks": ""
             }
            },
            "type": "scatterpolar"
           }
          ],
          "scatterpolargl": [
           {
            "marker": {
             "colorbar": {
              "outlinewidth": 0,
              "ticks": ""
             }
            },
            "type": "scatterpolargl"
           }
          ],
          "scatterternary": [
           {
            "marker": {
             "colorbar": {
              "outlinewidth": 0,
              "ticks": ""
             }
            },
            "type": "scatterternary"
           }
          ],
          "surface": [
           {
            "colorbar": {
             "outlinewidth": 0,
             "ticks": ""
            },
            "colorscale": [
             [
              0,
              "#0d0887"
             ],
             [
              0.1111111111111111,
              "#46039f"
             ],
             [
              0.2222222222222222,
              "#7201a8"
             ],
             [
              0.3333333333333333,
              "#9c179e"
             ],
             [
              0.4444444444444444,
              "#bd3786"
             ],
             [
              0.5555555555555556,
              "#d8576b"
             ],
             [
              0.6666666666666666,
              "#ed7953"
             ],
             [
              0.7777777777777778,
              "#fb9f3a"
             ],
             [
              0.8888888888888888,
              "#fdca26"
             ],
             [
              1,
              "#f0f921"
             ]
            ],
            "type": "surface"
           }
          ],
          "table": [
           {
            "cells": {
             "fill": {
              "color": "#EBF0F8"
             },
             "line": {
              "color": "white"
             }
            },
            "header": {
             "fill": {
              "color": "#C8D4E3"
             },
             "line": {
              "color": "white"
             }
            },
            "type": "table"
           }
          ]
         },
         "layout": {
          "annotationdefaults": {
           "arrowcolor": "#2a3f5f",
           "arrowhead": 0,
           "arrowwidth": 1
          },
          "autotypenumbers": "strict",
          "coloraxis": {
           "colorbar": {
            "outlinewidth": 0,
            "ticks": ""
           }
          },
          "colorscale": {
           "diverging": [
            [
             0,
             "#8e0152"
            ],
            [
             0.1,
             "#c51b7d"
            ],
            [
             0.2,
             "#de77ae"
            ],
            [
             0.3,
             "#f1b6da"
            ],
            [
             0.4,
             "#fde0ef"
            ],
            [
             0.5,
             "#f7f7f7"
            ],
            [
             0.6,
             "#e6f5d0"
            ],
            [
             0.7,
             "#b8e186"
            ],
            [
             0.8,
             "#7fbc41"
            ],
            [
             0.9,
             "#4d9221"
            ],
            [
             1,
             "#276419"
            ]
           ],
           "sequential": [
            [
             0,
             "#0d0887"
            ],
            [
             0.1111111111111111,
             "#46039f"
            ],
            [
             0.2222222222222222,
             "#7201a8"
            ],
            [
             0.3333333333333333,
             "#9c179e"
            ],
            [
             0.4444444444444444,
             "#bd3786"
            ],
            [
             0.5555555555555556,
             "#d8576b"
            ],
            [
             0.6666666666666666,
             "#ed7953"
            ],
            [
             0.7777777777777778,
             "#fb9f3a"
            ],
            [
             0.8888888888888888,
             "#fdca26"
            ],
            [
             1,
             "#f0f921"
            ]
           ],
           "sequentialminus": [
            [
             0,
             "#0d0887"
            ],
            [
             0.1111111111111111,
             "#46039f"
            ],
            [
             0.2222222222222222,
             "#7201a8"
            ],
            [
             0.3333333333333333,
             "#9c179e"
            ],
            [
             0.4444444444444444,
             "#bd3786"
            ],
            [
             0.5555555555555556,
             "#d8576b"
            ],
            [
             0.6666666666666666,
             "#ed7953"
            ],
            [
             0.7777777777777778,
             "#fb9f3a"
            ],
            [
             0.8888888888888888,
             "#fdca26"
            ],
            [
             1,
             "#f0f921"
            ]
           ]
          },
          "colorway": [
           "#636efa",
           "#EF553B",
           "#00cc96",
           "#ab63fa",
           "#FFA15A",
           "#19d3f3",
           "#FF6692",
           "#B6E880",
           "#FF97FF",
           "#FECB52"
          ],
          "font": {
           "color": "#2a3f5f"
          },
          "geo": {
           "bgcolor": "white",
           "lakecolor": "white",
           "landcolor": "#E5ECF6",
           "showlakes": true,
           "showland": true,
           "subunitcolor": "white"
          },
          "hoverlabel": {
           "align": "left"
          },
          "hovermode": "closest",
          "mapbox": {
           "style": "light"
          },
          "paper_bgcolor": "white",
          "plot_bgcolor": "#E5ECF6",
          "polar": {
           "angularaxis": {
            "gridcolor": "white",
            "linecolor": "white",
            "ticks": ""
           },
           "bgcolor": "#E5ECF6",
           "radialaxis": {
            "gridcolor": "white",
            "linecolor": "white",
            "ticks": ""
           }
          },
          "scene": {
           "xaxis": {
            "backgroundcolor": "#E5ECF6",
            "gridcolor": "white",
            "gridwidth": 2,
            "linecolor": "white",
            "showbackground": true,
            "ticks": "",
            "zerolinecolor": "white"
           },
           "yaxis": {
            "backgroundcolor": "#E5ECF6",
            "gridcolor": "white",
            "gridwidth": 2,
            "linecolor": "white",
            "showbackground": true,
            "ticks": "",
            "zerolinecolor": "white"
           },
           "zaxis": {
            "backgroundcolor": "#E5ECF6",
            "gridcolor": "white",
            "gridwidth": 2,
            "linecolor": "white",
            "showbackground": true,
            "ticks": "",
            "zerolinecolor": "white"
           }
          },
          "shapedefaults": {
           "line": {
            "color": "#2a3f5f"
           }
          },
          "ternary": {
           "aaxis": {
            "gridcolor": "white",
            "linecolor": "white",
            "ticks": ""
           },
           "baxis": {
            "gridcolor": "white",
            "linecolor": "white",
            "ticks": ""
           },
           "bgcolor": "#E5ECF6",
           "caxis": {
            "gridcolor": "white",
            "linecolor": "white",
            "ticks": ""
           }
          },
          "title": {
           "x": 0.05
          },
          "xaxis": {
           "automargin": true,
           "gridcolor": "white",
           "linecolor": "white",
           "ticks": "",
           "title": {
            "standoff": 15
           },
           "zerolinecolor": "white",
           "zerolinewidth": 2
          },
          "yaxis": {
           "automargin": true,
           "gridcolor": "white",
           "linecolor": "white",
           "ticks": "",
           "title": {
            "standoff": 15
           },
           "zerolinecolor": "white",
           "zerolinewidth": 2
          }
         }
        },
        "title": {
         "text": "CO2 emmissions change over the years"
        },
        "updatemenus": [
         {
          "buttons": [
           {
            "args": [
             null,
             {
              "frame": {
               "duration": 500,
               "redraw": true
              },
              "fromcurrent": true,
              "mode": "immediate",
              "transition": {
               "duration": 500,
               "easing": "linear"
              }
             }
            ],
            "label": "&#9654;",
            "method": "animate"
           },
           {
            "args": [
             [
              null
             ],
             {
              "frame": {
               "duration": 0,
               "redraw": true
              },
              "fromcurrent": true,
              "mode": "immediate",
              "transition": {
               "duration": 0,
               "easing": "linear"
              }
             }
            ],
            "label": "&#9724;",
            "method": "animate"
           }
          ],
          "direction": "left",
          "pad": {
           "r": 10,
           "t": 70
          },
          "showactive": false,
          "type": "buttons",
          "x": 0.1,
          "xanchor": "right",
          "y": 0,
          "yanchor": "top"
         }
        ]
       }
      },
      "text/html": [
       "<div>                            <div id=\"58a3f96f-7d89-42a4-9620-cc109a825ec5\" class=\"plotly-graph-div\" style=\"height:525px; width:100%;\"></div>            <script type=\"text/javascript\">                require([\"plotly\"], function(Plotly) {                    window.PLOTLYENV=window.PLOTLYENV || {};                                    if (document.getElementById(\"58a3f96f-7d89-42a4-9620-cc109a825ec5\")) {                    Plotly.newPlot(                        \"58a3f96f-7d89-42a4-9620-cc109a825ec5\",                        [{\"coloraxis\":\"coloraxis\",\"geo\":\"geo\",\"hovertemplate\":\"<b>%{hovertext}</b><br><br>year=1991<br>country=%{location}<br>value in Megatons=%{z}<extra></extra>\",\"hovertext\":[\"Australia\",\"Austria\",\"Belarus\",\"Belgium\",\"Bulgaria\",\"Canada\",\"Croatia\",\"Cyprus\",\"Czech Republic\",\"Denmark\",\"Estonia\",\"European Union\",\"Finland\",\"France\",\"Germany\",\"Greece\",\"Hungary\",\"Iceland\",\"Ireland\",\"Italy\",\"Japan\",\"Latvia\",\"Liechtenstein\",\"Lithuania\",\"Luxembourg\",\"Malta\",\"Monaco\",\"Netherlands\",\"New Zealand\",\"Norway\",\"Poland\",\"Portugal\",\"Romania\",\"Russian Federation\",\"Slovakia\",\"Slovenia\",\"Spain\",\"Sweden\",\"Switzerland\",\"Turkey\",\"Ukraine\",\"United Kingdom\",\"United States of America\"],\"locationmode\":\"country names\",\"locations\":[\"Australia\",\"Austria\",\"Belarus\",\"Belgium\",\"Bulgaria\",\"Canada\",\"Croatia\",\"Cyprus\",\"Czech Republic\",\"Denmark\",\"Estonia\",\"European Union\",\"Finland\",\"France\",\"Germany\",\"Greece\",\"Hungary\",\"Iceland\",\"Ireland\",\"Italy\",\"Japan\",\"Latvia\",\"Liechtenstein\",\"Lithuania\",\"Luxembourg\",\"Malta\",\"Monaco\",\"Netherlands\",\"New Zealand\",\"Norway\",\"Poland\",\"Portugal\",\"Romania\",\"Russian Federation\",\"Slovakia\",\"Slovenia\",\"Spain\",\"Sweden\",\"Switzerland\",\"Turkey\",\"Ukraine\",\"United Kingdom\",\"United States of America\"],\"name\":\"\",\"z\":[279.741639,65.90351331,93.64916614,123.1306529,59.7693415,454.2461379,17.26891035,5.107082887,146.0473396,64.87481386,33.66237251,4403.723161,55.18717945,425.0429207,1014.11972,83.39035468,69.39272564,2.042936976,33.50844202,435.9386139,1164.474346,18.02119524,0.206146707,37.9086125,12.46751319,2.041246093,0.096147205,171.0814739,26.1080645,34.07097836,375.6841569,47.40684249,143.5866075,2433.187645,53.44744002,14.00728261,239.7251837,57.75563468,46.14480954,152.3351742,621.3052364,604.6528969,5064.87975],\"type\":\"choropleth\"}],                        {\"template\":{\"data\":{\"bar\":[{\"error_x\":{\"color\":\"#2a3f5f\"},\"error_y\":{\"color\":\"#2a3f5f\"},\"marker\":{\"line\":{\"color\":\"#E5ECF6\",\"width\":0.5},\"pattern\":{\"fillmode\":\"overlay\",\"size\":10,\"solidity\":0.2}},\"type\":\"bar\"}],\"barpolar\":[{\"marker\":{\"line\":{\"color\":\"#E5ECF6\",\"width\":0.5},\"pattern\":{\"fillmode\":\"overlay\",\"size\":10,\"solidity\":0.2}},\"type\":\"barpolar\"}],\"carpet\":[{\"aaxis\":{\"endlinecolor\":\"#2a3f5f\",\"gridcolor\":\"white\",\"linecolor\":\"white\",\"minorgridcolor\":\"white\",\"startlinecolor\":\"#2a3f5f\"},\"baxis\":{\"endlinecolor\":\"#2a3f5f\",\"gridcolor\":\"white\",\"linecolor\":\"white\",\"minorgridcolor\":\"white\",\"startlinecolor\":\"#2a3f5f\"},\"type\":\"carpet\"}],\"choropleth\":[{\"colorbar\":{\"outlinewidth\":0,\"ticks\":\"\"},\"type\":\"choropleth\"}],\"contour\":[{\"colorbar\":{\"outlinewidth\":0,\"ticks\":\"\"},\"colorscale\":[[0.0,\"#0d0887\"],[0.1111111111111111,\"#46039f\"],[0.2222222222222222,\"#7201a8\"],[0.3333333333333333,\"#9c179e\"],[0.4444444444444444,\"#bd3786\"],[0.5555555555555556,\"#d8576b\"],[0.6666666666666666,\"#ed7953\"],[0.7777777777777778,\"#fb9f3a\"],[0.8888888888888888,\"#fdca26\"],[1.0,\"#f0f921\"]],\"type\":\"contour\"}],\"contourcarpet\":[{\"colorbar\":{\"outlinewidth\":0,\"ticks\":\"\"},\"type\":\"contourcarpet\"}],\"heatmap\":[{\"colorbar\":{\"outlinewidth\":0,\"ticks\":\"\"},\"colorscale\":[[0.0,\"#0d0887\"],[0.1111111111111111,\"#46039f\"],[0.2222222222222222,\"#7201a8\"],[0.3333333333333333,\"#9c179e\"],[0.4444444444444444,\"#bd3786\"],[0.5555555555555556,\"#d8576b\"],[0.6666666666666666,\"#ed7953\"],[0.7777777777777778,\"#fb9f3a\"],[0.8888888888888888,\"#fdca26\"],[1.0,\"#f0f921\"]],\"type\":\"heatmap\"}],\"heatmapgl\":[{\"colorbar\":{\"outlinewidth\":0,\"ticks\":\"\"},\"colorscale\":[[0.0,\"#0d0887\"],[0.1111111111111111,\"#46039f\"],[0.2222222222222222,\"#7201a8\"],[0.3333333333333333,\"#9c179e\"],[0.4444444444444444,\"#bd3786\"],[0.5555555555555556,\"#d8576b\"],[0.6666666666666666,\"#ed7953\"],[0.7777777777777778,\"#fb9f3a\"],[0.8888888888888888,\"#fdca26\"],[1.0,\"#f0f921\"]],\"type\":\"heatmapgl\"}],\"histogram\":[{\"marker\":{\"pattern\":{\"fillmode\":\"overlay\",\"size\":10,\"solidity\":0.2}},\"type\":\"histogram\"}],\"histogram2d\":[{\"colorbar\":{\"outlinewidth\":0,\"ticks\":\"\"},\"colorscale\":[[0.0,\"#0d0887\"],[0.1111111111111111,\"#46039f\"],[0.2222222222222222,\"#7201a8\"],[0.3333333333333333,\"#9c179e\"],[0.4444444444444444,\"#bd3786\"],[0.5555555555555556,\"#d8576b\"],[0.6666666666666666,\"#ed7953\"],[0.7777777777777778,\"#fb9f3a\"],[0.8888888888888888,\"#fdca26\"],[1.0,\"#f0f921\"]],\"type\":\"histogram2d\"}],\"histogram2dcontour\":[{\"colorbar\":{\"outlinewidth\":0,\"ticks\":\"\"},\"colorscale\":[[0.0,\"#0d0887\"],[0.1111111111111111,\"#46039f\"],[0.2222222222222222,\"#7201a8\"],[0.3333333333333333,\"#9c179e\"],[0.4444444444444444,\"#bd3786\"],[0.5555555555555556,\"#d8576b\"],[0.6666666666666666,\"#ed7953\"],[0.7777777777777778,\"#fb9f3a\"],[0.8888888888888888,\"#fdca26\"],[1.0,\"#f0f921\"]],\"type\":\"histogram2dcontour\"}],\"mesh3d\":[{\"colorbar\":{\"outlinewidth\":0,\"ticks\":\"\"},\"type\":\"mesh3d\"}],\"parcoords\":[{\"line\":{\"colorbar\":{\"outlinewidth\":0,\"ticks\":\"\"}},\"type\":\"parcoords\"}],\"pie\":[{\"automargin\":true,\"type\":\"pie\"}],\"scatter\":[{\"marker\":{\"colorbar\":{\"outlinewidth\":0,\"ticks\":\"\"}},\"type\":\"scatter\"}],\"scatter3d\":[{\"line\":{\"colorbar\":{\"outlinewidth\":0,\"ticks\":\"\"}},\"marker\":{\"colorbar\":{\"outlinewidth\":0,\"ticks\":\"\"}},\"type\":\"scatter3d\"}],\"scattercarpet\":[{\"marker\":{\"colorbar\":{\"outlinewidth\":0,\"ticks\":\"\"}},\"type\":\"scattercarpet\"}],\"scattergeo\":[{\"marker\":{\"colorbar\":{\"outlinewidth\":0,\"ticks\":\"\"}},\"type\":\"scattergeo\"}],\"scattergl\":[{\"marker\":{\"colorbar\":{\"outlinewidth\":0,\"ticks\":\"\"}},\"type\":\"scattergl\"}],\"scattermapbox\":[{\"marker\":{\"colorbar\":{\"outlinewidth\":0,\"ticks\":\"\"}},\"type\":\"scattermapbox\"}],\"scatterpolar\":[{\"marker\":{\"colorbar\":{\"outlinewidth\":0,\"ticks\":\"\"}},\"type\":\"scatterpolar\"}],\"scatterpolargl\":[{\"marker\":{\"colorbar\":{\"outlinewidth\":0,\"ticks\":\"\"}},\"type\":\"scatterpolargl\"}],\"scatterternary\":[{\"marker\":{\"colorbar\":{\"outlinewidth\":0,\"ticks\":\"\"}},\"type\":\"scatterternary\"}],\"surface\":[{\"colorbar\":{\"outlinewidth\":0,\"ticks\":\"\"},\"colorscale\":[[0.0,\"#0d0887\"],[0.1111111111111111,\"#46039f\"],[0.2222222222222222,\"#7201a8\"],[0.3333333333333333,\"#9c179e\"],[0.4444444444444444,\"#bd3786\"],[0.5555555555555556,\"#d8576b\"],[0.6666666666666666,\"#ed7953\"],[0.7777777777777778,\"#fb9f3a\"],[0.8888888888888888,\"#fdca26\"],[1.0,\"#f0f921\"]],\"type\":\"surface\"}],\"table\":[{\"cells\":{\"fill\":{\"color\":\"#EBF0F8\"},\"line\":{\"color\":\"white\"}},\"header\":{\"fill\":{\"color\":\"#C8D4E3\"},\"line\":{\"color\":\"white\"}},\"type\":\"table\"}]},\"layout\":{\"annotationdefaults\":{\"arrowcolor\":\"#2a3f5f\",\"arrowhead\":0,\"arrowwidth\":1},\"autotypenumbers\":\"strict\",\"coloraxis\":{\"colorbar\":{\"outlinewidth\":0,\"ticks\":\"\"}},\"colorscale\":{\"diverging\":[[0,\"#8e0152\"],[0.1,\"#c51b7d\"],[0.2,\"#de77ae\"],[0.3,\"#f1b6da\"],[0.4,\"#fde0ef\"],[0.5,\"#f7f7f7\"],[0.6,\"#e6f5d0\"],[0.7,\"#b8e186\"],[0.8,\"#7fbc41\"],[0.9,\"#4d9221\"],[1,\"#276419\"]],\"sequential\":[[0.0,\"#0d0887\"],[0.1111111111111111,\"#46039f\"],[0.2222222222222222,\"#7201a8\"],[0.3333333333333333,\"#9c179e\"],[0.4444444444444444,\"#bd3786\"],[0.5555555555555556,\"#d8576b\"],[0.6666666666666666,\"#ed7953\"],[0.7777777777777778,\"#fb9f3a\"],[0.8888888888888888,\"#fdca26\"],[1.0,\"#f0f921\"]],\"sequentialminus\":[[0.0,\"#0d0887\"],[0.1111111111111111,\"#46039f\"],[0.2222222222222222,\"#7201a8\"],[0.3333333333333333,\"#9c179e\"],[0.4444444444444444,\"#bd3786\"],[0.5555555555555556,\"#d8576b\"],[0.6666666666666666,\"#ed7953\"],[0.7777777777777778,\"#fb9f3a\"],[0.8888888888888888,\"#fdca26\"],[1.0,\"#f0f921\"]]},\"colorway\":[\"#636efa\",\"#EF553B\",\"#00cc96\",\"#ab63fa\",\"#FFA15A\",\"#19d3f3\",\"#FF6692\",\"#B6E880\",\"#FF97FF\",\"#FECB52\"],\"font\":{\"color\":\"#2a3f5f\"},\"geo\":{\"bgcolor\":\"white\",\"lakecolor\":\"white\",\"landcolor\":\"#E5ECF6\",\"showlakes\":true,\"showland\":true,\"subunitcolor\":\"white\"},\"hoverlabel\":{\"align\":\"left\"},\"hovermode\":\"closest\",\"mapbox\":{\"style\":\"light\"},\"paper_bgcolor\":\"white\",\"plot_bgcolor\":\"#E5ECF6\",\"polar\":{\"angularaxis\":{\"gridcolor\":\"white\",\"linecolor\":\"white\",\"ticks\":\"\"},\"bgcolor\":\"#E5ECF6\",\"radialaxis\":{\"gridcolor\":\"white\",\"linecolor\":\"white\",\"ticks\":\"\"}},\"scene\":{\"xaxis\":{\"backgroundcolor\":\"#E5ECF6\",\"gridcolor\":\"white\",\"gridwidth\":2,\"linecolor\":\"white\",\"showbackground\":true,\"ticks\":\"\",\"zerolinecolor\":\"white\"},\"yaxis\":{\"backgroundcolor\":\"#E5ECF6\",\"gridcolor\":\"white\",\"gridwidth\":2,\"linecolor\":\"white\",\"showbackground\":true,\"ticks\":\"\",\"zerolinecolor\":\"white\"},\"zaxis\":{\"backgroundcolor\":\"#E5ECF6\",\"gridcolor\":\"white\",\"gridwidth\":2,\"linecolor\":\"white\",\"showbackground\":true,\"ticks\":\"\",\"zerolinecolor\":\"white\"}},\"shapedefaults\":{\"line\":{\"color\":\"#2a3f5f\"}},\"ternary\":{\"aaxis\":{\"gridcolor\":\"white\",\"linecolor\":\"white\",\"ticks\":\"\"},\"baxis\":{\"gridcolor\":\"white\",\"linecolor\":\"white\",\"ticks\":\"\"},\"bgcolor\":\"#E5ECF6\",\"caxis\":{\"gridcolor\":\"white\",\"linecolor\":\"white\",\"ticks\":\"\"}},\"title\":{\"x\":0.05},\"xaxis\":{\"automargin\":true,\"gridcolor\":\"white\",\"linecolor\":\"white\",\"ticks\":\"\",\"title\":{\"standoff\":15},\"zerolinecolor\":\"white\",\"zerolinewidth\":2},\"yaxis\":{\"automargin\":true,\"gridcolor\":\"white\",\"linecolor\":\"white\",\"ticks\":\"\",\"title\":{\"standoff\":15},\"zerolinecolor\":\"white\",\"zerolinewidth\":2}}},\"geo\":{\"domain\":{\"x\":[0.0,1.0],\"y\":[0.0,1.0]},\"center\":{},\"showframe\":false,\"showcoastlines\":false},\"coloraxis\":{\"colorbar\":{\"title\":{\"text\":\"value in Megatons\"}},\"colorscale\":[[0.0,\"#0d0887\"],[0.1111111111111111,\"#46039f\"],[0.2222222222222222,\"#7201a8\"],[0.3333333333333333,\"#9c179e\"],[0.4444444444444444,\"#bd3786\"],[0.5555555555555556,\"#d8576b\"],[0.6666666666666666,\"#ed7953\"],[0.7777777777777778,\"#fb9f3a\"],[0.8888888888888888,\"#fdca26\"],[1.0,\"#f0f921\"]]},\"legend\":{\"tracegroupgap\":0},\"margin\":{\"t\":60},\"updatemenus\":[{\"buttons\":[{\"args\":[null,{\"frame\":{\"duration\":500,\"redraw\":true},\"mode\":\"immediate\",\"fromcurrent\":true,\"transition\":{\"duration\":500,\"easing\":\"linear\"}}],\"label\":\"&#9654;\",\"method\":\"animate\"},{\"args\":[[null],{\"frame\":{\"duration\":0,\"redraw\":true},\"mode\":\"immediate\",\"fromcurrent\":true,\"transition\":{\"duration\":0,\"easing\":\"linear\"}}],\"label\":\"&#9724;\",\"method\":\"animate\"}],\"direction\":\"left\",\"pad\":{\"r\":10,\"t\":70},\"showactive\":false,\"type\":\"buttons\",\"x\":0.1,\"xanchor\":\"right\",\"y\":0,\"yanchor\":\"top\"}],\"sliders\":[{\"active\":0,\"currentvalue\":{\"prefix\":\"year=\"},\"len\":0.9,\"pad\":{\"b\":10,\"t\":60},\"steps\":[{\"args\":[[\"1991\"],{\"frame\":{\"duration\":0,\"redraw\":true},\"mode\":\"immediate\",\"fromcurrent\":true,\"transition\":{\"duration\":0,\"easing\":\"linear\"}}],\"label\":\"1991\",\"method\":\"animate\"},{\"args\":[[\"1992\"],{\"frame\":{\"duration\":0,\"redraw\":true},\"mode\":\"immediate\",\"fromcurrent\":true,\"transition\":{\"duration\":0,\"easing\":\"linear\"}}],\"label\":\"1992\",\"method\":\"animate\"},{\"args\":[[\"1993\"],{\"frame\":{\"duration\":0,\"redraw\":true},\"mode\":\"immediate\",\"fromcurrent\":true,\"transition\":{\"duration\":0,\"easing\":\"linear\"}}],\"label\":\"1993\",\"method\":\"animate\"},{\"args\":[[\"1994\"],{\"frame\":{\"duration\":0,\"redraw\":true},\"mode\":\"immediate\",\"fromcurrent\":true,\"transition\":{\"duration\":0,\"easing\":\"linear\"}}],\"label\":\"1994\",\"method\":\"animate\"},{\"args\":[[\"1995\"],{\"frame\":{\"duration\":0,\"redraw\":true},\"mode\":\"immediate\",\"fromcurrent\":true,\"transition\":{\"duration\":0,\"easing\":\"linear\"}}],\"label\":\"1995\",\"method\":\"animate\"},{\"args\":[[\"1996\"],{\"frame\":{\"duration\":0,\"redraw\":true},\"mode\":\"immediate\",\"fromcurrent\":true,\"transition\":{\"duration\":0,\"easing\":\"linear\"}}],\"label\":\"1996\",\"method\":\"animate\"},{\"args\":[[\"1997\"],{\"frame\":{\"duration\":0,\"redraw\":true},\"mode\":\"immediate\",\"fromcurrent\":true,\"transition\":{\"duration\":0,\"easing\":\"linear\"}}],\"label\":\"1997\",\"method\":\"animate\"},{\"args\":[[\"1998\"],{\"frame\":{\"duration\":0,\"redraw\":true},\"mode\":\"immediate\",\"fromcurrent\":true,\"transition\":{\"duration\":0,\"easing\":\"linear\"}}],\"label\":\"1998\",\"method\":\"animate\"},{\"args\":[[\"1999\"],{\"frame\":{\"duration\":0,\"redraw\":true},\"mode\":\"immediate\",\"fromcurrent\":true,\"transition\":{\"duration\":0,\"easing\":\"linear\"}}],\"label\":\"1999\",\"method\":\"animate\"},{\"args\":[[\"2000\"],{\"frame\":{\"duration\":0,\"redraw\":true},\"mode\":\"immediate\",\"fromcurrent\":true,\"transition\":{\"duration\":0,\"easing\":\"linear\"}}],\"label\":\"2000\",\"method\":\"animate\"},{\"args\":[[\"2001\"],{\"frame\":{\"duration\":0,\"redraw\":true},\"mode\":\"immediate\",\"fromcurrent\":true,\"transition\":{\"duration\":0,\"easing\":\"linear\"}}],\"label\":\"2001\",\"method\":\"animate\"},{\"args\":[[\"2002\"],{\"frame\":{\"duration\":0,\"redraw\":true},\"mode\":\"immediate\",\"fromcurrent\":true,\"transition\":{\"duration\":0,\"easing\":\"linear\"}}],\"label\":\"2002\",\"method\":\"animate\"},{\"args\":[[\"2003\"],{\"frame\":{\"duration\":0,\"redraw\":true},\"mode\":\"immediate\",\"fromcurrent\":true,\"transition\":{\"duration\":0,\"easing\":\"linear\"}}],\"label\":\"2003\",\"method\":\"animate\"},{\"args\":[[\"2004\"],{\"frame\":{\"duration\":0,\"redraw\":true},\"mode\":\"immediate\",\"fromcurrent\":true,\"transition\":{\"duration\":0,\"easing\":\"linear\"}}],\"label\":\"2004\",\"method\":\"animate\"},{\"args\":[[\"2005\"],{\"frame\":{\"duration\":0,\"redraw\":true},\"mode\":\"immediate\",\"fromcurrent\":true,\"transition\":{\"duration\":0,\"easing\":\"linear\"}}],\"label\":\"2005\",\"method\":\"animate\"},{\"args\":[[\"2006\"],{\"frame\":{\"duration\":0,\"redraw\":true},\"mode\":\"immediate\",\"fromcurrent\":true,\"transition\":{\"duration\":0,\"easing\":\"linear\"}}],\"label\":\"2006\",\"method\":\"animate\"},{\"args\":[[\"2007\"],{\"frame\":{\"duration\":0,\"redraw\":true},\"mode\":\"immediate\",\"fromcurrent\":true,\"transition\":{\"duration\":0,\"easing\":\"linear\"}}],\"label\":\"2007\",\"method\":\"animate\"},{\"args\":[[\"2008\"],{\"frame\":{\"duration\":0,\"redraw\":true},\"mode\":\"immediate\",\"fromcurrent\":true,\"transition\":{\"duration\":0,\"easing\":\"linear\"}}],\"label\":\"2008\",\"method\":\"animate\"},{\"args\":[[\"2009\"],{\"frame\":{\"duration\":0,\"redraw\":true},\"mode\":\"immediate\",\"fromcurrent\":true,\"transition\":{\"duration\":0,\"easing\":\"linear\"}}],\"label\":\"2009\",\"method\":\"animate\"},{\"args\":[[\"2010\"],{\"frame\":{\"duration\":0,\"redraw\":true},\"mode\":\"immediate\",\"fromcurrent\":true,\"transition\":{\"duration\":0,\"easing\":\"linear\"}}],\"label\":\"2010\",\"method\":\"animate\"},{\"args\":[[\"2011\"],{\"frame\":{\"duration\":0,\"redraw\":true},\"mode\":\"immediate\",\"fromcurrent\":true,\"transition\":{\"duration\":0,\"easing\":\"linear\"}}],\"label\":\"2011\",\"method\":\"animate\"},{\"args\":[[\"2012\"],{\"frame\":{\"duration\":0,\"redraw\":true},\"mode\":\"immediate\",\"fromcurrent\":true,\"transition\":{\"duration\":0,\"easing\":\"linear\"}}],\"label\":\"2012\",\"method\":\"animate\"},{\"args\":[[\"2013\"],{\"frame\":{\"duration\":0,\"redraw\":true},\"mode\":\"immediate\",\"fromcurrent\":true,\"transition\":{\"duration\":0,\"easing\":\"linear\"}}],\"label\":\"2013\",\"method\":\"animate\"},{\"args\":[[\"2014\"],{\"frame\":{\"duration\":0,\"redraw\":true},\"mode\":\"immediate\",\"fromcurrent\":true,\"transition\":{\"duration\":0,\"easing\":\"linear\"}}],\"label\":\"2014\",\"method\":\"animate\"}],\"x\":0.1,\"xanchor\":\"left\",\"y\":0,\"yanchor\":\"top\"}],\"title\":{\"text\":\"CO2 emmissions change over the years\"}},                        {\"responsive\": true}                    ).then(function(){\n",
       "                            Plotly.addFrames('58a3f96f-7d89-42a4-9620-cc109a825ec5', [{\"data\":[{\"coloraxis\":\"coloraxis\",\"geo\":\"geo\",\"hovertemplate\":\"<b>%{hovertext}</b><br><br>year=1991<br>country=%{location}<br>value in Megatons=%{z}<extra></extra>\",\"hovertext\":[\"Australia\",\"Austria\",\"Belarus\",\"Belgium\",\"Bulgaria\",\"Canada\",\"Croatia\",\"Cyprus\",\"Czech Republic\",\"Denmark\",\"Estonia\",\"European Union\",\"Finland\",\"France\",\"Germany\",\"Greece\",\"Hungary\",\"Iceland\",\"Ireland\",\"Italy\",\"Japan\",\"Latvia\",\"Liechtenstein\",\"Lithuania\",\"Luxembourg\",\"Malta\",\"Monaco\",\"Netherlands\",\"New Zealand\",\"Norway\",\"Poland\",\"Portugal\",\"Romania\",\"Russian Federation\",\"Slovakia\",\"Slovenia\",\"Spain\",\"Sweden\",\"Switzerland\",\"Turkey\",\"Ukraine\",\"United Kingdom\",\"United States of America\"],\"locationmode\":\"country names\",\"locations\":[\"Australia\",\"Austria\",\"Belarus\",\"Belgium\",\"Bulgaria\",\"Canada\",\"Croatia\",\"Cyprus\",\"Czech Republic\",\"Denmark\",\"Estonia\",\"European Union\",\"Finland\",\"France\",\"Germany\",\"Greece\",\"Hungary\",\"Iceland\",\"Ireland\",\"Italy\",\"Japan\",\"Latvia\",\"Liechtenstein\",\"Lithuania\",\"Luxembourg\",\"Malta\",\"Monaco\",\"Netherlands\",\"New Zealand\",\"Norway\",\"Poland\",\"Portugal\",\"Romania\",\"Russian Federation\",\"Slovakia\",\"Slovenia\",\"Spain\",\"Sweden\",\"Switzerland\",\"Turkey\",\"Ukraine\",\"United Kingdom\",\"United States of America\"],\"name\":\"\",\"z\":[279.741639,65.90351331,93.64916614,123.1306529,59.7693415,454.2461379,17.26891035,5.107082887,146.0473396,64.87481386,33.66237251,4403.723161,55.18717945,425.0429207,1014.11972,83.39035468,69.39272564,2.042936976,33.50844202,435.9386139,1164.474346,18.02119524,0.206146707,37.9086125,12.46751319,2.041246093,0.096147205,171.0814739,26.1080645,34.07097836,375.6841569,47.40684249,143.5866075,2433.187645,53.44744002,14.00728261,239.7251837,57.75563468,46.14480954,152.3351742,621.3052364,604.6528969,5064.87975],\"type\":\"choropleth\"}],\"name\":\"1991\"},{\"data\":[{\"coloraxis\":\"coloraxis\",\"geo\":\"geo\",\"hovertemplate\":\"<b>%{hovertext}</b><br><br>year=1992<br>country=%{location}<br>value in Megatons=%{z}<extra></extra>\",\"hovertext\":[\"Australia\",\"Austria\",\"Belarus\",\"Belgium\",\"Bulgaria\",\"Canada\",\"Croatia\",\"Cyprus\",\"Czech Republic\",\"Denmark\",\"Estonia\",\"European Union\",\"Finland\",\"France\",\"Germany\",\"Greece\",\"Hungary\",\"Iceland\",\"Ireland\",\"Italy\",\"Japan\",\"Latvia\",\"Liechtenstein\",\"Lithuania\",\"Luxembourg\",\"Malta\",\"Monaco\",\"Netherlands\",\"New Zealand\",\"Norway\",\"Poland\",\"Portugal\",\"Romania\",\"Russian Federation\",\"Slovakia\",\"Slovenia\",\"Spain\",\"Sweden\",\"Switzerland\",\"Turkey\",\"Ukraine\",\"United Kingdom\",\"United States of America\"],\"locationmode\":\"country names\",\"locations\":[\"Australia\",\"Austria\",\"Belarus\",\"Belgium\",\"Bulgaria\",\"Canada\",\"Croatia\",\"Cyprus\",\"Czech Republic\",\"Denmark\",\"Estonia\",\"European Union\",\"Finland\",\"France\",\"Germany\",\"Greece\",\"Hungary\",\"Iceland\",\"Ireland\",\"Italy\",\"Japan\",\"Latvia\",\"Liechtenstein\",\"Lithuania\",\"Luxembourg\",\"Malta\",\"Monaco\",\"Netherlands\",\"New Zealand\",\"Norway\",\"Poland\",\"Portugal\",\"Romania\",\"Russian Federation\",\"Slovakia\",\"Slovenia\",\"Spain\",\"Sweden\",\"Switzerland\",\"Turkey\",\"Ukraine\",\"United Kingdom\",\"United States of America\"],\"name\":\"\",\"z\":[284.7660927,60.43224934,87.06081029,122.2179195,56.55159357,468.5464589,16.60713448,5.48297487,141.5657197,58.96031152,24.18782758,4259.922812,54.26437931,414.9550768,965.7908353,84.94902583,62.0501264,2.172619363,33.34410238,435.5358351,1174.619006,14.24465339,0.206776033,21.20788739,12.25357159,2.174634466,0.101742603,170.9752429,28.09969999,34.83324782,365.8651595,51.85056567,132.7329087,2013.175482,48.97912576,14.00939863,248.4071601,57.48206466,45.97470254,158.5715465,577.0642596,589.3060181,5170.27435],\"type\":\"choropleth\"}],\"name\":\"1992\"},{\"data\":[{\"coloraxis\":\"coloraxis\",\"geo\":\"geo\",\"hovertemplate\":\"<b>%{hovertext}</b><br><br>year=1993<br>country=%{location}<br>value in Megatons=%{z}<extra></extra>\",\"hovertext\":[\"Australia\",\"Austria\",\"Belarus\",\"Belgium\",\"Bulgaria\",\"Canada\",\"Croatia\",\"Cyprus\",\"Czech Republic\",\"Denmark\",\"Estonia\",\"European Union\",\"Finland\",\"France\",\"Germany\",\"Greece\",\"Hungary\",\"Iceland\",\"Ireland\",\"Italy\",\"Japan\",\"Latvia\",\"Liechtenstein\",\"Lithuania\",\"Luxembourg\",\"Malta\",\"Monaco\",\"Netherlands\",\"New Zealand\",\"Norway\",\"Poland\",\"Portugal\",\"Romania\",\"Russian Federation\",\"Slovakia\",\"Slovenia\",\"Spain\",\"Sweden\",\"Switzerland\",\"Turkey\",\"Ukraine\",\"United Kingdom\",\"United States of America\"],\"locationmode\":\"country names\",\"locations\":[\"Australia\",\"Austria\",\"Belarus\",\"Belgium\",\"Bulgaria\",\"Canada\",\"Croatia\",\"Cyprus\",\"Czech Republic\",\"Denmark\",\"Estonia\",\"European Union\",\"Finland\",\"France\",\"Germany\",\"Greece\",\"Hungary\",\"Iceland\",\"Ireland\",\"Italy\",\"Japan\",\"Latvia\",\"Liechtenstein\",\"Lithuania\",\"Luxembourg\",\"Malta\",\"Monaco\",\"Netherlands\",\"New Zealand\",\"Norway\",\"Poland\",\"Portugal\",\"Romania\",\"Russian Federation\",\"Slovakia\",\"Slovenia\",\"Spain\",\"Sweden\",\"Switzerland\",\"Turkey\",\"Ukraine\",\"United Kingdom\",\"United States of America\"],\"name\":\"\",\"z\":[289.1422677,60.79075772,75.55175529,121.156965,57.20393552,467.6072372,17.08122802,5.733674102,135.5885656,61.03867124,18.81096392,4177.106509,56.33326799,394.3348338,955.9775994,84.2630079,63.17497837,2.294504644,33.57497174,429.1580092,1167.714718,11.96614551,0.214867691,16.34717183,12.37550708,2.252062767,0.100881938,171.4978911,27.69722735,36.52078382,366.4276609,50.5021226,124.8191001,1909.57784,46.46754919,14.30399365,239.9382873,57.42595145,43.55627642,167.4431521,498.504839,574.7647527,5284.75862],\"type\":\"choropleth\"}],\"name\":\"1993\"},{\"data\":[{\"coloraxis\":\"coloraxis\",\"geo\":\"geo\",\"hovertemplate\":\"<b>%{hovertext}</b><br><br>year=1994<br>country=%{location}<br>value in Megatons=%{z}<extra></extra>\",\"hovertext\":[\"Australia\",\"Austria\",\"Belarus\",\"Belgium\",\"Bulgaria\",\"Canada\",\"Croatia\",\"Cyprus\",\"Czech Republic\",\"Denmark\",\"Estonia\",\"European Union\",\"Finland\",\"France\",\"Germany\",\"Greece\",\"Hungary\",\"Iceland\",\"Ireland\",\"Italy\",\"Japan\",\"Latvia\",\"Liechtenstein\",\"Lithuania\",\"Luxembourg\",\"Malta\",\"Monaco\",\"Netherlands\",\"New Zealand\",\"Norway\",\"Poland\",\"Portugal\",\"Romania\",\"Russian Federation\",\"Slovakia\",\"Slovenia\",\"Spain\",\"Sweden\",\"Switzerland\",\"Turkey\",\"Ukraine\",\"United Kingdom\",\"United States of America\"],\"locationmode\":\"country names\",\"locations\":[\"Australia\",\"Austria\",\"Belarus\",\"Belgium\",\"Bulgaria\",\"Canada\",\"Croatia\",\"Cyprus\",\"Czech Republic\",\"Denmark\",\"Estonia\",\"European Union\",\"Finland\",\"France\",\"Germany\",\"Greece\",\"Hungary\",\"Iceland\",\"Ireland\",\"Italy\",\"Japan\",\"Latvia\",\"Liechtenstein\",\"Lithuania\",\"Luxembourg\",\"Malta\",\"Monaco\",\"Netherlands\",\"New Zealand\",\"Norway\",\"Poland\",\"Portugal\",\"Romania\",\"Russian Federation\",\"Slovakia\",\"Slovenia\",\"Spain\",\"Sweden\",\"Switzerland\",\"Turkey\",\"Ukraine\",\"United Kingdom\",\"United States of America\"],\"name\":\"\",\"z\":[293.8307091,61.1891025,62.40227908,124.4268857,55.64908132,482.6916713,16.34218188,5.977257105,129.1887341,64.9887809,19.62644594,4161.321317,61.69638533,394.5369624,939.2073282,86.42585651,61.56837459,2.248368953,34.69648573,421.4040999,1228.936691,10.39914113,0.200961153,15.76541476,11.56057169,2.302770277,0.101872636,175.0087031,27.87905921,38.43476519,362.0129588,51.30320415,122.610777,1685.494547,43.63849012,14.64872554,252.3893483,59.87699876,42.61330374,164.6235533,409.721674,569.4583649,5377.492217],\"type\":\"choropleth\"}],\"name\":\"1994\"},{\"data\":[{\"coloraxis\":\"coloraxis\",\"geo\":\"geo\",\"hovertemplate\":\"<b>%{hovertext}</b><br><br>year=1995<br>country=%{location}<br>value in Megatons=%{z}<extra></extra>\",\"hovertext\":[\"Australia\",\"Austria\",\"Belarus\",\"Belgium\",\"Bulgaria\",\"Canada\",\"Croatia\",\"Cyprus\",\"Czech Republic\",\"Denmark\",\"Estonia\",\"European Union\",\"Finland\",\"France\",\"Germany\",\"Greece\",\"Hungary\",\"Iceland\",\"Ireland\",\"Italy\",\"Japan\",\"Latvia\",\"Liechtenstein\",\"Lithuania\",\"Luxembourg\",\"Malta\",\"Monaco\",\"Netherlands\",\"New Zealand\",\"Norway\",\"Poland\",\"Portugal\",\"Romania\",\"Russian Federation\",\"Slovakia\",\"Slovenia\",\"Spain\",\"Sweden\",\"Switzerland\",\"Turkey\",\"Ukraine\",\"United Kingdom\",\"United States of America\"],\"locationmode\":\"country names\",\"locations\":[\"Australia\",\"Austria\",\"Belarus\",\"Belgium\",\"Bulgaria\",\"Canada\",\"Croatia\",\"Cyprus\",\"Czech Republic\",\"Denmark\",\"Estonia\",\"European Union\",\"Finland\",\"France\",\"Germany\",\"Greece\",\"Hungary\",\"Iceland\",\"Ireland\",\"Italy\",\"Japan\",\"Latvia\",\"Liechtenstein\",\"Lithuania\",\"Luxembourg\",\"Malta\",\"Monaco\",\"Netherlands\",\"New Zealand\",\"Norway\",\"Poland\",\"Portugal\",\"Romania\",\"Russian Federation\",\"Slovakia\",\"Slovenia\",\"Spain\",\"Sweden\",\"Switzerland\",\"Turkey\",\"Ukraine\",\"United Kingdom\",\"United States of America\"],\"name\":\"\",\"z\":[305.1625435,64.20215922,56.00593938,125.519442,57.22160629,497.2248369,16.99280042,5.848043785,129.7671664,61.91416101,17.95373597,4204.480856,58.12624754,401.5712255,938.1480931,86.98064577,61.35446202,2.299613655,35.71874856,447.2011688,1242.494022,9.141353517,0.20405592,15.02254413,9.15585265,2.313216089,0.09899043,173.1962974,28.14345763,38.46490666,363.8857776,55.13432947,128.5870036,1629.496298,44.67954496,15.27774478,265.7253507,59.31867271,43.36845716,178.8124095,380.8712837,561.202954,5441.59923],\"type\":\"choropleth\"}],\"name\":\"1995\"},{\"data\":[{\"coloraxis\":\"coloraxis\",\"geo\":\"geo\",\"hovertemplate\":\"<b>%{hovertext}</b><br><br>year=1996<br>country=%{location}<br>value in Megatons=%{z}<extra></extra>\",\"hovertext\":[\"Australia\",\"Austria\",\"Belarus\",\"Belgium\",\"Bulgaria\",\"Canada\",\"Croatia\",\"Cyprus\",\"Czech Republic\",\"Denmark\",\"Estonia\",\"European Union\",\"Finland\",\"France\",\"Germany\",\"Greece\",\"Hungary\",\"Iceland\",\"Ireland\",\"Italy\",\"Japan\",\"Latvia\",\"Liechtenstein\",\"Lithuania\",\"Luxembourg\",\"Malta\",\"Monaco\",\"Netherlands\",\"New Zealand\",\"Norway\",\"Poland\",\"Portugal\",\"Romania\",\"Russian Federation\",\"Slovakia\",\"Slovenia\",\"Spain\",\"Sweden\",\"Switzerland\",\"Turkey\",\"Ukraine\",\"United Kingdom\",\"United States of America\"],\"locationmode\":\"country names\",\"locations\":[\"Australia\",\"Austria\",\"Belarus\",\"Belgium\",\"Bulgaria\",\"Canada\",\"Croatia\",\"Cyprus\",\"Czech Republic\",\"Denmark\",\"Estonia\",\"European Union\",\"Finland\",\"France\",\"Germany\",\"Greece\",\"Hungary\",\"Iceland\",\"Ireland\",\"Italy\",\"Japan\",\"Latvia\",\"Liechtenstein\",\"Lithuania\",\"Luxembourg\",\"Malta\",\"Monaco\",\"Netherlands\",\"New Zealand\",\"Norway\",\"Poland\",\"Portugal\",\"Romania\",\"Russian Federation\",\"Slovakia\",\"Slovenia\",\"Spain\",\"Sweden\",\"Switzerland\",\"Turkey\",\"Ukraine\",\"United Kingdom\",\"United States of America\"],\"name\":\"\",\"z\":[311.9148198,67.6672627,57.2513557,129.0104717,57.58119476,510.6196822,17.58789846,6.156132134,132.2340718,75.11084099,18.66613597,4304.793283,64.0389222,414.0130701,958.3687247,89.1344254,62.95025321,2.385913826,37.33510811,440.2355072,1255.264198,9.216383988,0.20580909,15.67683103,9.217190301,2.329181698,0.102319538,182.5735829,29.36826499,41.58670856,377.3085961,52.34846881,131.9396945,1581.29322,44.97891158,15.94517611,253.7088701,63.23878594,44.08833495,194.7517794,344.3471894,582.7527844,5630.113715],\"type\":\"choropleth\"}],\"name\":\"1996\"},{\"data\":[{\"coloraxis\":\"coloraxis\",\"geo\":\"geo\",\"hovertemplate\":\"<b>%{hovertext}</b><br><br>year=1997<br>country=%{location}<br>value in Megatons=%{z}<extra></extra>\",\"hovertext\":[\"Australia\",\"Austria\",\"Belarus\",\"Belgium\",\"Bulgaria\",\"Canada\",\"Croatia\",\"Cyprus\",\"Czech Republic\",\"Denmark\",\"Estonia\",\"European Union\",\"Finland\",\"France\",\"Germany\",\"Greece\",\"Hungary\",\"Iceland\",\"Ireland\",\"Italy\",\"Japan\",\"Latvia\",\"Liechtenstein\",\"Lithuania\",\"Luxembourg\",\"Malta\",\"Monaco\",\"Netherlands\",\"New Zealand\",\"Norway\",\"Poland\",\"Portugal\",\"Romania\",\"Russian Federation\",\"Slovakia\",\"Slovenia\",\"Spain\",\"Sweden\",\"Switzerland\",\"Turkey\",\"Ukraine\",\"United Kingdom\",\"United States of America\"],\"locationmode\":\"country names\",\"locations\":[\"Australia\",\"Austria\",\"Belarus\",\"Belgium\",\"Bulgaria\",\"Canada\",\"Croatia\",\"Cyprus\",\"Czech Republic\",\"Denmark\",\"Estonia\",\"European Union\",\"Finland\",\"France\",\"Germany\",\"Greece\",\"Hungary\",\"Iceland\",\"Ireland\",\"Italy\",\"Japan\",\"Latvia\",\"Liechtenstein\",\"Lithuania\",\"Luxembourg\",\"Malta\",\"Monaco\",\"Netherlands\",\"New Zealand\",\"Norway\",\"Poland\",\"Portugal\",\"Romania\",\"Russian Federation\",\"Slovakia\",\"Slovenia\",\"Spain\",\"Sweden\",\"Switzerland\",\"Turkey\",\"Ukraine\",\"United Kingdom\",\"United States of America\"],\"name\":\"\",\"z\":[320.4391168,67.45589273,60.97181631,123.4957428,54.79013416,525.1200112,18.66646698,6.287031657,128.7326387,65.45783484,18.22360427,4216.524733,62.69808679,407.4751118,930.7685605,93.83986992,61.54991246,2.45024392,38.67559402,444.0554335,1253.057307,8.677545811,0.218235373,15.08628576,8.530745345,2.331954735,0.101084481,175.4879708,31.36345262,41.68313337,368.4158533,55.45421106,123.5158533,1502.079866,45.04026974,16.27555967,266.3919268,58.15452972,42.97162446,208.4800696,334.2087022,557.6087794,5704.996869],\"type\":\"choropleth\"}],\"name\":\"1997\"},{\"data\":[{\"coloraxis\":\"coloraxis\",\"geo\":\"geo\",\"hovertemplate\":\"<b>%{hovertext}</b><br><br>year=1998<br>country=%{location}<br>value in Megatons=%{z}<extra></extra>\",\"hovertext\":[\"Australia\",\"Austria\",\"Belarus\",\"Belgium\",\"Bulgaria\",\"Canada\",\"Croatia\",\"Cyprus\",\"Czech Republic\",\"Denmark\",\"Estonia\",\"European Union\",\"Finland\",\"France\",\"Germany\",\"Greece\",\"Hungary\",\"Iceland\",\"Ireland\",\"Italy\",\"Japan\",\"Latvia\",\"Liechtenstein\",\"Lithuania\",\"Luxembourg\",\"Malta\",\"Monaco\",\"Netherlands\",\"New Zealand\",\"Norway\",\"Poland\",\"Portugal\",\"Romania\",\"Russian Federation\",\"Slovakia\",\"Slovenia\",\"Spain\",\"Sweden\",\"Switzerland\",\"Turkey\",\"Ukraine\",\"United Kingdom\",\"United States of America\"],\"locationmode\":\"country names\",\"locations\":[\"Australia\",\"Austria\",\"Belarus\",\"Belgium\",\"Bulgaria\",\"Canada\",\"Croatia\",\"Cyprus\",\"Czech Republic\",\"Denmark\",\"Estonia\",\"European Union\",\"Finland\",\"France\",\"Germany\",\"Greece\",\"Hungary\",\"Iceland\",\"Ireland\",\"Italy\",\"Japan\",\"Latvia\",\"Liechtenstein\",\"Lithuania\",\"Luxembourg\",\"Malta\",\"Monaco\",\"Netherlands\",\"New Zealand\",\"Norway\",\"Poland\",\"Portugal\",\"Romania\",\"Russian Federation\",\"Slovakia\",\"Slovenia\",\"Spain\",\"Sweden\",\"Switzerland\",\"Turkey\",\"Ukraine\",\"United Kingdom\",\"United States of America\"],\"name\":\"\",\"z\":[334.3281426,67.04725067,57.42632958,129.73709,52.14335677,533.7944536,19.3723876,6.58029615,123.6965173,61.11734163,16.68430315,4207.666032,59.35149815,429.0514999,922.77854,98.66319416,61.08776379,2.450234263,40.57217586,454.9676332,1218.257762,8.300595278,0.229117104,15.90151757,7.61936329,2.338062788,0.099816859,176.6171685,29.92750138,41.93903792,339.1458296,59.97620992,106.8139775,1476.588925,44.016987,15.98047785,274.9110969,58.73340636,44.52237142,208.365344,309.2076629,561.2537228,5744.672196],\"type\":\"choropleth\"}],\"name\":\"1998\"},{\"data\":[{\"coloraxis\":\"coloraxis\",\"geo\":\"geo\",\"hovertemplate\":\"<b>%{hovertext}</b><br><br>year=1999<br>country=%{location}<br>value in Megatons=%{z}<extra></extra>\",\"hovertext\":[\"Australia\",\"Austria\",\"Belarus\",\"Belgium\",\"Bulgaria\",\"Canada\",\"Croatia\",\"Cyprus\",\"Czech Republic\",\"Denmark\",\"Estonia\",\"European Union\",\"Finland\",\"France\",\"Germany\",\"Greece\",\"Hungary\",\"Iceland\",\"Ireland\",\"Italy\",\"Japan\",\"Latvia\",\"Liechtenstein\",\"Lithuania\",\"Luxembourg\",\"Malta\",\"Monaco\",\"Netherlands\",\"New Zealand\",\"Norway\",\"Poland\",\"Portugal\",\"Romania\",\"Russian Federation\",\"Slovakia\",\"Slovenia\",\"Spain\",\"Sweden\",\"Switzerland\",\"Turkey\",\"Ukraine\",\"United Kingdom\",\"United States of America\"],\"locationmode\":\"country names\",\"locations\":[\"Australia\",\"Austria\",\"Belarus\",\"Belgium\",\"Bulgaria\",\"Canada\",\"Croatia\",\"Cyprus\",\"Czech Republic\",\"Denmark\",\"Estonia\",\"European Union\",\"Finland\",\"France\",\"Germany\",\"Greece\",\"Hungary\",\"Iceland\",\"Ireland\",\"Italy\",\"Japan\",\"Latvia\",\"Liechtenstein\",\"Lithuania\",\"Luxembourg\",\"Malta\",\"Monaco\",\"Netherlands\",\"New Zealand\",\"Norway\",\"Poland\",\"Portugal\",\"Romania\",\"Russian Federation\",\"Slovakia\",\"Slovenia\",\"Spain\",\"Sweden\",\"Switzerland\",\"Turkey\",\"Ukraine\",\"United Kingdom\",\"United States of America\"],\"name\":\"\",\"z\":[343.7139069,65.66013364,55.03395212,124.2080718,45.7517891,550.1830634,20.21565323,6.847659116,115.47526,58.45641582,15.51849062,4139.002995,58.8729308,420.506322,895.3367862,97.97977835,61.59314102,2.655394725,42.30208786,459.8406423,1253.082147,7.709049993,0.226448838,13.42215115,7.986155881,2.418555565,0.100659282,171.2281096,31.52318609,42.69175637,329.3808984,67.61281189,90.44335077,1512.651931,43.18131449,15.35307144,298.5310279,55.86121922,44.35454312,206.3886198,284.1095693,553.8275491,5818.972385],\"type\":\"choropleth\"}],\"name\":\"1999\"},{\"data\":[{\"coloraxis\":\"coloraxis\",\"geo\":\"geo\",\"hovertemplate\":\"<b>%{hovertext}</b><br><br>year=2000<br>country=%{location}<br>value in Megatons=%{z}<extra></extra>\",\"hovertext\":[\"Australia\",\"Austria\",\"Belarus\",\"Belgium\",\"Bulgaria\",\"Canada\",\"Croatia\",\"Cyprus\",\"Czech Republic\",\"Denmark\",\"Estonia\",\"European Union\",\"Finland\",\"France\",\"Germany\",\"Greece\",\"Hungary\",\"Iceland\",\"Ireland\",\"Italy\",\"Japan\",\"Latvia\",\"Liechtenstein\",\"Lithuania\",\"Luxembourg\",\"Malta\",\"Monaco\",\"Netherlands\",\"New Zealand\",\"Norway\",\"Poland\",\"Portugal\",\"Romania\",\"Russian Federation\",\"Slovakia\",\"Slovenia\",\"Spain\",\"Sweden\",\"Switzerland\",\"Turkey\",\"Ukraine\",\"United Kingdom\",\"United States of America\"],\"locationmode\":\"country names\",\"locations\":[\"Australia\",\"Austria\",\"Belarus\",\"Belgium\",\"Bulgaria\",\"Canada\",\"Croatia\",\"Cyprus\",\"Czech Republic\",\"Denmark\",\"Estonia\",\"European Union\",\"Finland\",\"France\",\"Germany\",\"Greece\",\"Hungary\",\"Iceland\",\"Ireland\",\"Italy\",\"Japan\",\"Latvia\",\"Liechtenstein\",\"Lithuania\",\"Luxembourg\",\"Malta\",\"Monaco\",\"Netherlands\",\"New Zealand\",\"Norway\",\"Poland\",\"Portugal\",\"Romania\",\"Russian Federation\",\"Slovakia\",\"Slovenia\",\"Spain\",\"Sweden\",\"Switzerland\",\"Turkey\",\"Ukraine\",\"United Kingdom\",\"United States of America\"],\"name\":\"\",\"z\":[349.8854331,66.27474325,53.68685749,126.3152099,44.89667055,572.2903855,19.78912175,7.095964385,125.8419693,54.14890497,15.14138772,4165.145441,56.97335053,417.1165447,899.2849934,103.0196647,58.33680706,2.728937485,45.12333544,465.1750734,1274.297988,7.06994204,0.216750456,11.8019649,8.798182081,2.414283811,0.098324356,172.0598122,32.35595702,42.19461918,319.1204051,66.41132992,95.19090345,1504.182729,41.15501145,15.46015417,311.5997239,54.73042441,43.54595971,232.5491895,271.4297739,561.2808662,5992.43804],\"type\":\"choropleth\"}],\"name\":\"2000\"},{\"data\":[{\"coloraxis\":\"coloraxis\",\"geo\":\"geo\",\"hovertemplate\":\"<b>%{hovertext}</b><br><br>year=2001<br>country=%{location}<br>value in Megatons=%{z}<extra></extra>\",\"hovertext\":[\"Australia\",\"Austria\",\"Belarus\",\"Belgium\",\"Bulgaria\",\"Canada\",\"Croatia\",\"Cyprus\",\"Czech Republic\",\"Denmark\",\"Estonia\",\"European Union\",\"Finland\",\"France\",\"Germany\",\"Greece\",\"Hungary\",\"Iceland\",\"Ireland\",\"Italy\",\"Japan\",\"Latvia\",\"Liechtenstein\",\"Lithuania\",\"Luxembourg\",\"Malta\",\"Monaco\",\"Netherlands\",\"New Zealand\",\"Norway\",\"Poland\",\"Portugal\",\"Romania\",\"Russian Federation\",\"Slovakia\",\"Slovenia\",\"Spain\",\"Sweden\",\"Switzerland\",\"Turkey\",\"Ukraine\",\"United Kingdom\",\"United States of America\"],\"locationmode\":\"country names\",\"locations\":[\"Australia\",\"Austria\",\"Belarus\",\"Belgium\",\"Bulgaria\",\"Canada\",\"Croatia\",\"Cyprus\",\"Czech Republic\",\"Denmark\",\"Estonia\",\"European Union\",\"Finland\",\"France\",\"Germany\",\"Greece\",\"Hungary\",\"Iceland\",\"Ireland\",\"Italy\",\"Japan\",\"Latvia\",\"Liechtenstein\",\"Lithuania\",\"Luxembourg\",\"Malta\",\"Monaco\",\"Netherlands\",\"New Zealand\",\"Norway\",\"Poland\",\"Portugal\",\"Romania\",\"Russian Federation\",\"Slovakia\",\"Slovenia\",\"Spain\",\"Sweden\",\"Switzerland\",\"Turkey\",\"Ukraine\",\"United Kingdom\",\"United States of America\"],\"name\":\"\",\"z\":[357.6533299,70.29947115,53.78384767,125.6493705,48.56891783,564.6170203,20.94310996,6.969466176,125.5415365,55.84514718,15.49386099,4232.036863,62.44264007,417.8647056,915.6344396,105.4073076,59.99573448,2.710294727,47.48272078,471.1242767,1257.38456,7.480502607,0.214585311,12.50796668,9.311916127,2.550604061,0.098548868,177.0374016,34.58172276,43.53034876,315.2740936,66.11375571,100.377987,1542.500065,43.46809335,16.38475614,312.3954032,55.68674575,45.00227877,217.4695033,290.7747097,570.6970303,5894.462942],\"type\":\"choropleth\"}],\"name\":\"2001\"},{\"data\":[{\"coloraxis\":\"coloraxis\",\"geo\":\"geo\",\"hovertemplate\":\"<b>%{hovertext}</b><br><br>year=2002<br>country=%{location}<br>value in Megatons=%{z}<extra></extra>\",\"hovertext\":[\"Australia\",\"Austria\",\"Belarus\",\"Belgium\",\"Bulgaria\",\"Canada\",\"Croatia\",\"Cyprus\",\"Czech Republic\",\"Denmark\",\"Estonia\",\"European Union\",\"Finland\",\"France\",\"Germany\",\"Greece\",\"Hungary\",\"Iceland\",\"Ireland\",\"Italy\",\"Japan\",\"Latvia\",\"Liechtenstein\",\"Lithuania\",\"Luxembourg\",\"Malta\",\"Monaco\",\"Netherlands\",\"New Zealand\",\"Norway\",\"Poland\",\"Portugal\",\"Romania\",\"Russian Federation\",\"Slovakia\",\"Slovenia\",\"Spain\",\"Sweden\",\"Switzerland\",\"Turkey\",\"Ukraine\",\"United Kingdom\",\"United States of America\"],\"locationmode\":\"country names\",\"locations\":[\"Australia\",\"Austria\",\"Belarus\",\"Belgium\",\"Bulgaria\",\"Canada\",\"Croatia\",\"Cyprus\",\"Czech Republic\",\"Denmark\",\"Estonia\",\"European Union\",\"Finland\",\"France\",\"Germany\",\"Greece\",\"Hungary\",\"Iceland\",\"Ireland\",\"Italy\",\"Japan\",\"Latvia\",\"Liechtenstein\",\"Lithuania\",\"Luxembourg\",\"Malta\",\"Monaco\",\"Netherlands\",\"New Zealand\",\"Norway\",\"Poland\",\"Portugal\",\"Romania\",\"Russian Federation\",\"Slovakia\",\"Slovenia\",\"Spain\",\"Sweden\",\"Switzerland\",\"Turkey\",\"Ukraine\",\"United Kingdom\",\"United States of America\"],\"name\":\"\",\"z\":[361.8613879,72.12659144,53.84370442,126.0151947,45.78629472,569.8621456,22.03112667,7.160388458,122.5934001,55.3396717,15.02028415,4208.860123,64.94646821,413.5692479,899.1615674,105.0514662,58.96822777,2.795907312,45.95273017,473.5040592,1294.399198,7.508743242,0.219947205,12.61442501,10.06814032,2.464212229,0.098161276,176.4624006,34.76827818,42.65587483,307.5356422,69.95449452,100.6553131,1531.200212,41.59353325,16.52631271,332.2008428,56.63189617,43.37398555,226.365412,281.9393497,554.2276358,5935.738784],\"type\":\"choropleth\"}],\"name\":\"2002\"},{\"data\":[{\"coloraxis\":\"coloraxis\",\"geo\":\"geo\",\"hovertemplate\":\"<b>%{hovertext}</b><br><br>year=2003<br>country=%{location}<br>value in Megatons=%{z}<extra></extra>\",\"hovertext\":[\"Australia\",\"Austria\",\"Belarus\",\"Belgium\",\"Bulgaria\",\"Canada\",\"Croatia\",\"Cyprus\",\"Czech Republic\",\"Denmark\",\"Estonia\",\"European Union\",\"Finland\",\"France\",\"Germany\",\"Greece\",\"Hungary\",\"Iceland\",\"Ireland\",\"Italy\",\"Japan\",\"Latvia\",\"Liechtenstein\",\"Lithuania\",\"Luxembourg\",\"Malta\",\"Monaco\",\"Netherlands\",\"New Zealand\",\"Norway\",\"Poland\",\"Portugal\",\"Romania\",\"Russian Federation\",\"Slovakia\",\"Slovenia\",\"Spain\",\"Sweden\",\"Switzerland\",\"Turkey\",\"Ukraine\",\"United Kingdom\",\"United States of America\"],\"locationmode\":\"country names\",\"locations\":[\"Australia\",\"Austria\",\"Belarus\",\"Belgium\",\"Bulgaria\",\"Canada\",\"Croatia\",\"Cyprus\",\"Czech Republic\",\"Denmark\",\"Estonia\",\"European Union\",\"Finland\",\"France\",\"Germany\",\"Greece\",\"Hungary\",\"Iceland\",\"Ireland\",\"Italy\",\"Japan\",\"Latvia\",\"Liechtenstein\",\"Lithuania\",\"Luxembourg\",\"Malta\",\"Monaco\",\"Netherlands\",\"New Zealand\",\"Norway\",\"Poland\",\"Portugal\",\"Romania\",\"Russian Federation\",\"Slovakia\",\"Slovenia\",\"Spain\",\"Sweden\",\"Switzerland\",\"Turkey\",\"Ukraine\",\"United Kingdom\",\"United States of America\"],\"name\":\"\",\"z\":[368.3459774,78.0239539,54.84514584,127.5239897,49.97115158,587.3066785,23.3552211,7.550081928,126.1516488,60.49396172,16.83321429,4306.103945,72.52259019,422.3128845,900.3775854,109.1265676,61.7668396,2.792723132,45.55432252,489.5955081,1299.490609,7.703771508,0.229265875,12.6052382,10.44338322,2.666134325,0.095298855,179.867889,36.49717101,43.90670966,320.2301705,64.69729922,105.737481,1568.510143,42.06055025,16.2893859,336.6724225,57.20359907,44.58798027,240.9024629,285.7204799,565.4755203,5982.289167],\"type\":\"choropleth\"}],\"name\":\"2003\"},{\"data\":[{\"coloraxis\":\"coloraxis\",\"geo\":\"geo\",\"hovertemplate\":\"<b>%{hovertext}</b><br><br>year=2004<br>country=%{location}<br>value in Megatons=%{z}<extra></extra>\",\"hovertext\":[\"Australia\",\"Austria\",\"Belarus\",\"Belgium\",\"Bulgaria\",\"Canada\",\"Croatia\",\"Cyprus\",\"Czech Republic\",\"Denmark\",\"Estonia\",\"European Union\",\"Finland\",\"France\",\"Germany\",\"Greece\",\"Hungary\",\"Iceland\",\"Ireland\",\"Italy\",\"Japan\",\"Latvia\",\"Liechtenstein\",\"Lithuania\",\"Luxembourg\",\"Malta\",\"Monaco\",\"Netherlands\",\"New Zealand\",\"Norway\",\"Poland\",\"Portugal\",\"Romania\",\"Russian Federation\",\"Slovakia\",\"Slovenia\",\"Spain\",\"Sweden\",\"Switzerland\",\"Turkey\",\"Ukraine\",\"United Kingdom\",\"United States of America\"],\"locationmode\":\"country names\",\"locations\":[\"Australia\",\"Austria\",\"Belarus\",\"Belgium\",\"Bulgaria\",\"Canada\",\"Croatia\",\"Cyprus\",\"Czech Republic\",\"Denmark\",\"Estonia\",\"European Union\",\"Finland\",\"France\",\"Germany\",\"Greece\",\"Hungary\",\"Iceland\",\"Ireland\",\"Italy\",\"Japan\",\"Latvia\",\"Liechtenstein\",\"Lithuania\",\"Luxembourg\",\"Malta\",\"Monaco\",\"Netherlands\",\"New Zealand\",\"Norway\",\"Poland\",\"Portugal\",\"Romania\",\"Russian Federation\",\"Slovakia\",\"Slovenia\",\"Spain\",\"Sweden\",\"Switzerland\",\"Turkey\",\"Ukraine\",\"United Kingdom\",\"United States of America\"],\"name\":\"\",\"z\":[381.5192616,78.38899743,58.45764762,128.6404835,49.17033769,585.4148606,23.00523485,7.776909405,126.8769162,54.91691056,17.05507425,4314.560871,68.82181289,423.1686361,886.3446297,109.5710609,60.23166198,2.837029011,46.04240225,492.7462556,1298.433888,7.709460762,0.229296322,13.18549337,11.87110772,2.604744832,0.090200504,181.546257,36.06366333,44.32000488,324.2794498,67.45815914,104.5750778,1575.18086,42.57695889,16.6391711,353.4726123,56.42880314,45.14966709,253.1720784,296.7537315,566.598164,6096.978363],\"type\":\"choropleth\"}],\"name\":\"2004\"},{\"data\":[{\"coloraxis\":\"coloraxis\",\"geo\":\"geo\",\"hovertemplate\":\"<b>%{hovertext}</b><br><br>year=2005<br>country=%{location}<br>value in Megatons=%{z}<extra></extra>\",\"hovertext\":[\"Australia\",\"Austria\",\"Belarus\",\"Belgium\",\"Bulgaria\",\"Canada\",\"Croatia\",\"Cyprus\",\"Czech Republic\",\"Denmark\",\"Estonia\",\"European Union\",\"Finland\",\"France\",\"Germany\",\"Greece\",\"Hungary\",\"Iceland\",\"Ireland\",\"Italy\",\"Japan\",\"Latvia\",\"Liechtenstein\",\"Lithuania\",\"Luxembourg\",\"Malta\",\"Monaco\",\"Netherlands\",\"New Zealand\",\"Norway\",\"Poland\",\"Portugal\",\"Romania\",\"Russian Federation\",\"Slovakia\",\"Slovenia\",\"Spain\",\"Sweden\",\"Switzerland\",\"Turkey\",\"Ukraine\",\"United Kingdom\",\"United States of America\"],\"locationmode\":\"country names\",\"locations\":[\"Australia\",\"Austria\",\"Belarus\",\"Belgium\",\"Bulgaria\",\"Canada\",\"Croatia\",\"Cyprus\",\"Czech Republic\",\"Denmark\",\"Estonia\",\"European Union\",\"Finland\",\"France\",\"Germany\",\"Greece\",\"Hungary\",\"Iceland\",\"Ireland\",\"Italy\",\"Japan\",\"Latvia\",\"Liechtenstein\",\"Lithuania\",\"Luxembourg\",\"Malta\",\"Monaco\",\"Netherlands\",\"New Zealand\",\"Norway\",\"Poland\",\"Portugal\",\"Romania\",\"Russian Federation\",\"Slovakia\",\"Slovenia\",\"Spain\",\"Sweden\",\"Switzerland\",\"Turkey\",\"Ukraine\",\"United Kingdom\",\"United States of America\"],\"name\":\"\",\"z\":[385.5811328,79.58850188,59.66473908,125.1180165,50.19111606,579.2253357,23.45184585,7.961983989,124.5901379,51.30724452,16.33073383,4290.586668,56.91231489,428.5576102,865.9585134,113.2198224,60.32950501,2.797314592,47.95220439,490.9142629,1305.938824,7.790403932,0.228970324,13.9468843,12.13091379,2.736312934,0.088750691,177.5404732,37.6454343,43.54823029,323.3725784,70.03452941,102.4142524,1593.933344,42.5810225,16.93832426,368.7450684,53.85920573,45.77808946,279.1307408,307.3414835,563.7835376,6122.746612],\"type\":\"choropleth\"}],\"name\":\"2005\"},{\"data\":[{\"coloraxis\":\"coloraxis\",\"geo\":\"geo\",\"hovertemplate\":\"<b>%{hovertext}</b><br><br>year=2006<br>country=%{location}<br>value in Megatons=%{z}<extra></extra>\",\"hovertext\":[\"Australia\",\"Austria\",\"Belarus\",\"Belgium\",\"Bulgaria\",\"Canada\",\"Croatia\",\"Cyprus\",\"Czech Republic\",\"Denmark\",\"Estonia\",\"European Union\",\"Finland\",\"France\",\"Germany\",\"Greece\",\"Hungary\",\"Iceland\",\"Ireland\",\"Italy\",\"Japan\",\"Latvia\",\"Liechtenstein\",\"Lithuania\",\"Luxembourg\",\"Malta\",\"Monaco\",\"Netherlands\",\"New Zealand\",\"Norway\",\"Poland\",\"Portugal\",\"Romania\",\"Russian Federation\",\"Slovakia\",\"Slovenia\",\"Spain\",\"Sweden\",\"Switzerland\",\"Turkey\",\"Ukraine\",\"United Kingdom\",\"United States of America\"],\"locationmode\":\"country names\",\"locations\":[\"Australia\",\"Austria\",\"Belarus\",\"Belgium\",\"Bulgaria\",\"Canada\",\"Croatia\",\"Cyprus\",\"Czech Republic\",\"Denmark\",\"Estonia\",\"European Union\",\"Finland\",\"France\",\"Germany\",\"Greece\",\"Hungary\",\"Iceland\",\"Ireland\",\"Italy\",\"Japan\",\"Latvia\",\"Liechtenstein\",\"Lithuania\",\"Luxembourg\",\"Malta\",\"Monaco\",\"Netherlands\",\"New Zealand\",\"Norway\",\"Poland\",\"Portugal\",\"Romania\",\"Russian Federation\",\"Slovakia\",\"Slovenia\",\"Spain\",\"Sweden\",\"Switzerland\",\"Turkey\",\"Ukraine\",\"United Kingdom\",\"United States of America\"],\"name\":\"\",\"z\":[391.1341009,76.93495153,62.22939888,122.3195938,51.44628294,573.4792697,23.68493503,8.152492308,125.9234024,59.16249963,15.71952893,4297.988162,68.201906,417.6626789,877.4224569,111.7777437,59.75173108,2.939276597,47.40596673,486.5940666,1285.177837,8.289206678,0.231217305,14.30303268,11.99582017,2.776314307,0.082123918,172.7728928,37.51910473,43.91374482,336.5005789,65.46541972,106.1759911,1653.289193,42.32048448,17.12980199,360.0633363,53.69765593,45.351172,302.1959546,325.586622,562.0830948,6042.393615],\"type\":\"choropleth\"}],\"name\":\"2006\"},{\"data\":[{\"coloraxis\":\"coloraxis\",\"geo\":\"geo\",\"hovertemplate\":\"<b>%{hovertext}</b><br><br>year=2007<br>country=%{location}<br>value in Megatons=%{z}<extra></extra>\",\"hovertext\":[\"Australia\",\"Austria\",\"Belarus\",\"Belgium\",\"Bulgaria\",\"Canada\",\"Croatia\",\"Cyprus\",\"Czech Republic\",\"Denmark\",\"Estonia\",\"European Union\",\"Finland\",\"France\",\"Germany\",\"Greece\",\"Hungary\",\"Iceland\",\"Ireland\",\"Italy\",\"Japan\",\"Latvia\",\"Liechtenstein\",\"Lithuania\",\"Luxembourg\",\"Malta\",\"Monaco\",\"Netherlands\",\"New Zealand\",\"Norway\",\"Poland\",\"Portugal\",\"Romania\",\"Russian Federation\",\"Slovakia\",\"Slovenia\",\"Spain\",\"Sweden\",\"Switzerland\",\"Turkey\",\"Ukraine\",\"United Kingdom\",\"United States of America\"],\"locationmode\":\"country names\",\"locations\":[\"Australia\",\"Austria\",\"Belarus\",\"Belgium\",\"Bulgaria\",\"Canada\",\"Croatia\",\"Cyprus\",\"Czech Republic\",\"Denmark\",\"Estonia\",\"European Union\",\"Finland\",\"France\",\"Germany\",\"Greece\",\"Hungary\",\"Iceland\",\"Ireland\",\"Italy\",\"Japan\",\"Latvia\",\"Liechtenstein\",\"Lithuania\",\"Luxembourg\",\"Malta\",\"Monaco\",\"Netherlands\",\"New Zealand\",\"Norway\",\"Poland\",\"Portugal\",\"Romania\",\"Russian Federation\",\"Slovakia\",\"Slovenia\",\"Spain\",\"Sweden\",\"Switzerland\",\"Turkey\",\"Ukraine\",\"United Kingdom\",\"United States of America\"],\"name\":\"\",\"z\":[398.8164535,74.26811072,61.56388173,118.0274086,55.1844241,596.041322,24.95537593,8.458664261,126.933163,54.42908517,18.75564793,4244.213129,66.53172081,408.5085899,850.7957208,114.1275543,58.41903917,3.236895337,47.49312668,478.2377112,1319.799194,8.610255397,0.200920108,15.62407634,11.39870592,2.831642265,0.082719192,173.1784204,36.65137149,45.84280953,336.2681109,62.79114777,104.5403509,1653.139056,40.72529984,17.27237919,367.2922833,52.91172673,43.3603857,333.1664187,330.0872508,553.719939,6121.653863],\"type\":\"choropleth\"}],\"name\":\"2007\"},{\"data\":[{\"coloraxis\":\"coloraxis\",\"geo\":\"geo\",\"hovertemplate\":\"<b>%{hovertext}</b><br><br>year=2008<br>country=%{location}<br>value in Megatons=%{z}<extra></extra>\",\"hovertext\":[\"Australia\",\"Austria\",\"Belarus\",\"Belgium\",\"Bulgaria\",\"Canada\",\"Croatia\",\"Cyprus\",\"Czech Republic\",\"Denmark\",\"Estonia\",\"European Union\",\"Finland\",\"France\",\"Germany\",\"Greece\",\"Hungary\",\"Iceland\",\"Ireland\",\"Italy\",\"Japan\",\"Latvia\",\"Liechtenstein\",\"Lithuania\",\"Luxembourg\",\"Malta\",\"Monaco\",\"Netherlands\",\"New Zealand\",\"Norway\",\"Poland\",\"Portugal\",\"Romania\",\"Russian Federation\",\"Slovakia\",\"Slovenia\",\"Spain\",\"Sweden\",\"Switzerland\",\"Turkey\",\"Ukraine\",\"United Kingdom\",\"United States of America\"],\"locationmode\":\"country names\",\"locations\":[\"Australia\",\"Austria\",\"Belarus\",\"Belgium\",\"Bulgaria\",\"Canada\",\"Croatia\",\"Cyprus\",\"Czech Republic\",\"Denmark\",\"Estonia\",\"European Union\",\"Finland\",\"France\",\"Germany\",\"Greece\",\"Hungary\",\"Iceland\",\"Ireland\",\"Italy\",\"Japan\",\"Latvia\",\"Liechtenstein\",\"Lithuania\",\"Luxembourg\",\"Malta\",\"Monaco\",\"Netherlands\",\"New Zealand\",\"Norway\",\"Poland\",\"Portugal\",\"Romania\",\"Russian Federation\",\"Slovakia\",\"Slovenia\",\"Spain\",\"Sweden\",\"Switzerland\",\"Turkey\",\"Ukraine\",\"United Kingdom\",\"United States of America\"],\"name\":\"\",\"z\":[404.2378282,74.06625579,63.84610379,120.3626098,53.65514017,577.4449302,23.71538432,8.620395582,121.7807163,50.93567153,17.26452003,4149.624296,58.46163302,401.8788647,853.2299408,110.2557655,57.32516233,3.56720926,47.17554027,467.9335932,1235.45581,8.184971247,0.219698915,14.96325472,11.24587249,2.822406167,0.081376901,176.1744184,37.67405177,44.89309419,329.3381711,60.5500402,101.0354208,1684.999823,41.23632404,18.21973043,335.9948037,50.83157681,44.67694397,323.5365451,317.0638437,539.9161632,5923.201376],\"type\":\"choropleth\"}],\"name\":\"2008\"},{\"data\":[{\"coloraxis\":\"coloraxis\",\"geo\":\"geo\",\"hovertemplate\":\"<b>%{hovertext}</b><br><br>year=2009<br>country=%{location}<br>value in Megatons=%{z}<extra></extra>\",\"hovertext\":[\"Australia\",\"Austria\",\"Belarus\",\"Belgium\",\"Bulgaria\",\"Canada\",\"Croatia\",\"Cyprus\",\"Czech Republic\",\"Denmark\",\"Estonia\",\"European Union\",\"Finland\",\"France\",\"Germany\",\"Greece\",\"Hungary\",\"Iceland\",\"Ireland\",\"Italy\",\"Japan\",\"Latvia\",\"Liechtenstein\",\"Lithuania\",\"Luxembourg\",\"Malta\",\"Monaco\",\"Netherlands\",\"New Zealand\",\"Norway\",\"Poland\",\"Portugal\",\"Romania\",\"Russian Federation\",\"Slovakia\",\"Slovenia\",\"Spain\",\"Sweden\",\"Switzerland\",\"Turkey\",\"Ukraine\",\"United Kingdom\",\"United States of America\"],\"locationmode\":\"country names\",\"locations\":[\"Australia\",\"Austria\",\"Belarus\",\"Belgium\",\"Bulgaria\",\"Canada\",\"Croatia\",\"Cyprus\",\"Czech Republic\",\"Denmark\",\"Estonia\",\"European Union\",\"Finland\",\"France\",\"Germany\",\"Greece\",\"Hungary\",\"Iceland\",\"Ireland\",\"Italy\",\"Japan\",\"Latvia\",\"Liechtenstein\",\"Lithuania\",\"Luxembourg\",\"Malta\",\"Monaco\",\"Netherlands\",\"New Zealand\",\"Norway\",\"Poland\",\"Portugal\",\"Romania\",\"Russian Federation\",\"Slovakia\",\"Slovenia\",\"Spain\",\"Sweden\",\"Switzerland\",\"Turkey\",\"Ukraine\",\"United Kingdom\",\"United States of America\"],\"name\":\"\",\"z\":[408.448479,67.68272515,59.59620538,107.2825435,45.48787355,542.8294589,21.96563527,8.372396592,113.9700292,48.59221139,14.15300516,3814.305258,55.63558277,383.9576243,788.4224379,103.9697843,51.63069002,3.52189071,41.99632468,418.8810769,1162.606192,7.443286011,0.205590544,12.72712004,10.72552213,2.684521293,0.077771936,170.7961566,34.80640209,43.21209247,315.9379659,58.00419697,85.28829402,1576.703967,37.43343342,16.32821033,296.617991,47.26744667,43.50908656,310.580701,269.5984218,489.0125005,5488.32028],\"type\":\"choropleth\"}],\"name\":\"2009\"},{\"data\":[{\"coloraxis\":\"coloraxis\",\"geo\":\"geo\",\"hovertemplate\":\"<b>%{hovertext}</b><br><br>year=2010<br>country=%{location}<br>value in Megatons=%{z}<extra></extra>\",\"hovertext\":[\"Australia\",\"Austria\",\"Belarus\",\"Belgium\",\"Bulgaria\",\"Canada\",\"Croatia\",\"Cyprus\",\"Czech Republic\",\"Denmark\",\"Estonia\",\"European Union\",\"Finland\",\"France\",\"Germany\",\"Greece\",\"Hungary\",\"Iceland\",\"Ireland\",\"Italy\",\"Japan\",\"Latvia\",\"Liechtenstein\",\"Lithuania\",\"Luxembourg\",\"Malta\",\"Monaco\",\"Netherlands\",\"New Zealand\",\"Norway\",\"Poland\",\"Portugal\",\"Romania\",\"Russian Federation\",\"Slovakia\",\"Slovenia\",\"Spain\",\"Sweden\",\"Switzerland\",\"Turkey\",\"Ukraine\",\"United Kingdom\",\"United States of America\"],\"locationmode\":\"country names\",\"locations\":[\"Australia\",\"Austria\",\"Belarus\",\"Belgium\",\"Bulgaria\",\"Canada\",\"Croatia\",\"Cyprus\",\"Czech Republic\",\"Denmark\",\"Estonia\",\"European Union\",\"Finland\",\"France\",\"Germany\",\"Greece\",\"Hungary\",\"Iceland\",\"Ireland\",\"Italy\",\"Japan\",\"Latvia\",\"Liechtenstein\",\"Lithuania\",\"Luxembourg\",\"Malta\",\"Monaco\",\"Netherlands\",\"New Zealand\",\"Norway\",\"Poland\",\"Portugal\",\"Romania\",\"Russian Federation\",\"Slovakia\",\"Slovenia\",\"Spain\",\"Sweden\",\"Switzerland\",\"Turkey\",\"Ukraine\",\"United Kingdom\",\"United States of America\"],\"name\":\"\",\"z\":[406.2009932,72.53182613,61.6324927,114.1553867,47.67864896,555.0037603,21.18370931,8.004912021,115.7573686,48.99341738,17.83377961,3933.290522,63.82801823,394.2356741,832.2592033,97.03508276,52.10889276,3.383552219,41.55827509,428.8796812,1212.970225,8.524087227,0.191047502,13.61891266,11.28502742,2.690518035,0.075468265,182.5297869,35.01724135,45.83389207,334.0261547,53.58388586,80.79577403,1662.592259,38.38594252,16.36342977,283.5814007,53.05773463,45.02706448,320.356659,287.1136064,507.595712,5688.756005],\"type\":\"choropleth\"}],\"name\":\"2010\"},{\"data\":[{\"coloraxis\":\"coloraxis\",\"geo\":\"geo\",\"hovertemplate\":\"<b>%{hovertext}</b><br><br>year=2011<br>country=%{location}<br>value in Megatons=%{z}<extra></extra>\",\"hovertext\":[\"Australia\",\"Austria\",\"Belarus\",\"Belgium\",\"Bulgaria\",\"Canada\",\"Croatia\",\"Cyprus\",\"Czech Republic\",\"Denmark\",\"Estonia\",\"European Union\",\"Finland\",\"France\",\"Germany\",\"Greece\",\"Hungary\",\"Iceland\",\"Ireland\",\"Italy\",\"Japan\",\"Latvia\",\"Liechtenstein\",\"Lithuania\",\"Luxembourg\",\"Malta\",\"Monaco\",\"Netherlands\",\"New Zealand\",\"Norway\",\"Poland\",\"Portugal\",\"Romania\",\"Russian Federation\",\"Slovakia\",\"Slovenia\",\"Spain\",\"Sweden\",\"Switzerland\",\"Turkey\",\"Ukraine\",\"United Kingdom\",\"United States of America\"],\"locationmode\":\"country names\",\"locations\":[\"Australia\",\"Austria\",\"Belarus\",\"Belgium\",\"Bulgaria\",\"Canada\",\"Croatia\",\"Cyprus\",\"Czech Republic\",\"Denmark\",\"Estonia\",\"European Union\",\"Finland\",\"France\",\"Germany\",\"Greece\",\"Hungary\",\"Iceland\",\"Ireland\",\"Italy\",\"Japan\",\"Latvia\",\"Liechtenstein\",\"Lithuania\",\"Luxembourg\",\"Malta\",\"Monaco\",\"Netherlands\",\"New Zealand\",\"Norway\",\"Poland\",\"Portugal\",\"Romania\",\"Russian Federation\",\"Slovakia\",\"Slovenia\",\"Spain\",\"Sweden\",\"Switzerland\",\"Turkey\",\"Ukraine\",\"United Kingdom\",\"United States of America\"],\"name\":\"\",\"z\":[403.7055283,70.32716704,61.12840059,104.9457138,53.02098112,558.1527229,20.61444047,7.696667805,114.1131467,43.97078926,18.44993086,3789.763641,56.47874559,368.1834384,812.4832196,94.10294398,50.2728651,3.29856769,37.89519543,416.4995342,1261.862938,7.80765941,0.17708804,13.9190155,11.16851167,2.785896568,0.071881895,169.7921365,34.36658268,44.94686935,333.7136507,52.15065344,86.16363433,1717.221951,37.88085315,16.34823911,283.9186792,49.13358694,40.97314917,338.0944082,301.2735022,464.8857489,5559.507664],\"type\":\"choropleth\"}],\"name\":\"2011\"},{\"data\":[{\"coloraxis\":\"coloraxis\",\"geo\":\"geo\",\"hovertemplate\":\"<b>%{hovertext}</b><br><br>year=2012<br>country=%{location}<br>value in Megatons=%{z}<extra></extra>\",\"hovertext\":[\"Australia\",\"Austria\",\"Belarus\",\"Belgium\",\"Bulgaria\",\"Canada\",\"Croatia\",\"Cyprus\",\"Czech Republic\",\"Denmark\",\"Estonia\",\"European Union\",\"Finland\",\"France\",\"Germany\",\"Greece\",\"Hungary\",\"Iceland\",\"Ireland\",\"Italy\",\"Japan\",\"Latvia\",\"Liechtenstein\",\"Lithuania\",\"Luxembourg\",\"Malta\",\"Monaco\",\"Netherlands\",\"New Zealand\",\"Norway\",\"Poland\",\"Portugal\",\"Romania\",\"Russian Federation\",\"Slovakia\",\"Slovenia\",\"Spain\",\"Sweden\",\"Switzerland\",\"Turkey\",\"Ukraine\",\"United Kingdom\",\"United States of America\"],\"locationmode\":\"country names\",\"locations\":[\"Australia\",\"Austria\",\"Belarus\",\"Belgium\",\"Bulgaria\",\"Canada\",\"Croatia\",\"Cyprus\",\"Czech Republic\",\"Denmark\",\"Estonia\",\"European Union\",\"Finland\",\"France\",\"Germany\",\"Greece\",\"Hungary\",\"Iceland\",\"Ireland\",\"Italy\",\"Japan\",\"Latvia\",\"Liechtenstein\",\"Lithuania\",\"Luxembourg\",\"Malta\",\"Monaco\",\"Netherlands\",\"New Zealand\",\"Norway\",\"Poland\",\"Portugal\",\"Romania\",\"Russian Federation\",\"Slovakia\",\"Slovenia\",\"Spain\",\"Sweden\",\"Switzerland\",\"Turkey\",\"Ukraine\",\"United Kingdom\",\"United States of America\"],\"name\":\"\",\"z\":[406.4628477,67.69865863,60.63685139,100.9315956,48.11755608,563.4236132,18.77638135,7.160971876,109.8413289,39.52440203,17.30463723,3728.965031,50.98327288,370.4911537,817.0314402,90.71057425,46.77494485,3.290576431,38.03161872,389.3407634,1296.186358,7.521122528,0.185632431,13.97552321,10.87206448,2.868638128,0.075165569,165.6650238,35.62102602,44.55396566,326.5977905,50.26242244,84.66123054,1727.489104,35.86789627,15.80018724,279.8303083,46.55964002,42.24155361,363.1260072,295.7060643,484.3880904,5349.220947],\"type\":\"choropleth\"}],\"name\":\"2012\"},{\"data\":[{\"coloraxis\":\"coloraxis\",\"geo\":\"geo\",\"hovertemplate\":\"<b>%{hovertext}</b><br><br>year=2013<br>country=%{location}<br>value in Megatons=%{z}<extra></extra>\",\"hovertext\":[\"Australia\",\"Austria\",\"Belarus\",\"Belgium\",\"Bulgaria\",\"Canada\",\"Croatia\",\"Cyprus\",\"Czech Republic\",\"Denmark\",\"Estonia\",\"European Union\",\"Finland\",\"France\",\"Germany\",\"Greece\",\"Hungary\",\"Iceland\",\"Ireland\",\"Italy\",\"Japan\",\"Latvia\",\"Liechtenstein\",\"Lithuania\",\"Luxembourg\",\"Malta\",\"Monaco\",\"Netherlands\",\"New Zealand\",\"Norway\",\"Poland\",\"Portugal\",\"Romania\",\"Russian Federation\",\"Slovakia\",\"Slovenia\",\"Spain\",\"Sweden\",\"Switzerland\",\"Turkey\",\"Ukraine\",\"United Kingdom\",\"United States of America\"],\"locationmode\":\"country names\",\"locations\":[\"Australia\",\"Austria\",\"Belarus\",\"Belgium\",\"Bulgaria\",\"Canada\",\"Croatia\",\"Cyprus\",\"Czech Republic\",\"Denmark\",\"Estonia\",\"European Union\",\"Finland\",\"France\",\"Germany\",\"Greece\",\"Hungary\",\"Iceland\",\"Ireland\",\"Italy\",\"Japan\",\"Latvia\",\"Liechtenstein\",\"Lithuania\",\"Luxembourg\",\"Malta\",\"Monaco\",\"Netherlands\",\"New Zealand\",\"Norway\",\"Poland\",\"Portugal\",\"Romania\",\"Russian Federation\",\"Slovakia\",\"Slovenia\",\"Spain\",\"Sweden\",\"Switzerland\",\"Turkey\",\"Ukraine\",\"United Kingdom\",\"United States of America\"],\"name\":\"\",\"z\":[396.9139365,67.95712111,61.51098715,101.7447367,42.5349272,573.0940388,18.35949984,6.449610812,106.4770887,41.53703581,19.56636837,3646.389525,51.83469674,369.9855945,835.7926323,82.91062596,43.93087818,3.301796314,37.04942383,362.0636493,1311.509149,7.353220444,0.192864416,12.98781753,10.30303961,2.476074429,0.07443092,165.4758844,35.09428674,44.30905597,322.4404865,48.49555048,74.08335824,1666.644423,35.39515486,15.14872538,252.2596905,44.89915194,43.18165944,354.9610423,287.4364044,475.8320506,5502.550714],\"type\":\"choropleth\"}],\"name\":\"2013\"},{\"data\":[{\"coloraxis\":\"coloraxis\",\"geo\":\"geo\",\"hovertemplate\":\"<b>%{hovertext}</b><br><br>year=2014<br>country=%{location}<br>value in Megatons=%{z}<extra></extra>\",\"hovertext\":[\"Australia\",\"Austria\",\"Belarus\",\"Belgium\",\"Bulgaria\",\"Canada\",\"Croatia\",\"Cyprus\",\"Czech Republic\",\"Denmark\",\"Estonia\",\"European Union\",\"Finland\",\"France\",\"Germany\",\"Greece\",\"Hungary\",\"Iceland\",\"Ireland\",\"Italy\",\"Japan\",\"Latvia\",\"Liechtenstein\",\"Lithuania\",\"Luxembourg\",\"Malta\",\"Netherlands\",\"New Zealand\",\"Norway\",\"Poland\",\"Portugal\",\"Romania\",\"Russian Federation\",\"Slovakia\",\"Slovenia\",\"Spain\",\"Sweden\",\"Switzerland\",\"Turkey\",\"Ukraine\",\"United Kingdom\",\"United States of America\"],\"locationmode\":\"country names\",\"locations\":[\"Australia\",\"Austria\",\"Belarus\",\"Belgium\",\"Bulgaria\",\"Canada\",\"Croatia\",\"Cyprus\",\"Czech Republic\",\"Denmark\",\"Estonia\",\"European Union\",\"Finland\",\"France\",\"Germany\",\"Greece\",\"Hungary\",\"Iceland\",\"Ireland\",\"Italy\",\"Japan\",\"Latvia\",\"Liechtenstein\",\"Lithuania\",\"Luxembourg\",\"Malta\",\"Netherlands\",\"New Zealand\",\"Norway\",\"Poland\",\"Portugal\",\"Romania\",\"Russian Federation\",\"Slovakia\",\"Slovenia\",\"Spain\",\"Sweden\",\"Switzerland\",\"Turkey\",\"Ukraine\",\"United Kingdom\",\"United States of America\"],\"name\":\"\",\"z\":[393.126947,64.26256399,60.61564573,96.32541318,45.13995529,574.0997755,17.60732241,6.878555309,101.1591222,37.46065646,18.91871534,3463.397564,47.59773353,341.1525315,792.902788,79.6282744,43.57340884,3.272208233,36.55906858,342.8266771,1265.490609,7.158718037,0.161541817,12.73279886,9.826253278,2.483536786,157.7895817,35.61698531,43.86945109,310.3072974,48.35369033,74.04646763,1671.568652,33.38742872,13.48998004,253.466918,43.40490317,39.26505259,382.2134017,247.561221,434.7945569,5556.006578],\"type\":\"choropleth\"}],\"name\":\"2014\"}]);\n",
       "                        }).then(function(){\n",
       "                            \n",
       "var gd = document.getElementById('58a3f96f-7d89-42a4-9620-cc109a825ec5');\n",
       "var x = new MutationObserver(function (mutations, observer) {{\n",
       "        var display = window.getComputedStyle(gd).display;\n",
       "        if (!display || display === 'none') {{\n",
       "            console.log([gd, 'removed!']);\n",
       "            Plotly.purge(gd);\n",
       "            observer.disconnect();\n",
       "        }}\n",
       "}});\n",
       "\n",
       "// Listen for the removal of the full notebook cells\n",
       "var notebookContainer = gd.closest('#notebook-container');\n",
       "if (notebookContainer) {{\n",
       "    x.observe(notebookContainer, {childList: true});\n",
       "}}\n",
       "\n",
       "// Listen for the clearing of the current output cell\n",
       "var outputEl = gd.closest('.output');\n",
       "if (outputEl) {{\n",
       "    x.observe(outputEl, {childList: true});\n",
       "}}\n",
       "\n",
       "                        })                };                });            </script>        </div>"
      ]
     },
     "metadata": {},
     "output_type": "display_data"
    }
   ],
   "source": [
    "df_countrydate=df_countries.groupby(['year','country']).sum().reset_index()\n",
    "\n",
    "fig=px.choropleth(df_countrydate,locations=\"country\",locationmode=\"country names\",color=\"value in Megatons\",hover_name=\"country\",animation_frame=\"year\")\n",
    "\n",
    "fig.update_layout(title_text='CO2 emmissions change over the years',geo=dict(showframe=False,showcoastlines=False))\n",
    "\n",
    "fig.show()"
   ]
  },
  {
   "cell_type": "code",
   "execution_count": null,
   "id": "1d720903",
   "metadata": {},
   "outputs": [],
   "source": []
  }
 ],
 "metadata": {
  "kernelspec": {
   "display_name": "Python 3 (ipykernel)",
   "language": "python",
   "name": "python3"
  },
  "language_info": {
   "codemirror_mode": {
    "name": "ipython",
    "version": 3
   },
   "file_extension": ".py",
   "mimetype": "text/x-python",
   "name": "python",
   "nbconvert_exporter": "python",
   "pygments_lexer": "ipython3",
   "version": "3.9.12"
  }
 },
 "nbformat": 4,
 "nbformat_minor": 5
}
