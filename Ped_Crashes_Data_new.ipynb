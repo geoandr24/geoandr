{
 "cells": [
  {
   "cell_type": "code",
   "execution_count": 1,
   "id": "91b6cde8",
   "metadata": {},
   "outputs": [
    {
     "name": "stdout",
     "output_type": "stream",
     "text": [
      "      Crash Year Crash Month  Crash Day            Time of Day Day of Week  \\\n",
      "0           2018    February          1     9:00 AM - 10:00 AM    Thursday   \n",
      "1           2018    February          1      7:00 PM - 8:00 PM    Thursday   \n",
      "2           2018    February          1  11:00 AM - 12:00 noon    Thursday   \n",
      "3           2018    February          1      6:00 PM - 7:00 PM    Thursday   \n",
      "4           2018       March          1      2:00 PM - 3:00 PM    Thursday   \n",
      "...          ...         ...        ...                    ...         ...   \n",
      "6804        2010        July         31      2:00 AM - 3:00 AM    Saturday   \n",
      "6805        2010      August         31      2:00 PM - 3:00 PM     Tuesday   \n",
      "6806        2010     October         31      8:00 PM - 9:00 PM      Sunday   \n",
      "6807        2010    December         31      1:00 PM - 2:00 PM      Friday   \n",
      "6808        2010    December         31    10:00 PM - 11:00 PM      Friday   \n",
      "\n",
      "            City or Township     Crash: Intersection Crash: Hit-and-Run  \\\n",
      "0      Wayne County: Detroit  Not intersection crash        Hit-and-run   \n",
      "1      Wayne County: Detroit  Not intersection crash        Hit-and-run   \n",
      "2      Wayne County: Detroit      Intersection crash        Hit-and-run   \n",
      "3      Wayne County: Detroit      Intersection crash        Hit-and-run   \n",
      "4      Wayne County: Detroit  Not intersection crash        Hit-and-run   \n",
      "...                      ...                     ...                ...   \n",
      "6804   Wayne County: Detroit      Intersection crash        Hit-and-run   \n",
      "6805   Wayne County: Livonia      Intersection crash    Not hit-and-run   \n",
      "6806   Wayne County: Detroit  Not intersection crash        Hit-and-run   \n",
      "6807     Wayne County: Wayne      Intersection crash        Hit-and-run   \n",
      "6808  Wayne County: Dearborn  Not intersection crash    Not hit-and-run   \n",
      "\n",
      "     Lighting Conditions Weather Conditions (2016+) Speed Limit at Crash Site  \\\n",
      "0               Daylight                      Clear                        35   \n",
      "1           Dark lighted                      Clear                        30   \n",
      "2               Daylight                     Cloudy                        30   \n",
      "3           Dark lighted                      Clear                        30   \n",
      "4               Daylight                       Snow                        25   \n",
      "...                  ...                        ...                       ...   \n",
      "6804      Dark unlighted           Uncoded & errors                        25   \n",
      "6805            Daylight           Uncoded & errors                        40   \n",
      "6806            Daylight           Uncoded & errors                        15   \n",
      "6807            Daylight           Uncoded & errors                        35   \n",
      "6808        Dark lighted           Uncoded & errors                        35   \n",
      "\n",
      "             Worst Injury in Crash            Party Type   Person Age  \\\n",
      "0       Suspected minor injury (B)  Motor vehicle driver  DOB invalid   \n",
      "1     Suspected serious injury (A)  Motor vehicle driver           44   \n",
      "2              Possible injury (C)  Motor vehicle driver  DOB invalid   \n",
      "3       Suspected minor injury (B)  Motor vehicle driver  DOB invalid   \n",
      "4                    No injury (O)  Motor vehicle driver  DOB invalid   \n",
      "...                            ...                   ...          ...   \n",
      "6804              Fatal injury (K)  Motor vehicle driver  DOB invalid   \n",
      "6805    Suspected minor injury (B)  Motor vehicle driver           22   \n",
      "6806           Possible injury (C)  Motor vehicle driver  DOB invalid   \n",
      "6807           Possible injury (C)  Motor vehicle driver  DOB invalid   \n",
      "6808           Possible injury (C)  Motor vehicle driver           55   \n",
      "\n",
      "         Person Gender  \n",
      "0     Uncoded & errors  \n",
      "1               Female  \n",
      "2     Uncoded & errors  \n",
      "3     Uncoded & errors  \n",
      "4     Uncoded & errors  \n",
      "...                ...  \n",
      "6804  Uncoded & errors  \n",
      "6805            Female  \n",
      "6806  Uncoded & errors  \n",
      "6807              Male  \n",
      "6808              Male  \n",
      "\n",
      "[6809 rows x 15 columns]\n"
     ]
    }
   ],
   "source": [
    "import pandas as pd\n",
    "df=pd.read_csv('ped_crashes.csv')\n",
    "print(df)"
   ]
  },
  {
   "cell_type": "code",
   "execution_count": 2,
   "id": "5807a1ad",
   "metadata": {},
   "outputs": [
    {
     "name": "stdout",
     "output_type": "stream",
     "text": [
      "2018    822\n",
      "2015    801\n",
      "2011    797\n",
      "2013    788\n",
      "2014    765\n",
      "2010    755\n",
      "2017    723\n",
      "2012    707\n",
      "2016    651\n",
      "Name: Crash Year, dtype: int64\n"
     ]
    }
   ],
   "source": [
    "new_df=df['Crash Year'].value_counts()\n",
    "print(new_df)"
   ]
  },
  {
   "cell_type": "code",
   "execution_count": 3,
   "id": "535d429c",
   "metadata": {},
   "outputs": [
    {
     "name": "stdout",
     "output_type": "stream",
     "text": [
      "[2010, 2011, 2012, 2013, 2014, 2015, 2016, 2017, 2018] [755, 797, 707, 788, 765, 801, 651, 723, 822]\n"
     ]
    },
    {
     "data": {
      "image/png": "[encoded data removed]",
      "text/plain": [
       "<Figure size 648x432 with 1 Axes>"
      ]
     },
     "metadata": {
      "needs_background": "light"
     },
     "output_type": "display_data"
    },
    {
     "data": {
      "image/png": "[encoded data removed]",
      "text/plain": [
       "<Figure size 1080x576 with 1 Axes>"
      ]
     },
     "metadata": {
      "needs_background": "light"
     },
     "output_type": "display_data"
    }
   ],
   "source": [
    "list=[[2010,755],[2011,797],[2012,707],[2013,788],[2014,765],[2015,801],[2016,651],[2017,723],[2018,822]] \n",
    "list1=[i[0] for i in list]\n",
    "list2=[i[1] for i in list]\n",
    "print(list1,list2)\n",
    "from matplotlib import pyplot as plt\n",
    "#1st subplot\n",
    "plt.figure(figsize=(9,6))\n",
    "plt.subplot(1,2,1)\n",
    "plt.plot(list1,list2,marker='o')\n",
    "plt.title('Number of Crashes from 2016 till 2018')\n",
    "plt.axis([2016,2018,651,822])\n",
    "plt.figure(figsize=(15,8))\n",
    "#2nd subplot\n",
    "plt.subplot(1,2,2)\n",
    "plt.plot(list1,list2,color='green',marker='o')\n",
    "plt.title('Number of Crashes')\n",
    "plt.show()"
   ]
  },
  {
   "cell_type": "code",
   "execution_count": 4,
   "id": "5ada653e",
   "metadata": {},
   "outputs": [
    {
     "name": "stdout",
     "output_type": "stream",
     "text": [
      "        Month  Crashes\n",
      "6     January      559\n",
      "10   February      482\n",
      "7       March      542\n",
      "11      April      446\n",
      "5         May      580\n",
      "4        June      586\n",
      "8        July      531\n",
      "9      August      512\n",
      "1   September      647\n",
      "0     October      695\n",
      "2    November      625\n",
      "3    December      604\n"
     ]
    }
   ],
   "source": [
    "Crashes_per_month=df['Crash Month'].value_counts().rename_axis('Month').reset_index(name='Crashes')\n",
    "month_dict={'January':1,'February':2,'March':3,'April':4,'May':5,'June':6,'July':7,'August':8,'September':9,'October':10,'November':11,'December':12}\n",
    "new_Crashes_per_month=Crashes_per_month.sort_values('Month', key=lambda x: x.apply(lambda x: month_dict[x]))\n",
    "print(new_Crashes_per_month)"
   ]
  },
  {
   "cell_type": "code",
   "execution_count": 5,
   "id": "b9a4bf27",
   "metadata": {},
   "outputs": [
    {
     "data": {
      "text/plain": [
       "Text(0.5, 1.0, 'Crashes per month')"
      ]
     },
     "execution_count": 5,
     "metadata": {},
     "output_type": "execute_result"
    },
    {
     "data": {
      "image/png": "[encoded data removed]",
      "text/plain": [
       "<Figure size 432x288 with 1 Axes>"
      ]
     },
     "metadata": {
      "needs_background": "light"
     },
     "output_type": "display_data"
    }
   ],
   "source": [
    "new_Crashes_per_month.plot.bar(x='Month',y='Crashes')\n",
    "plt.title('Crashes per month')"
   ]
  },
  {
   "cell_type": "code",
   "execution_count": 6,
   "id": "4203d5ef",
   "metadata": {},
   "outputs": [
    {
     "name": "stdout",
     "output_type": "stream",
     "text": [
      "              Time of the day  Crashes\n",
      "0           6:00 PM - 7:00 PM      535\n",
      "1           7:00 PM - 8:00 PM      498\n",
      "2           5:00 PM - 6:00 PM      491\n",
      "3           3:00 PM - 4:00 PM      461\n",
      "4           4:00 PM - 5:00 PM      452\n",
      "5           8:00 PM - 9:00 PM      439\n",
      "6          9:00 PM - 10:00 PM      353\n",
      "7           2:00 PM - 3:00 PM      342\n",
      "8         10:00 PM - 11:00 PM      336\n",
      "9           7:00 AM - 8:00 AM      314\n",
      "10  11:00 PM - 12:00 midnight      289\n",
      "11       12:00 noon - 1:00 PM      273\n",
      "12          1:00 PM - 2:00 PM      270\n",
      "13          8:00 AM - 9:00 AM      233\n",
      "14      11:00 AM - 12:00 noon      231\n",
      "15        10:00 AM - 11:00 AM      195\n",
      "16          2:00 AM - 3:00 AM      184\n",
      "17   12:00 midnight - 1:00 AM      177\n",
      "18         9:00 AM - 10:00 AM      165\n",
      "19          1:00 AM - 2:00 AM      159\n",
      "20          6:00 AM - 7:00 AM      147\n",
      "21          5:00 AM - 6:00 AM       93\n",
      "22          3:00 AM - 4:00 AM       89\n",
      "23          4:00 AM - 5:00 AM       77\n",
      "<class 'pandas.core.frame.DataFrame'>\n",
      "RangeIndex: 25 entries, 0 to 24\n",
      "Data columns (total 2 columns):\n",
      " #   Column           Non-Null Count  Dtype \n",
      "---  ------           --------------  ----- \n",
      " 0   Time of the day  25 non-null     object\n",
      " 1   Crashes          25 non-null     int64 \n",
      "dtypes: int64(1), object(1)\n",
      "memory usage: 528.0+ bytes\n",
      "None\n"
     ]
    }
   ],
   "source": [
    "crashes_per_time_of_day=df['Time of Day'].value_counts().rename_axis('Time of the day').reset_index(name='Crashes')\n",
    "print(crashes_per_time_of_day[0:24])\n",
    "print(crashes_per_time_of_day.info())\n"
   ]
  },
  {
   "cell_type": "code",
   "execution_count": 8,
   "id": "f667d31a",
   "metadata": {},
   "outputs": [
    {
     "name": "stdout",
     "output_type": "stream",
     "text": [
      "              Time of the day  Crashes AM/PM/Noon\n",
      "0           6:00 PM - 7:00 PM      535         PM\n",
      "1           7:00 PM - 8:00 PM      498         PM\n",
      "2           5:00 PM - 6:00 PM      491         PM\n",
      "3           3:00 PM - 4:00 PM      461         PM\n",
      "4           4:00 PM - 5:00 PM      452         PM\n",
      "5           8:00 PM - 9:00 PM      439         PM\n",
      "6          9:00 PM - 10:00 PM      353         PM\n",
      "7           2:00 PM - 3:00 PM      342         PM\n",
      "8         10:00 PM - 11:00 PM      336         PM\n",
      "9           7:00 AM - 8:00 AM      314         AM\n",
      "10  11:00 PM - 12:00 midnight      289   midnight\n",
      "11       12:00 noon - 1:00 PM      273         PM\n",
      "12          1:00 PM - 2:00 PM      270         PM\n",
      "13          8:00 AM - 9:00 AM      233         AM\n",
      "14      11:00 AM - 12:00 noon      231       noon\n",
      "15        10:00 AM - 11:00 AM      195         AM\n",
      "16          2:00 AM - 3:00 AM      184         AM\n",
      "17   12:00 midnight - 1:00 AM      177         AM\n",
      "18         9:00 AM - 10:00 AM      165         AM\n",
      "19          1:00 AM - 2:00 AM      159         AM\n",
      "20          6:00 AM - 7:00 AM      147         AM\n",
      "21          5:00 AM - 6:00 AM       93         AM\n",
      "22          3:00 AM - 4:00 AM       89         AM\n",
      "23          4:00 AM - 5:00 AM       77         AM\n",
      "24                    Unknown        6    Unknown\n"
     ]
    }
   ],
   "source": [
    "crashes_per_time_of_day['AM/PM/Noon']=crashes_per_time_of_day['Time of the day'].apply(lambda x:x.split()[-1])\n",
    "print(crashes_per_time_of_day)\n"
   ]
  },
  {
   "cell_type": "code",
   "execution_count": 9,
   "id": "910583d0",
   "metadata": {},
   "outputs": [
    {
     "name": "stdout",
     "output_type": "stream",
     "text": [
      "4450 1833 526\n"
     ]
    }
   ],
   "source": [
    "sum=0\n",
    "sum2=0\n",
    "sum3=0\n",
    "j=0\n",
    "for i in crashes_per_time_of_day['AM/PM/Noon']:\n",
    "    if (i=='PM'):\n",
    "        sum+=crashes_per_time_of_day._get_value(j,'Crashes')\n",
    "        j+=1\n",
    "    elif (i=='AM'):\n",
    "        sum2+=crashes_per_time_of_day._get_value(j,'Crashes')\n",
    "        j+=1\n",
    "    else:\n",
    "        sum3+=crashes_per_time_of_day._get_value(j,'Crashes')\n",
    "        j+=1\n",
    "print(sum,sum2,sum3)"
   ]
  },
  {
   "cell_type": "code",
   "execution_count": 124,
   "id": "1faad761",
   "metadata": {},
   "outputs": [
    {
     "data": {
      "text/plain": [
       "Text(0.5, 1.0, 'When most crashes happened during the day?')"
      ]
     },
     "execution_count": 124,
     "metadata": {},
     "output_type": "execute_result"
    },
    {
     "data": {
      "image/png": "[encoded data removed]",
      "text/plain": [
       "<Figure size 432x288 with 1 Axes>"
      ]
     },
     "metadata": {
      "needs_background": "light"
     },
     "output_type": "display_data"
    }
   ],
   "source": [
    "list=[['PM',4450],['AM',1833],['Mid-Moon',526]]\n",
    "AM_PM=[i[0] for i in list]\n",
    "Crashes=[i[1] for i in list]\n",
    "plt.plot(AM_PM,Crashes,marker='o')\n",
    "plt.title('When most crashes happened during the day?')"
   ]
  },
  {
   "cell_type": "code",
   "execution_count": 3,
   "id": "91fb7d3f",
   "metadata": {},
   "outputs": [
    {
     "name": "stdout",
     "output_type": "stream",
     "text": [
      "      Crash_Year Crash_Month\n",
      "0           2018    February\n",
      "1           2018    February\n",
      "2           2018    February\n",
      "3           2018    February\n",
      "4           2018       March\n",
      "...          ...         ...\n",
      "6804        2010        July\n",
      "6805        2010      August\n",
      "6806        2010     October\n",
      "6807        2010    December\n",
      "6808        2010    December\n",
      "\n",
      "[6809 rows x 2 columns]\n"
     ]
    },
    {
     "name": "stderr",
     "output_type": "stream",
     "text": [
      "C:\\Users\\HP\\AppData\\Local\\Temp\\ipykernel_8948\\541489616.py:2: SettingWithCopyWarning: \n",
      "A value is trying to be set on a copy of a slice from a DataFrame\n",
      "\n",
      "See the caveats in the documentation: https://pandas.pydata.org/pandas-docs/stable/user_guide/indexing.html#returning-a-view-versus-a-copy\n",
      "  temp_df.rename(columns={'Crash Year':'Crash_Year','Crash Month':'Crash_Month'},inplace=True)\n"
     ]
    }
   ],
   "source": [
    "temp_df=df[['Crash Year','Crash Month']]\n",
    "temp_df.rename(columns={'Crash Year':'Crash_Year','Crash Month':'Crash_Month'},inplace=True)\n",
    "print(temp_df)"
   ]
  },
  {
   "cell_type": "code",
   "execution_count": 28,
   "id": "507ee323",
   "metadata": {},
   "outputs": [
    {
     "name": "stdout",
     "output_type": "stream",
     "text": [
      "      Crash_Year Crash_Month\n",
      "822         2017     January\n",
      "823         2017     January\n",
      "824         2017     January\n",
      "825         2017     January\n",
      "826         2017    February\n",
      "...          ...         ...\n",
      "1540        2017     October\n",
      "1541        2017     October\n",
      "1542        2017     October\n",
      "1543        2017     October\n",
      "1544        2017    December\n",
      "\n",
      "[723 rows x 2 columns]\n"
     ]
    }
   ],
   "source": [
    "df_2017=temp_df[temp_df.Crash_Year==2017]\n",
    "print(df_2017)\n",
    "Jan=sum(i==\"January\" for i in df_2017.Crash_Month)\n",
    "Feb=sum(i==\"February\" for i in df_2017.Crash_Month)\n",
    "March=sum(i==\"March\" for i in df_2017.Crash_Month)\n",
    "April=sum(i==\"April\" for i in df_2017.Crash_Month)\n",
    "May=sum(i==\"May\" for i in df_2017.Crash_Month)\n",
    "June=sum(i==\"June\" for i in df_2017.Crash_Month)\n",
    "July=sum(i==\"July\" for i in df_2017.Crash_Month)\n",
    "August=sum(i==\"August\" for i in df_2017.Crash_Month)\n",
    "September=sum(i==\"September\" for i in df_2017.Crash_Month)\n",
    "October=sum(i==\"October\" for i in df_2017.Crash_Month)\n",
    "November=sum(i==\"November\" for i in df_2017.Crash_Month)\n",
    "December=sum(i==\"December\" for i in df_2017.Crash_Month)\n"
   ]
  },
  {
   "cell_type": "code",
   "execution_count": 29,
   "id": "e811c85b",
   "metadata": {},
   "outputs": [
    {
     "name": "stdout",
     "output_type": "stream",
     "text": [
      "[['Jan', 57], ['Feb', 41], ['March', 54], ['April', 55], ['May', 62], ['June', 67], ['July', 68], ['August', 57], ['September', 64], ['October', 72], ['November', 64], ['December', 62]]\n",
      "        Month  Crashes\n",
      "0         Jan       57\n",
      "1         Feb       41\n",
      "2       March       54\n",
      "3       April       55\n",
      "4         May       62\n",
      "5        June       67\n",
      "6        July       68\n",
      "7      August       57\n",
      "8   September       64\n",
      "9     October       72\n",
      "10   November       64\n",
      "11   December       62\n"
     ]
    },
    {
     "data": {
      "text/plain": [
       "<AxesSubplot:xlabel='Month'>"
      ]
     },
     "execution_count": 29,
     "metadata": {},
     "output_type": "execute_result"
    },
    {
     "data": {
      "image/png": "[encoded data removed]",
      "text/plain": [
       "<Figure size 432x288 with 1 Axes>"
      ]
     },
     "metadata": {
      "needs_background": "light"
     },
     "output_type": "display_data"
    }
   ],
   "source": [
    "crashes_in_2017_monthly=[['Jan',Jan],['Feb',Feb],['March',March],['April',April],['May',May],['June',June],['July',July],['August',August],['September',September],['October',October],['November',November],['December',December]]\n",
    "print(crashes_in_2017_monthly)\n",
    "crashes_in_2017_monthly_df=pd.DataFrame(crashes_in_2017_monthly)\n",
    "cols=['Month','Crashes']\n",
    "crashes_in_2017_monthly_df.columns=cols\n",
    "print(crashes_in_2017_monthly_df)\n",
    "crashes_in_2017_monthly_df.plot.bar(x='Month',y='Crashes',color='brown')\n"
   ]
  },
  {
   "cell_type": "code",
   "execution_count": 30,
   "id": "0ee65d50",
   "metadata": {},
   "outputs": [
    {
     "name": "stdout",
     "output_type": "stream",
     "text": [
      "     Crash_Year Crash_Month\n",
      "0          2018    February\n",
      "1          2018    February\n",
      "2          2018    February\n",
      "3          2018    February\n",
      "4          2018       March\n",
      "..          ...         ...\n",
      "817        2018     October\n",
      "818        2018     October\n",
      "819        2018     October\n",
      "820        2018    December\n",
      "821        2018    December\n",
      "\n",
      "[822 rows x 2 columns]\n"
     ]
    }
   ],
   "source": [
    "df_2018=temp_df[temp_df.Crash_Year==2018]\n",
    "print(df_2018)\n",
    "Jan=sum(i==\"January\" for i in df_2018.Crash_Month)\n",
    "Feb=sum(i==\"February\" for i in df_2018.Crash_Month)\n",
    "March=sum(i==\"March\" for i in df_2018.Crash_Month)\n",
    "April=sum(i==\"April\" for i in df_2018.Crash_Month)\n",
    "May=sum(i==\"May\" for i in df_2018.Crash_Month)\n",
    "June=sum(i==\"June\" for i in df_2018.Crash_Month)\n",
    "July=sum(i==\"July\" for i in df_2018.Crash_Month)\n",
    "August=sum(i==\"August\" for i in df_2018.Crash_Month)\n",
    "September=sum(i==\"September\" for i in df_2018.Crash_Month)\n",
    "October=sum(i==\"October\" for i in df_2018.Crash_Month)\n",
    "November=sum(i==\"November\" for i in df_2018.Crash_Month)\n",
    "December=sum(i==\"December\" for i in df_2018.Crash_Month)"
   ]
  },
  {
   "cell_type": "code",
   "execution_count": 31,
   "id": "3e92a070",
   "metadata": {},
   "outputs": [
    {
     "name": "stdout",
     "output_type": "stream",
     "text": [
      "[['Jan', 66], ['Feb', 74], ['March', 52], ['April', 48], ['May', 61], ['June', 72], ['July', 58], ['Aug', 55], ['Sep', 87], ['Oct', 83], ['Nov', 83], ['Dec', 83]]\n",
      "    Month  Crashes\n",
      "0     Jan       66\n",
      "1     Feb       74\n",
      "2   March       52\n",
      "3   April       48\n",
      "4     May       61\n",
      "5    June       72\n",
      "6    July       58\n",
      "7     Aug       55\n",
      "8     Sep       87\n",
      "9     Oct       83\n",
      "10    Nov       83\n",
      "11    Dec       83\n"
     ]
    },
    {
     "data": {
      "text/plain": [
       "<AxesSubplot:xlabel='Month'>"
      ]
     },
     "execution_count": 31,
     "metadata": {},
     "output_type": "execute_result"
    },
    {
     "data": {
      "image/png": "[encoded data removed]",
      "text/plain": [
       "<Figure size 432x288 with 1 Axes>"
      ]
     },
     "metadata": {
      "needs_background": "light"
     },
     "output_type": "display_data"
    }
   ],
   "source": [
    "crashes_in_2018_monthly=[['Jan',Jan],['Feb',Feb],['March',March],['April',April],['May',May],['June',June],['July',July],['Aug',August],['Sep',September],['Oct',October],['Nov',November],['Dec',December]]\n",
    "print(crashes_in_2018_monthly)\n",
    "crashes_in_2018_monthly_df=pd.DataFrame(crashes_in_2018_monthly)\n",
    "cols=['Month','Crashes']\n",
    "crashes_in_2018_monthly_df.columns=cols\n",
    "print(crashes_in_2018_monthly_df)\n",
    "crashes_in_2018_monthly_df.plot.bar(x='Month',y='Crashes',color='purple')\n"
   ]
  },
  {
   "cell_type": "code",
   "execution_count": 32,
   "id": "7ddf2f56",
   "metadata": {},
   "outputs": [
    {
     "name": "stdout",
     "output_type": "stream",
     "text": [
      "['Jan', 'Feb', 'March', 'April', 'May', 'June', 'July', 'Aug', 'Sep', 'Oct', 'Nov', 'Dec']\n",
      "[66, 74, 52, 48, 61, 72, 58, 55, 87, 83, 83, 83]\n",
      "[57, 41, 54, 55, 62, 67, 68, 57, 64, 72, 64, 62]\n"
     ]
    }
   ],
   "source": [
    "list_months=[i[0] for i in crashes_in_2018_monthly]\n",
    "values_2018=[i[1] for i in crashes_in_2018_monthly]\n",
    "values_2017=[i[1] for i in crashes_in_2017_monthly]\n",
    "print(list_months)\n",
    "print(values_2018)\n",
    "print(values_2017)"
   ]
  },
  {
   "cell_type": "code",
   "execution_count": 33,
   "id": "c799b646",
   "metadata": {},
   "outputs": [
    {
     "data": {
      "image/png": "[encoded data removed]",
      "text/plain": [
       "<Figure size 720x720 with 1 Axes>"
      ]
     },
     "metadata": {
      "needs_background": "light"
     },
     "output_type": "display_data"
    }
   ],
   "source": [
    "from matplotlib import pyplot as plt\n",
    "\n",
    "list_months=[i[0] for i in crashes_in_2018_monthly]\n",
    "values_2018=[i[1] for i in crashes_in_2018_monthly]\n",
    "values_2017=[i[1] for i in crashes_in_2017_monthly]\n",
    "plt.figure(figsize=(10,10))\n",
    "\n",
    "ax=plt.subplot()\n",
    "xticks=[(x1+x2)/2 for x1,x2 in zip(store1_x,store2_x)]\n",
    "plt.xticks(xticks,list_months)\n",
    "\n",
    "n=1\n",
    "t=2\n",
    "d=12\n",
    "w=0.8\n",
    "store1_x=[t*element +w*n for element in range(d)]\n",
    "plt.bar(store1_x,values_2017)\n",
    "\n",
    "n=2\n",
    "t=2\n",
    "d=12\n",
    "w=0.8\n",
    "store2_x=[t*element+w*n for element in range(d)]\n",
    "plt.bar(store2_x,values_2018)\n",
    "plt.show()"
   ]
  },
  {
   "cell_type": "code",
   "execution_count": null,
   "id": "0ed3ca13",
   "metadata": {},
   "outputs": [],
   "source": []
  }
 ],
 "metadata": {
  "kernelspec": {
   "display_name": "Python 3 (ipykernel)",
   "language": "python",
   "name": "python3"
  },
  "language_info": {
   "codemirror_mode": {
    "name": "ipython",
    "version": 3
   },
   "file_extension": ".py",
   "mimetype": "text/x-python",
   "name": "python",
   "nbconvert_exporter": "python",
   "pygments_lexer": "ipython3",
   "version": "3.9.12"
  }
 },
 "nbformat": 4,
 "nbformat_minor": 5
}
