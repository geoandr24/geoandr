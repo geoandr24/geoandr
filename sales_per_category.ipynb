{
 "cells": [
  {
   "cell_type": "code",
   "execution_count": 1,
   "id": "9374ebc3",
   "metadata": {},
   "outputs": [
    {
     "data": {
      "text/plain": [
       "'C:\\\\Users\\\\HP'"
      ]
     },
     "execution_count": 1,
     "metadata": {},
     "output_type": "execute_result"
    }
   ],
   "source": [
    "pwd()"
   ]
  },
  {
   "cell_type": "code",
   "execution_count": 4,
   "id": "86bfb330",
   "metadata": {},
   "outputs": [],
   "source": [
    "import pandas as pd\n",
    "df=pd.read_csv('SampleSuperstore.csv')"
   ]
  },
  {
   "cell_type": "code",
   "execution_count": 5,
   "id": "7aabc06f",
   "metadata": {},
   "outputs": [
    {
     "name": "stdout",
     "output_type": "stream",
     "text": [
      "           Ship Mode    Segment        Country             City       State  \\\n",
      "0       Second Class   Consumer  United States        Henderson    Kentucky   \n",
      "1       Second Class   Consumer  United States        Henderson    Kentucky   \n",
      "2       Second Class  Corporate  United States      Los Angeles  California   \n",
      "3     Standard Class   Consumer  United States  Fort Lauderdale     Florida   \n",
      "4     Standard Class   Consumer  United States  Fort Lauderdale     Florida   \n",
      "...              ...        ...            ...              ...         ...   \n",
      "9989    Second Class   Consumer  United States            Miami     Florida   \n",
      "9990  Standard Class   Consumer  United States       Costa Mesa  California   \n",
      "9991  Standard Class   Consumer  United States       Costa Mesa  California   \n",
      "9992  Standard Class   Consumer  United States       Costa Mesa  California   \n",
      "9993    Second Class   Consumer  United States      Westminster  California   \n",
      "\n",
      "      Postal Code Region         Category Sub-Category     Sales  Quantity  \\\n",
      "0           42420  South        Furniture    Bookcases  261.9600         2   \n",
      "1           42420  South        Furniture       Chairs  731.9400         3   \n",
      "2           90036   West  Office Supplies       Labels   14.6200         2   \n",
      "3           33311  South        Furniture       Tables  957.5775         5   \n",
      "4           33311  South  Office Supplies      Storage   22.3680         2   \n",
      "...           ...    ...              ...          ...       ...       ...   \n",
      "9989        33180  South        Furniture  Furnishings   25.2480         3   \n",
      "9990        92627   West        Furniture  Furnishings   91.9600         2   \n",
      "9991        92627   West       Technology       Phones  258.5760         2   \n",
      "9992        92627   West  Office Supplies        Paper   29.6000         4   \n",
      "9993        92683   West  Office Supplies   Appliances  243.1600         2   \n",
      "\n",
      "      Discount    Profit  \n",
      "0         0.00   41.9136  \n",
      "1         0.00  219.5820  \n",
      "2         0.00    6.8714  \n",
      "3         0.45 -383.0310  \n",
      "4         0.20    2.5164  \n",
      "...        ...       ...  \n",
      "9989      0.20    4.1028  \n",
      "9990      0.00   15.6332  \n",
      "9991      0.20   19.3932  \n",
      "9992      0.00   13.3200  \n",
      "9993      0.00   72.9480  \n",
      "\n",
      "[9994 rows x 13 columns]\n"
     ]
    }
   ],
   "source": [
    "print(df)"
   ]
  },
  {
   "cell_type": "code",
   "execution_count": 6,
   "id": "b157ab77",
   "metadata": {},
   "outputs": [
    {
     "ename": "TypeError",
     "evalue": "'DataFrame' object is not callable",
     "output_type": "error",
     "traceback": [
      "\u001b[1;31m---------------------------------------------------------------------------\u001b[0m",
      "\u001b[1;31mTypeError\u001b[0m                                 Traceback (most recent call last)",
      "Input \u001b[1;32mIn [6]\u001b[0m, in \u001b[0;36m<cell line: 1>\u001b[1;34m()\u001b[0m\n\u001b[1;32m----> 1\u001b[0m \u001b[38;5;28mprint\u001b[39m(\u001b[43mdf\u001b[49m\u001b[43m(\u001b[49m\u001b[38;5;28;43mtype\u001b[39;49m\u001b[43m)\u001b[49m)\n",
      "\u001b[1;31mTypeError\u001b[0m: 'DataFrame' object is not callable"
     ]
    }
   ],
   "source": [
    "print(df(type))"
   ]
  },
  {
   "cell_type": "code",
   "execution_count": 7,
   "id": "ba6bfb89",
   "metadata": {},
   "outputs": [
    {
     "name": "stdout",
     "output_type": "stream",
     "text": [
      "<class 'pandas.core.frame.DataFrame'>\n"
     ]
    }
   ],
   "source": [
    "print(type(df))"
   ]
  },
  {
   "cell_type": "code",
   "execution_count": 11,
   "id": "38e40701",
   "metadata": {},
   "outputs": [
    {
     "name": "stdout",
     "output_type": "stream",
     "text": [
      "<class 'pandas.core.frame.DataFrame'>\n",
      "RangeIndex: 9994 entries, 0 to 9993\n",
      "Data columns (total 13 columns):\n",
      " #   Column        Non-Null Count  Dtype  \n",
      "---  ------        --------------  -----  \n",
      " 0   Ship Mode     9994 non-null   object \n",
      " 1   Segment       9994 non-null   object \n",
      " 2   Country       9994 non-null   object \n",
      " 3   City          9994 non-null   object \n",
      " 4   State         9994 non-null   object \n",
      " 5   Postal Code   9994 non-null   int64  \n",
      " 6   Region        9994 non-null   object \n",
      " 7   Category      9994 non-null   object \n",
      " 8   Sub-Category  9994 non-null   object \n",
      " 9   Sales         9994 non-null   float64\n",
      " 10  Quantity      9994 non-null   int64  \n",
      " 11  Discount      9994 non-null   float64\n",
      " 12  Profit        9994 non-null   float64\n",
      "dtypes: float64(3), int64(2), object(8)\n",
      "memory usage: 1015.1+ KB\n",
      "None\n"
     ]
    }
   ],
   "source": [
    "print(df.info())"
   ]
  },
  {
   "cell_type": "code",
   "execution_count": 42,
   "id": "202cd583",
   "metadata": {},
   "outputs": [],
   "source": [
    "category_sales=df[['Category','Sales']]"
   ]
  },
  {
   "cell_type": "code",
   "execution_count": 41,
   "id": "59df2b44",
   "metadata": {},
   "outputs": [
    {
     "name": "stdout",
     "output_type": "stream",
     "text": [
      "             Category     Sales\n",
      "0           Furniture  261.9600\n",
      "1           Furniture  731.9400\n",
      "2     Office Supplies   14.6200\n",
      "3           Furniture  957.5775\n",
      "4     Office Supplies   22.3680\n",
      "...               ...       ...\n",
      "9989        Furniture   25.2480\n",
      "9990        Furniture   91.9600\n",
      "9991       Technology  258.5760\n",
      "9992  Office Supplies   29.6000\n",
      "9993  Office Supplies  243.1600\n",
      "\n",
      "[9994 rows x 2 columns]\n"
     ]
    }
   ],
   "source": [
    "print(category_sales)\n"
   ]
  },
  {
   "cell_type": "code",
   "execution_count": 53,
   "id": "ed096280",
   "metadata": {},
   "outputs": [
    {
     "name": "stdout",
     "output_type": "stream",
     "text": [
      "          Category     Sales  furniture_sales\n",
      "0        Furniture  261.9600         261.9600\n",
      "1        Furniture  731.9400         731.9400\n",
      "2  Office Supplies   14.6200          14.6200\n",
      "3        Furniture  957.5775         957.5775\n",
      "4  Office Supplies   22.3680          22.3680\n",
      "3\n"
     ]
    }
   ],
   "source": [
    "print(category_sales.head())\n",
    "print(category_sales.Category.nunique())"
   ]
  },
  {
   "cell_type": "code",
   "execution_count": 2,
   "id": "db963e1c",
   "metadata": {},
   "outputs": [
    {
     "ename": "NameError",
     "evalue": "name 'category_sales' is not defined",
     "output_type": "error",
     "traceback": [
      "\u001b[1;31m---------------------------------------------------------------------------\u001b[0m",
      "\u001b[1;31mNameError\u001b[0m                                 Traceback (most recent call last)",
      "Input \u001b[1;32mIn [2]\u001b[0m, in \u001b[0;36m<cell line: 1>\u001b[1;34m()\u001b[0m\n\u001b[1;32m----> 1\u001b[0m furniture_sales\u001b[38;5;241m=\u001b[39m\u001b[43mcategory_sales\u001b[49m\u001b[38;5;241m.\u001b[39mloc[category_sales[\u001b[38;5;124m'\u001b[39m\u001b[38;5;124mCategory\u001b[39m\u001b[38;5;124m'\u001b[39m]\u001b[38;5;241m==\u001b[39m\u001b[38;5;124m\"\u001b[39m\u001b[38;5;124mFurniture\u001b[39m\u001b[38;5;124m\"\u001b[39m,\u001b[38;5;124m'\u001b[39m\u001b[38;5;124mSales\u001b[39m\u001b[38;5;124m'\u001b[39m]\u001b[38;5;241m.\u001b[39msum()\n",
      "\u001b[1;31mNameError\u001b[0m: name 'category_sales' is not defined"
     ]
    }
   ],
   "source": [
    "furniture_sales=category_sales.loc[category_sales['Category']==\"Furniture\",'Sales'].sum()"
   ]
  },
  {
   "cell_type": "code",
   "execution_count": 66,
   "id": "cb0a1ed9",
   "metadata": {},
   "outputs": [],
   "source": [
    "office_supplies_sales=category_sales.loc[category_sales['Category']==\"Office Supplies\",'Sales'].sum()"
   ]
  },
  {
   "cell_type": "code",
   "execution_count": 67,
   "id": "50171e04",
   "metadata": {},
   "outputs": [],
   "source": [
    "technology_sales=category_sales.loc[category_sales['Category']==\"Technology\",'Sales'].sum()"
   ]
  },
  {
   "cell_type": "code",
   "execution_count": 68,
   "id": "42e78f89",
   "metadata": {},
   "outputs": [],
   "source": [
    "list1=['Furniture','Office Supplies','Technology']\n",
    "list2=[furniture_sales,office_supplies_sales,technology_sales]"
   ]
  },
  {
   "cell_type": "code",
   "execution_count": 78,
   "id": "43df5457",
   "metadata": {},
   "outputs": [
    {
     "data": {
      "image/png": "[encoded data removed]",
      "text/plain": [
       "<Figure size 432x288 with 1 Axes>"
      ]
     },
     "metadata": {
      "needs_background": "light"
     },
     "output_type": "display_data"
    }
   ],
   "source": [
    "from matplotlib import pyplot as plt\n",
    "plt.subplot(1,1,1)\n",
    "plt.bar(list1,list2,color='green')\n",
    "plt.subplots_adjust(bottom=0.3)"
   ]
  },
  {
   "cell_type": "code",
   "execution_count": 1,
   "id": "545e6b48",
   "metadata": {},
   "outputs": [],
   "source": [
    "months = [\"Jan\", \"Feb\", \"Mar\", \"Apr\", \"May\", \"Jun\", \"Jul\", \"Aug\", \"Sep\", \"Oct\", \"Nov\", \"Dec\"]"
   ]
  },
  {
   "cell_type": "code",
   "execution_count": 3,
   "id": "f5548864",
   "metadata": {},
   "outputs": [],
   "source": [
    "x_values=range(len(months))\n"
   ]
  },
  {
   "cell_type": "code",
   "execution_count": 4,
   "id": "a7ea0921",
   "metadata": {},
   "outputs": [
    {
     "name": "stdout",
     "output_type": "stream",
     "text": [
      "range(0, 12)\n"
     ]
    }
   ],
   "source": [
    "print(x_values)"
   ]
  },
  {
   "cell_type": "code",
   "execution_count": 5,
   "id": "6b2770c1",
   "metadata": {},
   "outputs": [
    {
     "name": "stdout",
     "output_type": "stream",
     "text": [
      "12\n"
     ]
    }
   ],
   "source": [
    "print(len(months))"
   ]
  },
  {
   "cell_type": "code",
   "execution_count": null,
   "id": "2fdea9b7",
   "metadata": {},
   "outputs": [],
   "source": []
  }
 ],
 "metadata": {
  "kernelspec": {
   "display_name": "Python 3 (ipykernel)",
   "language": "python",
   "name": "python3"
  },
  "language_info": {
   "codemirror_mode": {
    "name": "ipython",
    "version": 3
   },
   "file_extension": ".py",
   "mimetype": "text/x-python",
   "name": "python",
   "nbconvert_exporter": "python",
   "pygments_lexer": "ipython3",
   "version": "3.9.12"
  }
 },
 "nbformat": 4,
 "nbformat_minor": 5
}
