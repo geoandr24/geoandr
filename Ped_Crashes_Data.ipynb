{
 "cells": [
  {
   "cell_type": "code",
   "execution_count": 3,
   "id": "91b6cde8",
   "metadata": {},
   "outputs": [
    {
     "name": "stdout",
     "output_type": "stream",
     "text": [
      "      Crash Year Crash Month  Crash Day            Time of Day Day of Week  \\\n",
      "0           2018    February          1     9:00 AM - 10:00 AM    Thursday   \n",
      "1           2018    February          1      7:00 PM - 8:00 PM    Thursday   \n",
      "2           2018    February          1  11:00 AM - 12:00 noon    Thursday   \n",
      "3           2018    February          1      6:00 PM - 7:00 PM    Thursday   \n",
      "4           2018       March          1      2:00 PM - 3:00 PM    Thursday   \n",
      "...          ...         ...        ...                    ...         ...   \n",
      "6804        2010        July         31      2:00 AM - 3:00 AM    Saturday   \n",
      "6805        2010      August         31      2:00 PM - 3:00 PM     Tuesday   \n",
      "6806        2010     October         31      8:00 PM - 9:00 PM      Sunday   \n",
      "6807        2010    December         31      1:00 PM - 2:00 PM      Friday   \n",
      "6808        2010    December         31    10:00 PM - 11:00 PM      Friday   \n",
      "\n",
      "            City or Township     Crash: Intersection Crash: Hit-and-Run  \\\n",
      "0      Wayne County: Detroit  Not intersection crash        Hit-and-run   \n",
      "1      Wayne County: Detroit  Not intersection crash        Hit-and-run   \n",
      "2      Wayne County: Detroit      Intersection crash        Hit-and-run   \n",
      "3      Wayne County: Detroit      Intersection crash        Hit-and-run   \n",
      "4      Wayne County: Detroit  Not intersection crash        Hit-and-run   \n",
      "...                      ...                     ...                ...   \n",
      "6804   Wayne County: Detroit      Intersection crash        Hit-and-run   \n",
      "6805   Wayne County: Livonia      Intersection crash    Not hit-and-run   \n",
      "6806   Wayne County: Detroit  Not intersection crash        Hit-and-run   \n",
      "6807     Wayne County: Wayne      Intersection crash        Hit-and-run   \n",
      "6808  Wayne County: Dearborn  Not intersection crash    Not hit-and-run   \n",
      "\n",
      "     Lighting Conditions Weather Conditions (2016+) Speed Limit at Crash Site  \\\n",
      "0               Daylight                      Clear                        35   \n",
      "1           Dark lighted                      Clear                        30   \n",
      "2               Daylight                     Cloudy                        30   \n",
      "3           Dark lighted                      Clear                        30   \n",
      "4               Daylight                       Snow                        25   \n",
      "...                  ...                        ...                       ...   \n",
      "6804      Dark unlighted           Uncoded & errors                        25   \n",
      "6805            Daylight           Uncoded & errors                        40   \n",
      "6806            Daylight           Uncoded & errors                        15   \n",
      "6807            Daylight           Uncoded & errors                        35   \n",
      "6808        Dark lighted           Uncoded & errors                        35   \n",
      "\n",
      "             Worst Injury in Crash            Party Type   Person Age  \\\n",
      "0       Suspected minor injury (B)  Motor vehicle driver  DOB invalid   \n",
      "1     Suspected serious injury (A)  Motor vehicle driver           44   \n",
      "2              Possible injury (C)  Motor vehicle driver  DOB invalid   \n",
      "3       Suspected minor injury (B)  Motor vehicle driver  DOB invalid   \n",
      "4                    No injury (O)  Motor vehicle driver  DOB invalid   \n",
      "...                            ...                   ...          ...   \n",
      "6804              Fatal injury (K)  Motor vehicle driver  DOB invalid   \n",
      "6805    Suspected minor injury (B)  Motor vehicle driver           22   \n",
      "6806           Possible injury (C)  Motor vehicle driver  DOB invalid   \n",
      "6807           Possible injury (C)  Motor vehicle driver  DOB invalid   \n",
      "6808           Possible injury (C)  Motor vehicle driver           55   \n",
      "\n",
      "         Person Gender  \n",
      "0     Uncoded & errors  \n",
      "1               Female  \n",
      "2     Uncoded & errors  \n",
      "3     Uncoded & errors  \n",
      "4     Uncoded & errors  \n",
      "...                ...  \n",
      "6804  Uncoded & errors  \n",
      "6805            Female  \n",
      "6806  Uncoded & errors  \n",
      "6807              Male  \n",
      "6808              Male  \n",
      "\n",
      "[6809 rows x 15 columns]\n"
     ]
    }
   ],
   "source": [
    "import pandas as pd\n",
    "df=pd.read_csv('ped_crashes.csv')\n",
    "print(df)"
   ]
  },
  {
   "cell_type": "code",
   "execution_count": 5,
   "id": "5807a1ad",
   "metadata": {},
   "outputs": [
    {
     "name": "stdout",
     "output_type": "stream",
     "text": [
      "2018    822\n",
      "2015    801\n",
      "2011    797\n",
      "2013    788\n",
      "2014    765\n",
      "2010    755\n",
      "2017    723\n",
      "2012    707\n",
      "2016    651\n",
      "Name: Crash Year, dtype: int64\n"
     ]
    }
   ],
   "source": [
    "new_df=df['Crash Year'].value_counts()\n",
    "print(new_df)"
   ]
  },
  {
   "cell_type": "code",
   "execution_count": 21,
   "id": "535d429c",
   "metadata": {},
   "outputs": [
    {
     "name": "stdout",
     "output_type": "stream",
     "text": [
      "[2010, 2011, 2012, 2013, 2014, 2015, 2016, 2017, 2018] [755, 797, 707, 788, 765, 801, 651, 723, 822]\n"
     ]
    },
    {
     "data": {
      "image/png": "[encoded data removed]",
      "text/plain": [
       "<Figure size 432x288 with 1 Axes>"
      ]
     },
     "metadata": {
      "needs_background": "light"
     },
     "output_type": "display_data"
    }
   ],
   "source": [
    "list=[[2010,755],[2011,797],[2012,707],[2013,788],[2014,765],[2015,801],[2016,651],[2017,723],[2018,822]] \n",
    "list1=[i[0] for i in list]\n",
    "list2=[i[1] for i in list]\n",
    "print(list1,list2)\n",
    "from matplotlib import pyplot as plt\n",
    "plt.plot(list1,list2)\n",
    "plt.axis([2016,2018,651,822])\n",
    "\n",
    "plt.show()"
   ]
  },
  {
   "cell_type": "code",
   "execution_count": 22,
   "id": "658a02c4",
   "metadata": {},
   "outputs": [
    {
     "data": {
      "text/plain": [
       "<AxesSubplot:xlabel='Year'>"
      ]
     },
     "execution_count": 22,
     "metadata": {},
     "output_type": "execute_result"
    },
    {
     "data": {
      "image/png": "[encoded data removed]",
      "text/plain": [
       "<Figure size 432x288 with 1 Axes>"
      ]
     },
     "metadata": {
      "needs_background": "light"
     },
     "output_type": "display_data"
    }
   ],
   "source": [
    "from matplotlib import pyplot as plt\n",
    "crash_per_year_df.plot('Year','Crashes')"
   ]
  },
  {
   "cell_type": "code",
   "execution_count": 53,
   "id": "5ada653e",
   "metadata": {},
   "outputs": [
    {
     "name": "stdout",
     "output_type": "stream",
     "text": [
      "        Month  Crashes\n",
      "6     January      559\n",
      "10   February      482\n",
      "7       March      542\n",
      "11      April      446\n",
      "5         May      580\n",
      "4        June      586\n",
      "8        July      531\n",
      "9      August      512\n",
      "1   September      647\n",
      "0     October      695\n",
      "2    November      625\n",
      "3    December      604\n"
     ]
    }
   ],
   "source": [
    "Crashes_per_month=df['Crash Month'].value_counts().rename_axis('Month').reset_index(name='Crashes')\n",
    "month_dict={'January':1,'February':2,'March':3,'April':4,'May':5,'June':6,'July':7,'August':8,'September':9,'October':10,'November':11,'December':12}\n",
    "new_Crashes_per_month=Crashes_per_month.sort_values('Month', key=lambda x: x.apply(lambda x: month_dict[x]))\n",
    "print(new_Crashes_per_month)"
   ]
  },
  {
   "cell_type": "code",
   "execution_count": 78,
   "id": "b9a4bf27",
   "metadata": {},
   "outputs": [
    {
     "data": {
      "text/plain": [
       "<AxesSubplot:xlabel='Month'>"
      ]
     },
     "execution_count": 78,
     "metadata": {},
     "output_type": "execute_result"
    },
    {
     "data": {
      "image/png": "[encoded data removed]",
      "text/plain": [
       "<Figure size 432x288 with 1 Axes>"
      ]
     },
     "metadata": {
      "needs_background": "light"
     },
     "output_type": "display_data"
    }
   ],
   "source": [
    "new_Crashes_per_month.plot.bar(x='Month',y='Crashes')"
   ]
  },
  {
   "cell_type": "code",
   "execution_count": 61,
   "id": "4203d5ef",
   "metadata": {},
   "outputs": [
    {
     "name": "stdout",
     "output_type": "stream",
     "text": [
      "              Time of the day  Crashes\n",
      "0           6:00 PM - 7:00 PM      535\n",
      "1           7:00 PM - 8:00 PM      498\n",
      "2           5:00 PM - 6:00 PM      491\n",
      "3           3:00 PM - 4:00 PM      461\n",
      "4           4:00 PM - 5:00 PM      452\n",
      "5           8:00 PM - 9:00 PM      439\n",
      "6          9:00 PM - 10:00 PM      353\n",
      "7           2:00 PM - 3:00 PM      342\n",
      "8         10:00 PM - 11:00 PM      336\n",
      "9           7:00 AM - 8:00 AM      314\n",
      "10  11:00 PM - 12:00 midnight      289\n",
      "11       12:00 noon - 1:00 PM      273\n",
      "12          1:00 PM - 2:00 PM      270\n",
      "13          8:00 AM - 9:00 AM      233\n",
      "14      11:00 AM - 12:00 noon      231\n",
      "15        10:00 AM - 11:00 AM      195\n",
      "16          2:00 AM - 3:00 AM      184\n",
      "17   12:00 midnight - 1:00 AM      177\n",
      "18         9:00 AM - 10:00 AM      165\n",
      "19          1:00 AM - 2:00 AM      159\n",
      "20          6:00 AM - 7:00 AM      147\n",
      "21          5:00 AM - 6:00 AM       93\n",
      "22          3:00 AM - 4:00 AM       89\n",
      "23          4:00 AM - 5:00 AM       77\n",
      "<class 'pandas.core.frame.DataFrame'>\n",
      "RangeIndex: 25 entries, 0 to 24\n",
      "Data columns (total 2 columns):\n",
      " #   Column           Non-Null Count  Dtype \n",
      "---  ------           --------------  ----- \n",
      " 0   Time of the day  25 non-null     object\n",
      " 1   Crashes          25 non-null     int64 \n",
      "dtypes: int64(1), object(1)\n",
      "memory usage: 528.0+ bytes\n",
      "None\n"
     ]
    }
   ],
   "source": [
    "crashes_per_time_of_day=df['Time of Day'].value_counts().rename_axis('Time of the day').reset_index(name='Crashes')\n",
    "print(crashes_per_time_of_day[0:24])\n",
    "print(crashes_per_time_of_day.info())\n"
   ]
  },
  {
   "cell_type": "code",
   "execution_count": 108,
   "id": "f667d31a",
   "metadata": {},
   "outputs": [
    {
     "name": "stdout",
     "output_type": "stream",
     "text": [
      "              Time of the day  Crashes AM/PM/Noon\n",
      "0           6:00 PM - 7:00 PM      535         PM\n",
      "1           7:00 PM - 8:00 PM      498         PM\n",
      "2           5:00 PM - 6:00 PM      491         PM\n",
      "3           3:00 PM - 4:00 PM      461         PM\n",
      "4           4:00 PM - 5:00 PM      452         PM\n",
      "5           8:00 PM - 9:00 PM      439         PM\n",
      "6          9:00 PM - 10:00 PM      353         PM\n",
      "7           2:00 PM - 3:00 PM      342         PM\n",
      "8         10:00 PM - 11:00 PM      336         PM\n",
      "9           7:00 AM - 8:00 AM      314         AM\n",
      "10  11:00 PM - 12:00 midnight      289   midnight\n",
      "11       12:00 noon - 1:00 PM      273         PM\n",
      "12          1:00 PM - 2:00 PM      270         PM\n",
      "13          8:00 AM - 9:00 AM      233         AM\n",
      "14      11:00 AM - 12:00 noon      231       noon\n",
      "15        10:00 AM - 11:00 AM      195         AM\n",
      "16          2:00 AM - 3:00 AM      184         AM\n",
      "17   12:00 midnight - 1:00 AM      177         AM\n",
      "18         9:00 AM - 10:00 AM      165         AM\n",
      "19          1:00 AM - 2:00 AM      159         AM\n",
      "20          6:00 AM - 7:00 AM      147         AM\n",
      "21          5:00 AM - 6:00 AM       93         AM\n",
      "22          3:00 AM - 4:00 AM       89         AM\n",
      "23          4:00 AM - 5:00 AM       77         AM\n",
      "24                    Unknown        6    Unknown\n"
     ]
    }
   ],
   "source": [
    "crashes_per_time_of_day['AM/PM/Noon']=crashes_per_time_of_day['Time of the day'].apply(lambda x:x.split()[-1])\n",
    "del crashes_per_time_of_day['AM/PM/Noon/Midnight']\n",
    "print(crashes_per_time_of_day)\n"
   ]
  },
  {
   "cell_type": "code",
   "execution_count": 129,
   "id": "910583d0",
   "metadata": {},
   "outputs": [
    {
     "name": "stdout",
     "output_type": "stream",
     "text": [
      "4450 1833 526\n"
     ]
    }
   ],
   "source": [
    "sum=0\n",
    "sum2=0\n",
    "sum3=0\n",
    "j=0\n",
    "for i in crashes_per_time_of_day['AM/PM/Noon']:\n",
    "    if (i=='PM'):\n",
    "        sum+=crashes_per_time_of_day._get_value(j,'Crashes')\n",
    "        j+=1\n",
    "    elif (i=='AM'):\n",
    "        sum2+=crashes_per_time_of_day._get_value(j,'Crashes')\n",
    "        j+=1\n",
    "    else:\n",
    "        sum3+=crashes_per_time_of_day._get_value(j,'Crashes')\n",
    "        j+=1\n",
    "print(sum,sum2,sum3)"
   ]
  },
  {
   "cell_type": "code",
   "execution_count": 134,
   "id": "1faad761",
   "metadata": {},
   "outputs": [
    {
     "data": {
      "text/plain": [
       "[<matplotlib.lines.Line2D at 0x21aa4c642b0>]"
      ]
     },
     "execution_count": 134,
     "metadata": {},
     "output_type": "execute_result"
    },
    {
     "data": {
      "image/png": "[encoded data removed]",
      "text/plain": [
       "<Figure size 432x288 with 1 Axes>"
      ]
     },
     "metadata": {
      "needs_background": "light"
     },
     "output_type": "display_data"
    }
   ],
   "source": [
    "list=[['PM',4450],['AM',1833],['Mid-Moon',526]]\n",
    "AM_PM=[i[0] for i in list]\n",
    "Crashes=[i[1] for i in list]\n",
    "plt.plot(AM_PM,Crashes)\n"
   ]
  },
  {
   "cell_type": "code",
   "execution_count": null,
   "id": "91fb7d3f",
   "metadata": {},
   "outputs": [],
   "source": []
  }
 ],
 "metadata": {
  "language_info": {
   "codemirror_mode": {
    "name": "ipython",
    "version": 3
   },
   "file_extension": ".py",
   "mimetype": "text/x-python",
   "name": "python",
   "nbconvert_exporter": "python",
   "pygments_lexer": "ipython3",
   "version": "3.9.12"
  }
 },
 "nbformat": 4,
 "nbformat_minor": 5
}
